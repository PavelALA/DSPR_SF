{
  "cells": [
    {
      "attachments": {},
      "cell_type": "markdown",
      "metadata": {
        "id": "yMG_XPwziMUN"
      },
      "source": [
        "# <center> Исследование данных HR-агенства."
      ]
    },
    {
      "attachments": {},
      "cell_type": "markdown",
      "metadata": {
        "id": "EMd2vwh8ihnl"
      },
      "source": [
        "## Постановка задачи\n",
        "\n",
        "HR-агентство изучает тренды на рынке труда в IT. Компания хочет провести исследование на основе данных о зарплатах в сфере Data Science за 2020–2022 годы и получить некоторые выводы.\n",
        "\n",
        "HR-агенство хочет ответить на ***следующие ключевые вопросы***:\n",
        "\n",
        "\n",
        "- Какие факторы влияют на зарплату у специалистов Data Scientist?\n",
        "- Наблюдается ли рост зарплат у специалистов Data Scientist за каждый год?\n",
        "- Как соотносятся зарплаты Data Scientist и Data Engineer в 2022 году?\n",
        "- Как соотносятся зарплаты Data Scientist и Data Engineer в компаниях различных размеров?\n",
        "- Есть ли связь между наличием должностей Data Scientist и Data Engineer и размером компании?\n",
        "\n",
        "На каждый вопрос необходимо ответить с уровнем значимости $\\alpha=0.05$."
      ]
    },
    {
      "attachments": {},
      "cell_type": "markdown",
      "metadata": {
        "id": "xqjB2nBnNNkc"
      },
      "source": [
        "Ответить на эти вопросы нам помогут данные о зарплатах в сфере Data Science за 2020–2022 годы.\n",
        "\n",
        "Данные содержат следующие столбцы:\n",
        "-   *work_year* — Год, в котором была выплачена зарплата;\n",
        "-   *experience_level* — Опыт работы на этой должности в течение года со следующими возможными значениями:\n",
        "    - *EN* — Entry-level/Junior;\n",
        "    - *MI* — Mid-level/Intermediate;\n",
        "    - *SE* — Senior-level/Expert;\n",
        "    - *EX* — Executive-level/Director;\n",
        "-   *employment_type* — Тип трудоустройства для этой роли:\n",
        "    - *PT* — неполный рабочий день;\n",
        "    - *FT* — полный рабочий день;\n",
        "    - *CT* — контракт;\n",
        "    - *FL* — фриланс;\n",
        "-   *job_title* — Роль, в которой соискатель работал в течение года;\n",
        "-   *salary* — Общая выплаченная валовая сумма заработной платы;\n",
        "-   *salary_currency* — Валюта выплачиваемой заработной платы в виде кода валюты ISO 4217;\n",
        "-   *salary_in_usd* — Зарплата в долларах США (валютный курс, делённый на среднее значение курса доллара США за соответствующий год через *fxdata.foorilla.com)*;\n",
        "-   *employee_residence* - Основная страна проживания сотрудника в течение рабочего года в виде кода страны ISO 3166;\n",
        "-   *remote_ratio* - Общий объём работы, выполняемой удалённо. Возможные значения:\n",
        "    - *0* — удалённой работы нет (менее 20 %);\n",
        "    - *50* — частично удалённая работа;\n",
        "    - *100* — полностью удалённая работа (более 80 %);\n",
        "-   *company_location* - Страна главного офиса работодателя или филиала по контракту в виде кода страны ISO 3166;\n",
        "-   *company_size* - Среднее количество людей, работавших в компании в течение года:\n",
        "    - *S* — менее 50 сотрудников (небольшая компания);\n",
        "    - *M* — от 50 до 250 сотрудников (средняя компания);\n",
        "    - *L* — более 250 сотрудников (крупная компания).\n",
        "\n",
        "Источник датасета: [“Data Science Job Salaries” (kaggle.com)](https://www.kaggle.com/datasets/ruchi798/data-science-job-salaries)"
      ]
    },
    {
      "attachments": {},
      "cell_type": "markdown",
      "metadata": {
        "id": "_XMyOg3cgcN1"
      },
      "source": [
        "## 1. Загрузка и обработка данных"
      ]
    },
    {
      "cell_type": "code",
      "execution_count": 1,
      "metadata": {
        "id": "2JjaPf35gyCK"
      },
      "outputs": [],
      "source": [
        "# загружаем необходимые библиотеки\n",
        "import pandas as pd\n",
        "import numpy as np\n",
        "\n",
        "from scipy import stats\n",
        "import statsmodels.api as sm\n",
        "from statsmodels import stats as sms\n",
        "\n",
        "import matplotlib.pyplot as plt\n",
        "import seaborn as sns\n",
        "\n",
        "import plotly\n",
        "import plotly.express as px\n",
        "\n",
        "# делаем визуальную настройку графиков\n",
        "sns.set_theme(\"notebook\") \n",
        "sns.set_palette(\"Set2\") "
      ]
    },
    {
      "attachments": {},
      "cell_type": "markdown",
      "metadata": {},
      "source": [
        "Загружаем датасет"
      ]
    },
    {
      "cell_type": "code",
      "execution_count": 2,
      "metadata": {
        "colab": {
          "base_uri": "https://localhost:8080/",
          "height": 206
        },
        "id": "ZPiI902dv11F",
        "outputId": "eccef1b9-a3cc-4144-a9df-a2a020abf30c"
      },
      "outputs": [
        {
          "data": {
            "text/html": [
              "<div>\n",
              "<style scoped>\n",
              "    .dataframe tbody tr th:only-of-type {\n",
              "        vertical-align: middle;\n",
              "    }\n",
              "\n",
              "    .dataframe tbody tr th {\n",
              "        vertical-align: top;\n",
              "    }\n",
              "\n",
              "    .dataframe thead th {\n",
              "        text-align: right;\n",
              "    }\n",
              "</style>\n",
              "<table border=\"1\" class=\"dataframe\">\n",
              "  <thead>\n",
              "    <tr style=\"text-align: right;\">\n",
              "      <th></th>\n",
              "      <th>work_year</th>\n",
              "      <th>experience_level</th>\n",
              "      <th>employment_type</th>\n",
              "      <th>job_title</th>\n",
              "      <th>salary</th>\n",
              "      <th>salary_currency</th>\n",
              "      <th>salary_in_usd</th>\n",
              "      <th>employee_residence</th>\n",
              "      <th>remote_ratio</th>\n",
              "      <th>company_location</th>\n",
              "      <th>company_size</th>\n",
              "    </tr>\n",
              "  </thead>\n",
              "  <tbody>\n",
              "    <tr>\n",
              "      <th>0</th>\n",
              "      <td>2020</td>\n",
              "      <td>MI</td>\n",
              "      <td>FT</td>\n",
              "      <td>Data Scientist</td>\n",
              "      <td>70000</td>\n",
              "      <td>EUR</td>\n",
              "      <td>79833</td>\n",
              "      <td>DE</td>\n",
              "      <td>0</td>\n",
              "      <td>DE</td>\n",
              "      <td>L</td>\n",
              "    </tr>\n",
              "    <tr>\n",
              "      <th>1</th>\n",
              "      <td>2020</td>\n",
              "      <td>SE</td>\n",
              "      <td>FT</td>\n",
              "      <td>Machine Learning Scientist</td>\n",
              "      <td>260000</td>\n",
              "      <td>USD</td>\n",
              "      <td>260000</td>\n",
              "      <td>JP</td>\n",
              "      <td>0</td>\n",
              "      <td>JP</td>\n",
              "      <td>S</td>\n",
              "    </tr>\n",
              "    <tr>\n",
              "      <th>2</th>\n",
              "      <td>2020</td>\n",
              "      <td>SE</td>\n",
              "      <td>FT</td>\n",
              "      <td>Big Data Engineer</td>\n",
              "      <td>85000</td>\n",
              "      <td>GBP</td>\n",
              "      <td>109024</td>\n",
              "      <td>GB</td>\n",
              "      <td>50</td>\n",
              "      <td>GB</td>\n",
              "      <td>M</td>\n",
              "    </tr>\n",
              "    <tr>\n",
              "      <th>3</th>\n",
              "      <td>2020</td>\n",
              "      <td>MI</td>\n",
              "      <td>FT</td>\n",
              "      <td>Product Data Analyst</td>\n",
              "      <td>20000</td>\n",
              "      <td>USD</td>\n",
              "      <td>20000</td>\n",
              "      <td>HN</td>\n",
              "      <td>0</td>\n",
              "      <td>HN</td>\n",
              "      <td>S</td>\n",
              "    </tr>\n",
              "    <tr>\n",
              "      <th>4</th>\n",
              "      <td>2020</td>\n",
              "      <td>SE</td>\n",
              "      <td>FT</td>\n",
              "      <td>Machine Learning Engineer</td>\n",
              "      <td>150000</td>\n",
              "      <td>USD</td>\n",
              "      <td>150000</td>\n",
              "      <td>US</td>\n",
              "      <td>50</td>\n",
              "      <td>US</td>\n",
              "      <td>L</td>\n",
              "    </tr>\n",
              "  </tbody>\n",
              "</table>\n",
              "</div>"
            ],
            "text/plain": [
              "   work_year experience_level employment_type                   job_title  \\\n",
              "0       2020               MI              FT              Data Scientist   \n",
              "1       2020               SE              FT  Machine Learning Scientist   \n",
              "2       2020               SE              FT           Big Data Engineer   \n",
              "3       2020               MI              FT        Product Data Analyst   \n",
              "4       2020               SE              FT   Machine Learning Engineer   \n",
              "\n",
              "   salary salary_currency  salary_in_usd employee_residence  remote_ratio  \\\n",
              "0   70000             EUR          79833                 DE             0   \n",
              "1  260000             USD         260000                 JP             0   \n",
              "2   85000             GBP         109024                 GB            50   \n",
              "3   20000             USD          20000                 HN             0   \n",
              "4  150000             USD         150000                 US            50   \n",
              "\n",
              "  company_location company_size  \n",
              "0               DE            L  \n",
              "1               JP            S  \n",
              "2               GB            M  \n",
              "3               HN            S  \n",
              "4               US            L  "
            ]
          },
          "execution_count": 2,
          "metadata": {},
          "output_type": "execute_result"
        }
      ],
      "source": [
        "# загружаем датасет\n",
        "data = pd.read_csv('data/ds_salaries.csv',index_col='Unnamed: 0')\n",
        "data.head()"
      ]
    },
    {
      "cell_type": "code",
      "execution_count": 3,
      "metadata": {
        "colab": {
          "base_uri": "https://localhost:8080/"
        },
        "id": "uLEEV6aLomOU",
        "outputId": "23314b21-aa3f-4537-94cb-be776d9427ae"
      },
      "outputs": [
        {
          "name": "stdout",
          "output_type": "stream",
          "text": [
            "Уровень значимости alpha = 0.05\n"
          ]
        }
      ],
      "source": [
        "# задаём уровень значимости\n",
        "alpha = 0.05 \n",
        "print(\"Уровень значимости alpha = {:.2f}\".format(alpha))"
      ]
    },
    {
      "cell_type": "markdown",
      "metadata": {
        "id": "c9QRWWOVfV13"
      },
      "source": [
        "## Описательный анализ данных"
      ]
    },
    {
      "cell_type": "code",
      "execution_count": 4,
      "metadata": {
        "colab": {
          "base_uri": "https://localhost:8080/"
        },
        "id": "zkiOmlAy2XQU",
        "outputId": "88adbac3-0fd7-460c-a368-c40baff97200"
      },
      "outputs": [
        {
          "name": "stdout",
          "output_type": "stream",
          "text": [
            "<class 'pandas.core.frame.DataFrame'>\n",
            "Int64Index: 607 entries, 0 to 606\n",
            "Data columns (total 11 columns):\n",
            " #   Column              Non-Null Count  Dtype \n",
            "---  ------              --------------  ----- \n",
            " 0   work_year           607 non-null    int64 \n",
            " 1   experience_level    607 non-null    object\n",
            " 2   employment_type     607 non-null    object\n",
            " 3   job_title           607 non-null    object\n",
            " 4   salary              607 non-null    int64 \n",
            " 5   salary_currency     607 non-null    object\n",
            " 6   salary_in_usd       607 non-null    int64 \n",
            " 7   employee_residence  607 non-null    object\n",
            " 8   remote_ratio        607 non-null    int64 \n",
            " 9   company_location    607 non-null    object\n",
            " 10  company_size        607 non-null    object\n",
            "dtypes: int64(4), object(7)\n",
            "memory usage: 56.9+ KB\n"
          ]
        }
      ],
      "source": [
        "data.info()"
      ]
    },
    {
      "attachments": {},
      "cell_type": "markdown",
      "metadata": {
        "id": "2DSvnZuul7Za"
      },
      "source": [
        "В датасете 607 записей (без пропущенных значений).\n",
        "\n",
        "Формат данных соответстует информации в датасете."
      ]
    },
    {
      "cell_type": "markdown",
      "metadata": {
        "id": "Xug87trzl7Za"
      },
      "source": [
        "Проверим данные на наличие полных дубликатов:"
      ]
    },
    {
      "cell_type": "code",
      "execution_count": 5,
      "metadata": {
        "colab": {
          "base_uri": "https://localhost:8080/"
        },
        "id": "As_X7I6jl7Za",
        "outputId": "3d3795b3-ab7c-4cc6-ab3d-23a4796a7b5c"
      },
      "outputs": [
        {
          "name": "stdout",
          "output_type": "stream",
          "text": [
            "Количество дубликатов: 42\n",
            "Размер таблицы после удаления дубликатов: (565, 11)\n"
          ]
        }
      ],
      "source": [
        "print('Количество дубликатов: {}'.format(data[data.duplicated()].shape[0]))\n",
        "\n",
        "# Удаляем дубликаты:\n",
        "data = data.drop_duplicates()\n",
        "print('Размер таблицы после удаления дубликатов: {}'.format(data.shape))"
      ]
    },
    {
      "attachments": {},
      "cell_type": "markdown",
      "metadata": {},
      "source": [
        "В датасете имеются неинформативные признаки, такие как *salary* и *salary_currency* которые не имеют информационной значимости и подлежат удалению из фрейма."
      ]
    },
    {
      "cell_type": "code",
      "execution_count": 6,
      "metadata": {},
      "outputs": [
        {
          "name": "stdout",
          "output_type": "stream",
          "text": [
            "<class 'pandas.core.frame.DataFrame'>\n",
            "Int64Index: 565 entries, 0 to 606\n",
            "Data columns (total 9 columns):\n",
            " #   Column              Non-Null Count  Dtype \n",
            "---  ------              --------------  ----- \n",
            " 0   work_year           565 non-null    int64 \n",
            " 1   experience_level    565 non-null    object\n",
            " 2   employment_type     565 non-null    object\n",
            " 3   job_title           565 non-null    object\n",
            " 4   salary_in_usd       565 non-null    int64 \n",
            " 5   employee_residence  565 non-null    object\n",
            " 6   remote_ratio        565 non-null    int64 \n",
            " 7   company_location    565 non-null    object\n",
            " 8   company_size        565 non-null    object\n",
            "dtypes: int64(3), object(6)\n",
            "memory usage: 44.1+ KB\n"
          ]
        }
      ],
      "source": [
        "data.drop(['salary','salary_currency'],axis=1,inplace=True)\n",
        "data.info()"
      ]
    },
    {
      "attachments": {},
      "cell_type": "markdown",
      "metadata": {},
      "source": [
        "Определим число уникальных категорий в каждом столбце датафрейма"
      ]
    },
    {
      "cell_type": "code",
      "execution_count": 7,
      "metadata": {},
      "outputs": [
        {
          "data": {
            "text/html": [
              "<div>\n",
              "<style scoped>\n",
              "    .dataframe tbody tr th:only-of-type {\n",
              "        vertical-align: middle;\n",
              "    }\n",
              "\n",
              "    .dataframe tbody tr th {\n",
              "        vertical-align: top;\n",
              "    }\n",
              "\n",
              "    .dataframe thead th {\n",
              "        text-align: right;\n",
              "    }\n",
              "</style>\n",
              "<table border=\"1\" class=\"dataframe\">\n",
              "  <thead>\n",
              "    <tr style=\"text-align: right;\">\n",
              "      <th></th>\n",
              "      <th>Column_name</th>\n",
              "      <th>Num_Unique</th>\n",
              "      <th>Tupe</th>\n",
              "    </tr>\n",
              "  </thead>\n",
              "  <tbody>\n",
              "    <tr>\n",
              "      <th>0</th>\n",
              "      <td>work_year</td>\n",
              "      <td>3</td>\n",
              "      <td>int64</td>\n",
              "    </tr>\n",
              "    <tr>\n",
              "      <th>1</th>\n",
              "      <td>remote_ratio</td>\n",
              "      <td>3</td>\n",
              "      <td>int64</td>\n",
              "    </tr>\n",
              "    <tr>\n",
              "      <th>2</th>\n",
              "      <td>company_size</td>\n",
              "      <td>3</td>\n",
              "      <td>object</td>\n",
              "    </tr>\n",
              "    <tr>\n",
              "      <th>3</th>\n",
              "      <td>experience_level</td>\n",
              "      <td>4</td>\n",
              "      <td>object</td>\n",
              "    </tr>\n",
              "    <tr>\n",
              "      <th>4</th>\n",
              "      <td>employment_type</td>\n",
              "      <td>4</td>\n",
              "      <td>object</td>\n",
              "    </tr>\n",
              "    <tr>\n",
              "      <th>5</th>\n",
              "      <td>job_title</td>\n",
              "      <td>50</td>\n",
              "      <td>object</td>\n",
              "    </tr>\n",
              "    <tr>\n",
              "      <th>6</th>\n",
              "      <td>company_location</td>\n",
              "      <td>50</td>\n",
              "      <td>object</td>\n",
              "    </tr>\n",
              "    <tr>\n",
              "      <th>7</th>\n",
              "      <td>employee_residence</td>\n",
              "      <td>57</td>\n",
              "      <td>object</td>\n",
              "    </tr>\n",
              "    <tr>\n",
              "      <th>8</th>\n",
              "      <td>salary_in_usd</td>\n",
              "      <td>369</td>\n",
              "      <td>int64</td>\n",
              "    </tr>\n",
              "  </tbody>\n",
              "</table>\n",
              "</div>"
            ],
            "text/plain": [
              "          Column_name  Num_Unique    Tupe\n",
              "0           work_year           3   int64\n",
              "1        remote_ratio           3   int64\n",
              "2        company_size           3  object\n",
              "3    experience_level           4  object\n",
              "4     employment_type           4  object\n",
              "5           job_title          50  object\n",
              "6    company_location          50  object\n",
              "7  employee_residence          57  object\n",
              "8       salary_in_usd         369   int64"
            ]
          },
          "execution_count": 7,
          "metadata": {},
          "output_type": "execute_result"
        }
      ],
      "source": [
        "unique_list = []\n",
        "# пробежим по имени стобцов в таблице\n",
        "for col in data.columns:\n",
        "    # создадим кортеж(имя стобца, число уникальных значений)\n",
        "    item = (col,data[col].nunique(),data[col].dtype)\n",
        "    # добавляем кортеж в список\n",
        "    unique_list.append(item)\n",
        "#создаем вспомогательную таблицу и сортируем ее\n",
        "unique_count = pd.DataFrame(\n",
        "    unique_list, \n",
        "    columns=['Column_name','Num_Unique','Tupe']\n",
        ").sort_values(by='Num_Unique',ignore_index=True)\n",
        "unique_count"
      ]
    },
    {
      "attachments": {},
      "cell_type": "markdown",
      "metadata": {},
      "source": [
        "Для оптимизации работы сделаем преобразование столбцов к типу *category*"
      ]
    },
    {
      "cell_type": "code",
      "execution_count": 8,
      "metadata": {},
      "outputs": [
        {
          "name": "stdout",
          "output_type": "stream",
          "text": [
            "<class 'pandas.core.frame.DataFrame'>\n",
            "Int64Index: 565 entries, 0 to 606\n",
            "Data columns (total 9 columns):\n",
            " #   Column              Non-Null Count  Dtype   \n",
            "---  ------              --------------  -----   \n",
            " 0   work_year           565 non-null    int64   \n",
            " 1   experience_level    565 non-null    category\n",
            " 2   employment_type     565 non-null    category\n",
            " 3   job_title           565 non-null    object  \n",
            " 4   salary_in_usd       565 non-null    int64   \n",
            " 5   employee_residence  565 non-null    object  \n",
            " 6   remote_ratio        565 non-null    category\n",
            " 7   company_location    565 non-null    object  \n",
            " 8   company_size        565 non-null    category\n",
            "dtypes: category(4), int64(2), object(3)\n",
            "memory usage: 29.3+ KB\n"
          ]
        }
      ],
      "source": [
        "#список столбцов, который не берется во внимание\n",
        "cols_to_exclude = ['work_year']\n",
        "#задаем максимальное число ункальных категорий\n",
        "max_unique_count = 5\n",
        "for col in data.columns:\n",
        "    if data[col].nunique() < max_unique_count and col not in cols_to_exclude: #проверяем условие\n",
        "        data[col] = data[col].astype('category') #преобразуем тип\n",
        "\n",
        "data.info()"
      ]
    },
    {
      "attachments": {},
      "cell_type": "markdown",
      "metadata": {},
      "source": [
        "Изучим статистические характеристики для признаков."
      ]
    },
    {
      "cell_type": "code",
      "execution_count": 9,
      "metadata": {},
      "outputs": [
        {
          "data": {
            "text/plain": [
              "count       565.000000\n",
              "mean     110610.343363\n",
              "std       72280.702792\n",
              "min        2859.000000\n",
              "25%       60757.000000\n",
              "50%      100000.000000\n",
              "75%      150000.000000\n",
              "max      600000.000000\n",
              "Name: salary_in_usd, dtype: float64"
            ]
          },
          "execution_count": 9,
          "metadata": {},
          "output_type": "execute_result"
        }
      ],
      "source": [
        "data['salary_in_usd'].describe()"
      ]
    },
    {
      "attachments": {},
      "cell_type": "markdown",
      "metadata": {},
      "source": [
        "Признак 'salary_in_usd' (Зарплата в долларах США) имеет большой разброс значение (от 2859 до 60000), различный показатели среднего и медианного уровней, что может свидетельствовать о наличии выбосов и отличии распредедления от нормального."
      ]
    },
    {
      "cell_type": "code",
      "execution_count": 10,
      "metadata": {},
      "outputs": [
        {
          "data": {
            "text/html": [
              "<div>\n",
              "<style scoped>\n",
              "    .dataframe tbody tr th:only-of-type {\n",
              "        vertical-align: middle;\n",
              "    }\n",
              "\n",
              "    .dataframe tbody tr th {\n",
              "        vertical-align: top;\n",
              "    }\n",
              "\n",
              "    .dataframe thead th {\n",
              "        text-align: right;\n",
              "    }\n",
              "</style>\n",
              "<table border=\"1\" class=\"dataframe\">\n",
              "  <thead>\n",
              "    <tr style=\"text-align: right;\">\n",
              "      <th></th>\n",
              "      <th>experience_level</th>\n",
              "      <th>employment_type</th>\n",
              "      <th>job_title</th>\n",
              "      <th>employee_residence</th>\n",
              "      <th>remote_ratio</th>\n",
              "      <th>company_location</th>\n",
              "      <th>company_size</th>\n",
              "    </tr>\n",
              "  </thead>\n",
              "  <tbody>\n",
              "    <tr>\n",
              "      <th>count</th>\n",
              "      <td>565</td>\n",
              "      <td>565</td>\n",
              "      <td>565</td>\n",
              "      <td>565</td>\n",
              "      <td>565</td>\n",
              "      <td>565</td>\n",
              "      <td>565</td>\n",
              "    </tr>\n",
              "    <tr>\n",
              "      <th>unique</th>\n",
              "      <td>4</td>\n",
              "      <td>4</td>\n",
              "      <td>50</td>\n",
              "      <td>57</td>\n",
              "      <td>3</td>\n",
              "      <td>50</td>\n",
              "      <td>3</td>\n",
              "    </tr>\n",
              "    <tr>\n",
              "      <th>top</th>\n",
              "      <td>SE</td>\n",
              "      <td>FT</td>\n",
              "      <td>Data Scientist</td>\n",
              "      <td>US</td>\n",
              "      <td>100</td>\n",
              "      <td>US</td>\n",
              "      <td>M</td>\n",
              "    </tr>\n",
              "    <tr>\n",
              "      <th>freq</th>\n",
              "      <td>243</td>\n",
              "      <td>546</td>\n",
              "      <td>130</td>\n",
              "      <td>295</td>\n",
              "      <td>346</td>\n",
              "      <td>318</td>\n",
              "      <td>290</td>\n",
              "    </tr>\n",
              "  </tbody>\n",
              "</table>\n",
              "</div>"
            ],
            "text/plain": [
              "       experience_level employment_type       job_title employee_residence  \\\n",
              "count               565             565             565                565   \n",
              "unique                4               4              50                 57   \n",
              "top                  SE              FT  Data Scientist                 US   \n",
              "freq                243             546             130                295   \n",
              "\n",
              "        remote_ratio company_location company_size  \n",
              "count            565              565          565  \n",
              "unique             3               50            3  \n",
              "top              100               US            M  \n",
              "freq             346              318          290  "
            ]
          },
          "execution_count": 10,
          "metadata": {},
          "output_type": "execute_result"
        }
      ],
      "source": [
        "data.describe(include=['category','object'])"
      ]
    },
    {
      "attachments": {},
      "cell_type": "markdown",
      "metadata": {},
      "source": [
        "При просмотре описательной статистики категориальных признаков можно отметить, что в признаке *experience_level* (Опыт работы) наиболее востребованным является уровень *Senior-level/Expert* (43% от бощего числа значений), а по признаку *employment_type* (Тип трудоустройства) наибольшее (подавляющее) предпочтение отдается полному рабочему дню (96,6% значений); В названиях профессий наиболее часто встечается професси *Data Scientist* (23%). В данных представлены значения зарплат сотрудников из 57 стран, наиболее популярной из которых является США (52% значенией), а наибольшей популярностью пользуется полностью удалённая работа (61% значений). Страны главного офиса работодателя или филиала по контракту представлены 50 странами, наибольшее количесвто из которых находится в США (56% значений), а большинство компаний являются средними по числу сотрудников (51% значений)"
      ]
    },
    {
      "attachments": {},
      "cell_type": "markdown",
      "metadata": {},
      "source": [
        "## 2. Разведывательный анализ данных"
      ]
    },
    {
      "attachments": {},
      "cell_type": "markdown",
      "metadata": {},
      "source": [
        "### 2.1 Визуальный анализ данных"
      ]
    },
    {
      "attachments": {},
      "cell_type": "markdown",
      "metadata": {
        "id": "6uAbyderTaNx"
      },
      "source": [
        "#### Распределение уровня зарплат по всем значениям"
      ]
    },
    {
      "cell_type": "code",
      "execution_count": 11,
      "metadata": {
        "colab": {
          "base_uri": "https://localhost:8080/",
          "height": 496
        },
        "id": "KX6k6B2NWJ8t",
        "outputId": "523d571d-679e-4926-fe74-dc130c6a1b53"
      },
      "outputs": [
        {
          "data": {
            "image/png": "[encoded data removed]",
            "text/plain": [
              "<Figure size 1500x500 with 2 Axes>"
            ]
          },
          "metadata": {},
          "output_type": "display_data"
        }
      ],
      "source": [
        "fig, axes = plt.subplots(1, 2, figsize=(15, 5))\n",
        "\n",
        "sns.histplot(data['salary_in_usd'], kde=True, ax=axes[0])\n",
        "axes[0].set(xlabel='Зарплата в долларах США', ylabel='Частота')\n",
        "axes[0].set_title('Уровень зарплаты в долларах США')\n",
        "axes[0].axvline(data['salary_in_usd'].mean(), color='red', linestyle='--', linewidth=0.8)\n",
        "\n",
        "sns.boxplot(data['salary_in_usd'], ax=axes[1], orient='h', medianprops={\"color\": \"red\", \"linestyle\": '--'})\n",
        "axes[1].set(ylabel='Зарплата в долларах США')\n",
        "axes[1].set_title('Уровень зарплаты в долларах США')\n",
        "\n",
        "plt.show()"
      ]
    },
    {
      "cell_type": "code",
      "execution_count": 45,
      "metadata": {
        "colab": {
          "base_uri": "https://localhost:8080/",
          "height": 300
        },
        "id": "h4rqfECm4umv",
        "outputId": "3edbc181-1016-488d-ef8c-6dfc5dbbfee1"
      },
      "outputs": [
        {
          "data": {
            "text/html": [
              "<div>\n",
              "<style scoped>\n",
              "    .dataframe tbody tr th:only-of-type {\n",
              "        vertical-align: middle;\n",
              "    }\n",
              "\n",
              "    .dataframe tbody tr th {\n",
              "        vertical-align: top;\n",
              "    }\n",
              "\n",
              "    .dataframe thead th {\n",
              "        text-align: right;\n",
              "    }\n",
              "</style>\n",
              "<table border=\"1\" class=\"dataframe\">\n",
              "  <thead>\n",
              "    <tr style=\"text-align: right;\">\n",
              "      <th></th>\n",
              "      <th>Размер зарпаты в USD</th>\n",
              "    </tr>\n",
              "  </thead>\n",
              "  <tbody>\n",
              "    <tr>\n",
              "      <th>count</th>\n",
              "      <td>565.00</td>\n",
              "    </tr>\n",
              "    <tr>\n",
              "      <th>mean</th>\n",
              "      <td>110610.34</td>\n",
              "    </tr>\n",
              "    <tr>\n",
              "      <th>std</th>\n",
              "      <td>72280.70</td>\n",
              "    </tr>\n",
              "    <tr>\n",
              "      <th>min</th>\n",
              "      <td>2859.00</td>\n",
              "    </tr>\n",
              "    <tr>\n",
              "      <th>25%</th>\n",
              "      <td>60757.00</td>\n",
              "    </tr>\n",
              "    <tr>\n",
              "      <th>50%</th>\n",
              "      <td>100000.00</td>\n",
              "    </tr>\n",
              "    <tr>\n",
              "      <th>75%</th>\n",
              "      <td>150000.00</td>\n",
              "    </tr>\n",
              "    <tr>\n",
              "      <th>max</th>\n",
              "      <td>600000.00</td>\n",
              "    </tr>\n",
              "  </tbody>\n",
              "</table>\n",
              "</div>"
            ],
            "text/plain": [
              "       Размер зарпаты в USD\n",
              "count                565.00\n",
              "mean              110610.34\n",
              "std                72280.70\n",
              "min                 2859.00\n",
              "25%                60757.00\n",
              "50%               100000.00\n",
              "75%               150000.00\n",
              "max               600000.00"
            ]
          },
          "execution_count": 45,
          "metadata": {},
          "output_type": "execute_result"
        }
      ],
      "source": [
        "data_agg = data['salary_in_usd'].describe().round(2).to_frame()\n",
        "data_agg.columns = ['Размер зарпаты в USD']\n",
        "data_agg"
      ]
    },
    {
      "attachments": {},
      "cell_type": "markdown",
      "metadata": {
        "id": "fHrGH7w56m5c"
      },
      "source": [
        "Распределение уровня зарплат отлично от нормального, имеются предпологаемые выбросы."
      ]
    },
    {
      "attachments": {},
      "cell_type": "markdown",
      "metadata": {},
      "source": [
        "#### Распределение уровня зарплат в зависимости от года"
      ]
    },
    {
      "cell_type": "code",
      "execution_count": 13,
      "metadata": {},
      "outputs": [
        {
          "data": {
            "image/png": "[encoded data removed]",
            "text/plain": [
              "<Figure size 640x480 with 1 Axes>"
            ]
          },
          "metadata": {},
          "output_type": "display_data"
        }
      ],
      "source": [
        "ax = sns.boxplot(data, x='salary_in_usd', y='work_year', orient='h', medianprops={\"color\": \"red\", \"linestyle\": '--'})\n",
        "ax.set(xlabel='Размер зарплаты в долларах США', ylabel='Год')\n",
        "plt.title('Распределение зарплат по годам')\n",
        "plt.show()"
      ]
    },
    {
      "cell_type": "code",
      "execution_count": 47,
      "metadata": {},
      "outputs": [
        {
          "name": "stdout",
          "output_type": "stream",
          "text": [
            "Уровень зарплаты в зависимости от года\n"
          ]
        },
        {
          "data": {
            "text/html": [
              "<div>\n",
              "<style scoped>\n",
              "    .dataframe tbody tr th:only-of-type {\n",
              "        vertical-align: middle;\n",
              "    }\n",
              "\n",
              "    .dataframe tbody tr th {\n",
              "        vertical-align: top;\n",
              "    }\n",
              "\n",
              "    .dataframe thead th {\n",
              "        text-align: right;\n",
              "    }\n",
              "</style>\n",
              "<table border=\"1\" class=\"dataframe\">\n",
              "  <thead>\n",
              "    <tr style=\"text-align: right;\">\n",
              "      <th></th>\n",
              "      <th>count</th>\n",
              "      <th>mean</th>\n",
              "      <th>std</th>\n",
              "      <th>min</th>\n",
              "      <th>25%</th>\n",
              "      <th>50%</th>\n",
              "      <th>75%</th>\n",
              "      <th>max</th>\n",
              "    </tr>\n",
              "    <tr>\n",
              "      <th>work_year</th>\n",
              "      <th></th>\n",
              "      <th></th>\n",
              "      <th></th>\n",
              "      <th></th>\n",
              "      <th></th>\n",
              "      <th></th>\n",
              "      <th></th>\n",
              "      <th></th>\n",
              "    </tr>\n",
              "  </thead>\n",
              "  <tbody>\n",
              "    <tr>\n",
              "      <th>2020</th>\n",
              "      <td>72.0</td>\n",
              "      <td>95813.00</td>\n",
              "      <td>82831.80</td>\n",
              "      <td>5707.0</td>\n",
              "      <td>45724.5</td>\n",
              "      <td>75544.0</td>\n",
              "      <td>115526.0</td>\n",
              "      <td>450000.0</td>\n",
              "    </tr>\n",
              "    <tr>\n",
              "      <th>2021</th>\n",
              "      <td>215.0</td>\n",
              "      <td>99430.41</td>\n",
              "      <td>80304.32</td>\n",
              "      <td>2859.0</td>\n",
              "      <td>50000.0</td>\n",
              "      <td>82528.0</td>\n",
              "      <td>135000.0</td>\n",
              "      <td>600000.0</td>\n",
              "    </tr>\n",
              "    <tr>\n",
              "      <th>2022</th>\n",
              "      <td>278.0</td>\n",
              "      <td>123089.10</td>\n",
              "      <td>59888.93</td>\n",
              "      <td>10000.0</td>\n",
              "      <td>78791.0</td>\n",
              "      <td>120000.0</td>\n",
              "      <td>160000.0</td>\n",
              "      <td>405000.0</td>\n",
              "    </tr>\n",
              "  </tbody>\n",
              "</table>\n",
              "</div>"
            ],
            "text/plain": [
              "           count       mean       std      min      25%       50%       75%  \\\n",
              "work_year                                                                     \n",
              "2020        72.0   95813.00  82831.80   5707.0  45724.5   75544.0  115526.0   \n",
              "2021       215.0   99430.41  80304.32   2859.0  50000.0   82528.0  135000.0   \n",
              "2022       278.0  123089.10  59888.93  10000.0  78791.0  120000.0  160000.0   \n",
              "\n",
              "                max  \n",
              "work_year            \n",
              "2020       450000.0  \n",
              "2021       600000.0  \n",
              "2022       405000.0  "
            ]
          },
          "execution_count": 47,
          "metadata": {},
          "output_type": "execute_result"
        }
      ],
      "source": [
        "data_agg = data.groupby('work_year')['salary_in_usd'].describe().round(2)\n",
        "print('Уровень зарплаты в зависимости от года')\n",
        "data_agg"
      ]
    },
    {
      "attachments": {},
      "cell_type": "markdown",
      "metadata": {},
      "source": [
        "На первый взгляд распределение уровня зарплат по годам различны. Наблюдаетя заметное увеличние уроня зарплат в 2022 году по сравнению 2020 и 2021. Также видно малое количество записей за 2020 год, что может внести ошибку в статистические исследования. Чтобы определить, являются ли эти различия статистически значимыми, необходимо провести статистическое тестирование."
      ]
    },
    {
      "attachments": {},
      "cell_type": "markdown",
      "metadata": {},
      "source": [
        "#### Распределение уровня зарплат в зависимости от опыта работы"
      ]
    },
    {
      "cell_type": "code",
      "execution_count": 15,
      "metadata": {},
      "outputs": [
        {
          "data": {
            "image/png": "[encoded data removed]",
            "text/plain": [
              "<Figure size 640x480 with 1 Axes>"
            ]
          },
          "metadata": {},
          "output_type": "display_data"
        }
      ],
      "source": [
        "ax = sns.boxplot(data, x='salary_in_usd', y='experience_level', orient='h', medianprops={\"color\": \"red\", \"linestyle\": '--'},order=['EN','MI','SE','EX'])\n",
        "ax.set(xlabel='Размер зарплаты в долларах США', ylabel='Уровень опыта')\n",
        "\n",
        "plt.title('Распределение зарплат по опыту работы')\n",
        "plt.show()\n"
      ]
    },
    {
      "cell_type": "code",
      "execution_count": 48,
      "metadata": {},
      "outputs": [
        {
          "name": "stdout",
          "output_type": "stream",
          "text": [
            "Уровень зарплаты в зависимости от опыта работы\n"
          ]
        },
        {
          "data": {
            "text/html": [
              "<div>\n",
              "<style scoped>\n",
              "    .dataframe tbody tr th:only-of-type {\n",
              "        vertical-align: middle;\n",
              "    }\n",
              "\n",
              "    .dataframe tbody tr th {\n",
              "        vertical-align: top;\n",
              "    }\n",
              "\n",
              "    .dataframe thead th {\n",
              "        text-align: right;\n",
              "    }\n",
              "</style>\n",
              "<table border=\"1\" class=\"dataframe\">\n",
              "  <thead>\n",
              "    <tr style=\"text-align: right;\">\n",
              "      <th></th>\n",
              "      <th>count</th>\n",
              "      <th>mean</th>\n",
              "      <th>std</th>\n",
              "      <th>min</th>\n",
              "      <th>25%</th>\n",
              "      <th>50%</th>\n",
              "      <th>75%</th>\n",
              "      <th>max</th>\n",
              "    </tr>\n",
              "    <tr>\n",
              "      <th>experience_level</th>\n",
              "      <th></th>\n",
              "      <th></th>\n",
              "      <th></th>\n",
              "      <th></th>\n",
              "      <th></th>\n",
              "      <th></th>\n",
              "      <th></th>\n",
              "      <th></th>\n",
              "    </tr>\n",
              "  </thead>\n",
              "  <tbody>\n",
              "    <tr>\n",
              "      <th>EN</th>\n",
              "      <td>88.0</td>\n",
              "      <td>61643.32</td>\n",
              "      <td>44395.54</td>\n",
              "      <td>4000.0</td>\n",
              "      <td>27505.00</td>\n",
              "      <td>56500.0</td>\n",
              "      <td>85425.75</td>\n",
              "      <td>250000.0</td>\n",
              "    </tr>\n",
              "    <tr>\n",
              "      <th>EX</th>\n",
              "      <td>26.0</td>\n",
              "      <td>199392.04</td>\n",
              "      <td>117071.26</td>\n",
              "      <td>69741.0</td>\n",
              "      <td>130006.50</td>\n",
              "      <td>171437.5</td>\n",
              "      <td>233750.00</td>\n",
              "      <td>600000.0</td>\n",
              "    </tr>\n",
              "    <tr>\n",
              "      <th>MI</th>\n",
              "      <td>208.0</td>\n",
              "      <td>87793.00</td>\n",
              "      <td>64118.97</td>\n",
              "      <td>2859.0</td>\n",
              "      <td>47163.75</td>\n",
              "      <td>76940.0</td>\n",
              "      <td>112075.00</td>\n",
              "      <td>450000.0</td>\n",
              "    </tr>\n",
              "    <tr>\n",
              "      <th>SE</th>\n",
              "      <td>243.0</td>\n",
              "      <td>138374.88</td>\n",
              "      <td>59955.97</td>\n",
              "      <td>18907.0</td>\n",
              "      <td>99531.50</td>\n",
              "      <td>135000.0</td>\n",
              "      <td>171881.00</td>\n",
              "      <td>412000.0</td>\n",
              "    </tr>\n",
              "  </tbody>\n",
              "</table>\n",
              "</div>"
            ],
            "text/plain": [
              "                  count       mean        std      min        25%       50%  \\\n",
              "experience_level                                                              \n",
              "EN                 88.0   61643.32   44395.54   4000.0   27505.00   56500.0   \n",
              "EX                 26.0  199392.04  117071.26  69741.0  130006.50  171437.5   \n",
              "MI                208.0   87793.00   64118.97   2859.0   47163.75   76940.0   \n",
              "SE                243.0  138374.88   59955.97  18907.0   99531.50  135000.0   \n",
              "\n",
              "                        75%       max  \n",
              "experience_level                       \n",
              "EN                 85425.75  250000.0  \n",
              "EX                233750.00  600000.0  \n",
              "MI                112075.00  450000.0  \n",
              "SE                171881.00  412000.0  "
            ]
          },
          "execution_count": 48,
          "metadata": {},
          "output_type": "execute_result"
        }
      ],
      "source": [
        "data_agg = data.groupby('experience_level')['salary_in_usd'].describe().round(2)\n",
        "print('Уровень зарплаты в зависимости от опыта работы')\n",
        "data_agg"
      ]
    },
    {
      "attachments": {},
      "cell_type": "markdown",
      "metadata": {},
      "source": [
        "На первый взгляд распределения уровня зарплат по уровню опыта различны. Ожидаемо наблюдается рост уровня зарплат с увеличением опыта. Чтобы определить, являются ли эти различия статистически значимыми, необходимо провести статистическое тестирование."
      ]
    },
    {
      "attachments": {},
      "cell_type": "markdown",
      "metadata": {},
      "source": [
        "#### Распределение уровня зарплат в зависимости от типа трудоустройства"
      ]
    },
    {
      "cell_type": "code",
      "execution_count": 17,
      "metadata": {},
      "outputs": [
        {
          "data": {
            "image/png": "[encoded data removed]",
            "text/plain": [
              "<Figure size 640x480 with 1 Axes>"
            ]
          },
          "metadata": {},
          "output_type": "display_data"
        }
      ],
      "source": [
        "ax = sns.boxplot(data, x='salary_in_usd', y='employment_type', orient='h', medianprops={\"color\": \"red\", \"linestyle\": '--'})\n",
        "ax.set(xlabel='Размер зарплаты в долларах США', ylabel='Тип трудоустройства')\n",
        "plt.title('Распределение зарплат по типу трудоустройства')\n",
        "plt.show()"
      ]
    },
    {
      "cell_type": "code",
      "execution_count": 49,
      "metadata": {},
      "outputs": [
        {
          "name": "stdout",
          "output_type": "stream",
          "text": [
            "Зависимость уровня зарплаты от типа трудоустройства\n"
          ]
        },
        {
          "data": {
            "text/html": [
              "<div>\n",
              "<style scoped>\n",
              "    .dataframe tbody tr th:only-of-type {\n",
              "        vertical-align: middle;\n",
              "    }\n",
              "\n",
              "    .dataframe tbody tr th {\n",
              "        vertical-align: top;\n",
              "    }\n",
              "\n",
              "    .dataframe thead th {\n",
              "        text-align: right;\n",
              "    }\n",
              "</style>\n",
              "<table border=\"1\" class=\"dataframe\">\n",
              "  <thead>\n",
              "    <tr style=\"text-align: right;\">\n",
              "      <th></th>\n",
              "      <th>count</th>\n",
              "      <th>mean</th>\n",
              "      <th>std</th>\n",
              "      <th>min</th>\n",
              "      <th>25%</th>\n",
              "      <th>50%</th>\n",
              "      <th>75%</th>\n",
              "      <th>max</th>\n",
              "    </tr>\n",
              "    <tr>\n",
              "      <th>employment_type</th>\n",
              "      <th></th>\n",
              "      <th></th>\n",
              "      <th></th>\n",
              "      <th></th>\n",
              "      <th></th>\n",
              "      <th></th>\n",
              "      <th></th>\n",
              "      <th></th>\n",
              "    </tr>\n",
              "  </thead>\n",
              "  <tbody>\n",
              "    <tr>\n",
              "      <th>CT</th>\n",
              "      <td>5.0</td>\n",
              "      <td>184575.00</td>\n",
              "      <td>156250.89</td>\n",
              "      <td>31875.0</td>\n",
              "      <td>100000.0</td>\n",
              "      <td>105000.0</td>\n",
              "      <td>270000.0</td>\n",
              "      <td>416000.0</td>\n",
              "    </tr>\n",
              "    <tr>\n",
              "      <th>FL</th>\n",
              "      <td>4.0</td>\n",
              "      <td>48000.00</td>\n",
              "      <td>40529.82</td>\n",
              "      <td>12000.0</td>\n",
              "      <td>18000.0</td>\n",
              "      <td>40000.0</td>\n",
              "      <td>70000.0</td>\n",
              "      <td>100000.0</td>\n",
              "    </tr>\n",
              "    <tr>\n",
              "      <th>FT</th>\n",
              "      <td>546.0</td>\n",
              "      <td>111811.84</td>\n",
              "      <td>70790.70</td>\n",
              "      <td>2859.0</td>\n",
              "      <td>62726.0</td>\n",
              "      <td>100000.0</td>\n",
              "      <td>150000.0</td>\n",
              "      <td>600000.0</td>\n",
              "    </tr>\n",
              "    <tr>\n",
              "      <th>PT</th>\n",
              "      <td>10.0</td>\n",
              "      <td>33070.50</td>\n",
              "      <td>31472.91</td>\n",
              "      <td>5409.0</td>\n",
              "      <td>12000.0</td>\n",
              "      <td>18817.5</td>\n",
              "      <td>48370.0</td>\n",
              "      <td>100000.0</td>\n",
              "    </tr>\n",
              "  </tbody>\n",
              "</table>\n",
              "</div>"
            ],
            "text/plain": [
              "                 count       mean        std      min       25%       50%  \\\n",
              "employment_type                                                             \n",
              "CT                 5.0  184575.00  156250.89  31875.0  100000.0  105000.0   \n",
              "FL                 4.0   48000.00   40529.82  12000.0   18000.0   40000.0   \n",
              "FT               546.0  111811.84   70790.70   2859.0   62726.0  100000.0   \n",
              "PT                10.0   33070.50   31472.91   5409.0   12000.0   18817.5   \n",
              "\n",
              "                      75%       max  \n",
              "employment_type                      \n",
              "CT               270000.0  416000.0  \n",
              "FL                70000.0  100000.0  \n",
              "FT               150000.0  600000.0  \n",
              "PT                48370.0  100000.0  "
            ]
          },
          "execution_count": 49,
          "metadata": {},
          "output_type": "execute_result"
        }
      ],
      "source": [
        "data_agg = data.groupby('employment_type')['salary_in_usd'].describe().round(2)\n",
        "print('Зависимость уровня зарплаты от типа трудоустройства')\n",
        "data_agg"
      ]
    },
    {
      "attachments": {},
      "cell_type": "markdown",
      "metadata": {},
      "source": [
        "На первый взгляд распределения уровня зарплат по уровню опыта различны. При более детальном рассмотрении можно отметить, что суммарно категории \"неполный рабочий день\", \"фриланс\", \"контракт\" составляют суммарно лишь 19 значение (3.3% от всей выборки) и вряд ли может нести статистическую значимость. Чтобы определить, являются ли эти различия статистически значимыми, необходимо провести статистическое тестирование."
      ]
    },
    {
      "attachments": {},
      "cell_type": "markdown",
      "metadata": {},
      "source": [
        "#### Распределение уровня зарплат в зависимости от страны проживания сотрудника"
      ]
    },
    {
      "cell_type": "code",
      "execution_count": 19,
      "metadata": {},
      "outputs": [
        {
          "data": {
            "application/vnd.plotly.v1+json": {
              "config": {
                "plotlyServerURL": "https://plot.ly"
              },
              "data": [
                {
                  "coloraxis": "coloraxis",
                  "geo": "geo",
                  "hovertemplate": "employee_residence_iso=%{location}<br>salary_in_usd=%{z}<extra></extra>",
                  "locationmode": "ISO-3",
                  "locations": [
                    "ARE",
                    "ARG",
                    "AUS",
                    "AUT",
                    "BEL",
                    "BGR",
                    "BOL",
                    "BRA",
                    "CAN",
                    "CHE",
                    "CHL",
                    "CHN",
                    "COL",
                    "CZE",
                    "DEU",
                    "DNK",
                    "DZA",
                    "ESP",
                    "EST",
                    "FRA",
                    "GBR",
                    "GRC",
                    "HKG",
                    "HND",
                    "HRV",
                    "HUN",
                    "IND",
                    "IRL",
                    "IRN",
                    "IRQ",
                    "ITA",
                    "JEY",
                    "JPN",
                    "KEN",
                    "LUX",
                    "MDA",
                    "MEX",
                    "MLT",
                    "MYS",
                    "NGA",
                    "NLD",
                    "NZL",
                    "PAK",
                    "PHL",
                    "POL",
                    "PRI",
                    "PRT",
                    "ROU",
                    "RUS",
                    "SGP",
                    "SRB",
                    "SVN",
                    "TUN",
                    "TUR",
                    "UKR",
                    "USA",
                    "VNM"
                  ],
                  "name": "",
                  "type": "choropleth",
                  "z": [
                    100000,
                    60000,
                    108042.66666666667,
                    76738.66666666667,
                    85699,
                    80000,
                    75000,
                    54634.666666666664,
                    97191.62962962964,
                    122346,
                    40038,
                    43331,
                    21844,
                    69999,
                    85336.66666666667,
                    37252.5,
                    100000,
                    57593.4,
                    32974,
                    59886.61111111111,
                    81470.06976744186,
                    56445.75,
                    66022,
                    20000,
                    45618,
                    35997,
                    37322.333333333336,
                    71444,
                    4000,
                    100000,
                    61600,
                    100000,
                    103537.71428571429,
                    9272,
                    59102,
                    18000,
                    18185,
                    28369,
                    200000,
                    30000,
                    60956.6,
                    125000,
                    27462.833333333332,
                    45760,
                    56177.5,
                    160000,
                    42862.5,
                    51419,
                    105750,
                    104176.5,
                    25532,
                    63831,
                    31875,
                    20096.666666666668,
                    13400,
                    150094.9186440678,
                    30800
                  ]
                }
              ],
              "layout": {
                "coloraxis": {
                  "cmax": 200000,
                  "cmin": 0,
                  "colorbar": {
                    "title": {
                      "text": "salary_in_usd"
                    }
                  },
                  "colorscale": [
                    [
                      0,
                      "rgb(247,252,245)"
                    ],
                    [
                      0.125,
                      "rgb(229,245,224)"
                    ],
                    [
                      0.25,
                      "rgb(199,233,192)"
                    ],
                    [
                      0.375,
                      "rgb(161,217,155)"
                    ],
                    [
                      0.5,
                      "rgb(116,196,118)"
                    ],
                    [
                      0.625,
                      "rgb(65,171,93)"
                    ],
                    [
                      0.75,
                      "rgb(35,139,69)"
                    ],
                    [
                      0.875,
                      "rgb(0,109,44)"
                    ],
                    [
                      1,
                      "rgb(0,68,27)"
                    ]
                  ]
                },
                "geo": {
                  "center": {},
                  "domain": {
                    "x": [
                      0,
                      1
                    ],
                    "y": [
                      0,
                      1
                    ]
                  }
                },
                "height": 500,
                "legend": {
                  "tracegroupgap": 0
                },
                "template": {
                  "data": {
                    "bar": [
                      {
                        "error_x": {
                          "color": "#2a3f5f"
                        },
                        "error_y": {
                          "color": "#2a3f5f"
                        },
                        "marker": {
                          "line": {
                            "color": "#E5ECF6",
                            "width": 0.5
                          },
                          "pattern": {
                            "fillmode": "overlay",
                            "size": 10,
                            "solidity": 0.2
                          }
                        },
                        "type": "bar"
                      }
                    ],
                    "barpolar": [
                      {
                        "marker": {
                          "line": {
                            "color": "#E5ECF6",
                            "width": 0.5
                          },
                          "pattern": {
                            "fillmode": "overlay",
                            "size": 10,
                            "solidity": 0.2
                          }
                        },
                        "type": "barpolar"
                      }
                    ],
                    "carpet": [
                      {
                        "aaxis": {
                          "endlinecolor": "#2a3f5f",
                          "gridcolor": "white",
                          "linecolor": "white",
                          "minorgridcolor": "white",
                          "startlinecolor": "#2a3f5f"
                        },
                        "baxis": {
                          "endlinecolor": "#2a3f5f",
                          "gridcolor": "white",
                          "linecolor": "white",
                          "minorgridcolor": "white",
                          "startlinecolor": "#2a3f5f"
                        },
                        "type": "carpet"
                      }
                    ],
                    "choropleth": [
                      {
                        "colorbar": {
                          "outlinewidth": 0,
                          "ticks": ""
                        },
                        "type": "choropleth"
                      }
                    ],
                    "contour": [
                      {
                        "colorbar": {
                          "outlinewidth": 0,
                          "ticks": ""
                        },
                        "colorscale": [
                          [
                            0,
                            "#0d0887"
                          ],
                          [
                            0.1111111111111111,
                            "#46039f"
                          ],
                          [
                            0.2222222222222222,
                            "#7201a8"
                          ],
                          [
                            0.3333333333333333,
                            "#9c179e"
                          ],
                          [
                            0.4444444444444444,
                            "#bd3786"
                          ],
                          [
                            0.5555555555555556,
                            "#d8576b"
                          ],
                          [
                            0.6666666666666666,
                            "#ed7953"
                          ],
                          [
                            0.7777777777777778,
                            "#fb9f3a"
                          ],
                          [
                            0.8888888888888888,
                            "#fdca26"
                          ],
                          [
                            1,
                            "#f0f921"
                          ]
                        ],
                        "type": "contour"
                      }
                    ],
                    "contourcarpet": [
                      {
                        "colorbar": {
                          "outlinewidth": 0,
                          "ticks": ""
                        },
                        "type": "contourcarpet"
                      }
                    ],
                    "heatmap": [
                      {
                        "colorbar": {
                          "outlinewidth": 0,
                          "ticks": ""
                        },
                        "colorscale": [
                          [
                            0,
                            "#0d0887"
                          ],
                          [
                            0.1111111111111111,
                            "#46039f"
                          ],
                          [
                            0.2222222222222222,
                            "#7201a8"
                          ],
                          [
                            0.3333333333333333,
                            "#9c179e"
                          ],
                          [
                            0.4444444444444444,
                            "#bd3786"
                          ],
                          [
                            0.5555555555555556,
                            "#d8576b"
                          ],
                          [
                            0.6666666666666666,
                            "#ed7953"
                          ],
                          [
                            0.7777777777777778,
                            "#fb9f3a"
                          ],
                          [
                            0.8888888888888888,
                            "#fdca26"
                          ],
                          [
                            1,
                            "#f0f921"
                          ]
                        ],
                        "type": "heatmap"
                      }
                    ],
                    "heatmapgl": [
                      {
                        "colorbar": {
                          "outlinewidth": 0,
                          "ticks": ""
                        },
                        "colorscale": [
                          [
                            0,
                            "#0d0887"
                          ],
                          [
                            0.1111111111111111,
                            "#46039f"
                          ],
                          [
                            0.2222222222222222,
                            "#7201a8"
                          ],
                          [
                            0.3333333333333333,
                            "#9c179e"
                          ],
                          [
                            0.4444444444444444,
                            "#bd3786"
                          ],
                          [
                            0.5555555555555556,
                            "#d8576b"
                          ],
                          [
                            0.6666666666666666,
                            "#ed7953"
                          ],
                          [
                            0.7777777777777778,
                            "#fb9f3a"
                          ],
                          [
                            0.8888888888888888,
                            "#fdca26"
                          ],
                          [
                            1,
                            "#f0f921"
                          ]
                        ],
                        "type": "heatmapgl"
                      }
                    ],
                    "histogram": [
                      {
                        "marker": {
                          "pattern": {
                            "fillmode": "overlay",
                            "size": 10,
                            "solidity": 0.2
                          }
                        },
                        "type": "histogram"
                      }
                    ],
                    "histogram2d": [
                      {
                        "colorbar": {
                          "outlinewidth": 0,
                          "ticks": ""
                        },
                        "colorscale": [
                          [
                            0,
                            "#0d0887"
                          ],
                          [
                            0.1111111111111111,
                            "#46039f"
                          ],
                          [
                            0.2222222222222222,
                            "#7201a8"
                          ],
                          [
                            0.3333333333333333,
                            "#9c179e"
                          ],
                          [
                            0.4444444444444444,
                            "#bd3786"
                          ],
                          [
                            0.5555555555555556,
                            "#d8576b"
                          ],
                          [
                            0.6666666666666666,
                            "#ed7953"
                          ],
                          [
                            0.7777777777777778,
                            "#fb9f3a"
                          ],
                          [
                            0.8888888888888888,
                            "#fdca26"
                          ],
                          [
                            1,
                            "#f0f921"
                          ]
                        ],
                        "type": "histogram2d"
                      }
                    ],
                    "histogram2dcontour": [
                      {
                        "colorbar": {
                          "outlinewidth": 0,
                          "ticks": ""
                        },
                        "colorscale": [
                          [
                            0,
                            "#0d0887"
                          ],
                          [
                            0.1111111111111111,
                            "#46039f"
                          ],
                          [
                            0.2222222222222222,
                            "#7201a8"
                          ],
                          [
                            0.3333333333333333,
                            "#9c179e"
                          ],
                          [
                            0.4444444444444444,
                            "#bd3786"
                          ],
                          [
                            0.5555555555555556,
                            "#d8576b"
                          ],
                          [
                            0.6666666666666666,
                            "#ed7953"
                          ],
                          [
                            0.7777777777777778,
                            "#fb9f3a"
                          ],
                          [
                            0.8888888888888888,
                            "#fdca26"
                          ],
                          [
                            1,
                            "#f0f921"
                          ]
                        ],
                        "type": "histogram2dcontour"
                      }
                    ],
                    "mesh3d": [
                      {
                        "colorbar": {
                          "outlinewidth": 0,
                          "ticks": ""
                        },
                        "type": "mesh3d"
                      }
                    ],
                    "parcoords": [
                      {
                        "line": {
                          "colorbar": {
                            "outlinewidth": 0,
                            "ticks": ""
                          }
                        },
                        "type": "parcoords"
                      }
                    ],
                    "pie": [
                      {
                        "automargin": true,
                        "type": "pie"
                      }
                    ],
                    "scatter": [
                      {
                        "fillpattern": {
                          "fillmode": "overlay",
                          "size": 10,
                          "solidity": 0.2
                        },
                        "type": "scatter"
                      }
                    ],
                    "scatter3d": [
                      {
                        "line": {
                          "colorbar": {
                            "outlinewidth": 0,
                            "ticks": ""
                          }
                        },
                        "marker": {
                          "colorbar": {
                            "outlinewidth": 0,
                            "ticks": ""
                          }
                        },
                        "type": "scatter3d"
                      }
                    ],
                    "scattercarpet": [
                      {
                        "marker": {
                          "colorbar": {
                            "outlinewidth": 0,
                            "ticks": ""
                          }
                        },
                        "type": "scattercarpet"
                      }
                    ],
                    "scattergeo": [
                      {
                        "marker": {
                          "colorbar": {
                            "outlinewidth": 0,
                            "ticks": ""
                          }
                        },
                        "type": "scattergeo"
                      }
                    ],
                    "scattergl": [
                      {
                        "marker": {
                          "colorbar": {
                            "outlinewidth": 0,
                            "ticks": ""
                          }
                        },
                        "type": "scattergl"
                      }
                    ],
                    "scattermapbox": [
                      {
                        "marker": {
                          "colorbar": {
                            "outlinewidth": 0,
                            "ticks": ""
                          }
                        },
                        "type": "scattermapbox"
                      }
                    ],
                    "scatterpolar": [
                      {
                        "marker": {
                          "colorbar": {
                            "outlinewidth": 0,
                            "ticks": ""
                          }
                        },
                        "type": "scatterpolar"
                      }
                    ],
                    "scatterpolargl": [
                      {
                        "marker": {
                          "colorbar": {
                            "outlinewidth": 0,
                            "ticks": ""
                          }
                        },
                        "type": "scatterpolargl"
                      }
                    ],
                    "scatterternary": [
                      {
                        "marker": {
                          "colorbar": {
                            "outlinewidth": 0,
                            "ticks": ""
                          }
                        },
                        "type": "scatterternary"
                      }
                    ],
                    "surface": [
                      {
                        "colorbar": {
                          "outlinewidth": 0,
                          "ticks": ""
                        },
                        "colorscale": [
                          [
                            0,
                            "#0d0887"
                          ],
                          [
                            0.1111111111111111,
                            "#46039f"
                          ],
                          [
                            0.2222222222222222,
                            "#7201a8"
                          ],
                          [
                            0.3333333333333333,
                            "#9c179e"
                          ],
                          [
                            0.4444444444444444,
                            "#bd3786"
                          ],
                          [
                            0.5555555555555556,
                            "#d8576b"
                          ],
                          [
                            0.6666666666666666,
                            "#ed7953"
                          ],
                          [
                            0.7777777777777778,
                            "#fb9f3a"
                          ],
                          [
                            0.8888888888888888,
                            "#fdca26"
                          ],
                          [
                            1,
                            "#f0f921"
                          ]
                        ],
                        "type": "surface"
                      }
                    ],
                    "table": [
                      {
                        "cells": {
                          "fill": {
                            "color": "#EBF0F8"
                          },
                          "line": {
                            "color": "white"
                          }
                        },
                        "header": {
                          "fill": {
                            "color": "#C8D4E3"
                          },
                          "line": {
                            "color": "white"
                          }
                        },
                        "type": "table"
                      }
                    ]
                  },
                  "layout": {
                    "annotationdefaults": {
                      "arrowcolor": "#2a3f5f",
                      "arrowhead": 0,
                      "arrowwidth": 1
                    },
                    "autotypenumbers": "strict",
                    "coloraxis": {
                      "colorbar": {
                        "outlinewidth": 0,
                        "ticks": ""
                      }
                    },
                    "colorscale": {
                      "diverging": [
                        [
                          0,
                          "#8e0152"
                        ],
                        [
                          0.1,
                          "#c51b7d"
                        ],
                        [
                          0.2,
                          "#de77ae"
                        ],
                        [
                          0.3,
                          "#f1b6da"
                        ],
                        [
                          0.4,
                          "#fde0ef"
                        ],
                        [
                          0.5,
                          "#f7f7f7"
                        ],
                        [
                          0.6,
                          "#e6f5d0"
                        ],
                        [
                          0.7,
                          "#b8e186"
                        ],
                        [
                          0.8,
                          "#7fbc41"
                        ],
                        [
                          0.9,
                          "#4d9221"
                        ],
                        [
                          1,
                          "#276419"
                        ]
                      ],
                      "sequential": [
                        [
                          0,
                          "#0d0887"
                        ],
                        [
                          0.1111111111111111,
                          "#46039f"
                        ],
                        [
                          0.2222222222222222,
                          "#7201a8"
                        ],
                        [
                          0.3333333333333333,
                          "#9c179e"
                        ],
                        [
                          0.4444444444444444,
                          "#bd3786"
                        ],
                        [
                          0.5555555555555556,
                          "#d8576b"
                        ],
                        [
                          0.6666666666666666,
                          "#ed7953"
                        ],
                        [
                          0.7777777777777778,
                          "#fb9f3a"
                        ],
                        [
                          0.8888888888888888,
                          "#fdca26"
                        ],
                        [
                          1,
                          "#f0f921"
                        ]
                      ],
                      "sequentialminus": [
                        [
                          0,
                          "#0d0887"
                        ],
                        [
                          0.1111111111111111,
                          "#46039f"
                        ],
                        [
                          0.2222222222222222,
                          "#7201a8"
                        ],
                        [
                          0.3333333333333333,
                          "#9c179e"
                        ],
                        [
                          0.4444444444444444,
                          "#bd3786"
                        ],
                        [
                          0.5555555555555556,
                          "#d8576b"
                        ],
                        [
                          0.6666666666666666,
                          "#ed7953"
                        ],
                        [
                          0.7777777777777778,
                          "#fb9f3a"
                        ],
                        [
                          0.8888888888888888,
                          "#fdca26"
                        ],
                        [
                          1,
                          "#f0f921"
                        ]
                      ]
                    },
                    "colorway": [
                      "#636efa",
                      "#EF553B",
                      "#00cc96",
                      "#ab63fa",
                      "#FFA15A",
                      "#19d3f3",
                      "#FF6692",
                      "#B6E880",
                      "#FF97FF",
                      "#FECB52"
                    ],
                    "font": {
                      "color": "#2a3f5f"
                    },
                    "geo": {
                      "bgcolor": "white",
                      "lakecolor": "white",
                      "landcolor": "#E5ECF6",
                      "showlakes": true,
                      "showland": true,
                      "subunitcolor": "white"
                    },
                    "hoverlabel": {
                      "align": "left"
                    },
                    "hovermode": "closest",
                    "mapbox": {
                      "style": "light"
                    },
                    "paper_bgcolor": "white",
                    "plot_bgcolor": "#E5ECF6",
                    "polar": {
                      "angularaxis": {
                        "gridcolor": "white",
                        "linecolor": "white",
                        "ticks": ""
                      },
                      "bgcolor": "#E5ECF6",
                      "radialaxis": {
                        "gridcolor": "white",
                        "linecolor": "white",
                        "ticks": ""
                      }
                    },
                    "scene": {
                      "xaxis": {
                        "backgroundcolor": "#E5ECF6",
                        "gridcolor": "white",
                        "gridwidth": 2,
                        "linecolor": "white",
                        "showbackground": true,
                        "ticks": "",
                        "zerolinecolor": "white"
                      },
                      "yaxis": {
                        "backgroundcolor": "#E5ECF6",
                        "gridcolor": "white",
                        "gridwidth": 2,
                        "linecolor": "white",
                        "showbackground": true,
                        "ticks": "",
                        "zerolinecolor": "white"
                      },
                      "zaxis": {
                        "backgroundcolor": "#E5ECF6",
                        "gridcolor": "white",
                        "gridwidth": 2,
                        "linecolor": "white",
                        "showbackground": true,
                        "ticks": "",
                        "zerolinecolor": "white"
                      }
                    },
                    "shapedefaults": {
                      "line": {
                        "color": "#2a3f5f"
                      }
                    },
                    "ternary": {
                      "aaxis": {
                        "gridcolor": "white",
                        "linecolor": "white",
                        "ticks": ""
                      },
                      "baxis": {
                        "gridcolor": "white",
                        "linecolor": "white",
                        "ticks": ""
                      },
                      "bgcolor": "#E5ECF6",
                      "caxis": {
                        "gridcolor": "white",
                        "linecolor": "white",
                        "ticks": ""
                      }
                    },
                    "title": {
                      "x": 0.05
                    },
                    "xaxis": {
                      "automargin": true,
                      "gridcolor": "white",
                      "linecolor": "white",
                      "ticks": "",
                      "title": {
                        "standoff": 15
                      },
                      "zerolinecolor": "white",
                      "zerolinewidth": 2
                    },
                    "yaxis": {
                      "automargin": true,
                      "gridcolor": "white",
                      "linecolor": "white",
                      "ticks": "",
                      "title": {
                        "standoff": 15
                      },
                      "zerolinecolor": "white",
                      "zerolinewidth": 2
                    }
                  }
                },
                "title": {
                  "text": "Распределение среднего уровня зарплат работников в разрезе страны проживания"
                },
                "width": 800
              }
            }
          },
          "metadata": {},
          "output_type": "display_data"
        }
      ],
      "source": [
        "# Записываем URL старницы в Википедии с указанием городов-милионников\n",
        "url = 'https://ru.wikipedia.org/wiki/ISO_3166-1'\n",
        "tables = pd.read_html(url) # записываем в переменную HTML-таблицы с указанной страницы\n",
        "iso_3166 = tables[0]\n",
        "iso_3166 = iso_3166.drop(['Страна','Цифровой ISO 3166-1','код ISO 3166-2'],axis=1)\n",
        "iso_3166\n",
        "\n",
        "data_iso = data.copy()\n",
        "\n",
        "# заменям двухбуквенный код страны трехбуквенным\n",
        "data_iso = data_iso.merge(\n",
        "    iso_3166,\n",
        "    how='left',\n",
        "    left_on='employee_residence',\n",
        "    right_on='Alpha-2 ISO 3166-1'\n",
        ")\n",
        "data_iso.rename(columns={'Alpha-3 ISO 3166-1':'employee_residence_iso'},inplace=True)\n",
        "data_iso.drop(['employee_residence','Alpha-2 ISO 3166-1'],axis=1,inplace=True)\n",
        "\n",
        "grouped = data_iso.groupby('employee_residence_iso',as_index=False)['salary_in_usd'].mean()\n",
        "\n",
        "#строим график\n",
        "fig = px.choropleth(\n",
        "    data_frame=grouped, #DataFrame\n",
        "    locations='employee_residence_iso', #столбец с локациями\n",
        "    locationmode = \"ISO-3\", #режим сопоставления локаций с базой Plotly\n",
        "    color=\"salary_in_usd\", #от чего зависит цвет\n",
        "    range_color=[0, 20e4], #диапазон цвета\n",
        "    title='Распределение среднего уровня зарплат работников в разрезе страны проживания', #заголовок\n",
        "    width=800, #ширина\n",
        "    height=500, #высота\n",
        "    color_continuous_scale='Greens' #палитра цветов\n",
        "    \n",
        ")\n",
        "\n",
        "#отображаем график\n",
        "fig.show()"
      ]
    },
    {
      "cell_type": "code",
      "execution_count": 50,
      "metadata": {},
      "outputs": [
        {
          "name": "stdout",
          "output_type": "stream",
          "text": [
            "Уровень зарплаты в зависимости от страны проживания сотрудников.\n"
          ]
        },
        {
          "data": {
            "text/html": [
              "<div>\n",
              "<style scoped>\n",
              "    .dataframe tbody tr th:only-of-type {\n",
              "        vertical-align: middle;\n",
              "    }\n",
              "\n",
              "    .dataframe tbody tr th {\n",
              "        vertical-align: top;\n",
              "    }\n",
              "\n",
              "    .dataframe thead th {\n",
              "        text-align: right;\n",
              "    }\n",
              "</style>\n",
              "<table border=\"1\" class=\"dataframe\">\n",
              "  <thead>\n",
              "    <tr style=\"text-align: right;\">\n",
              "      <th></th>\n",
              "      <th>count</th>\n",
              "      <th>mean</th>\n",
              "      <th>std</th>\n",
              "      <th>min</th>\n",
              "      <th>25%</th>\n",
              "      <th>50%</th>\n",
              "      <th>75%</th>\n",
              "      <th>max</th>\n",
              "    </tr>\n",
              "    <tr>\n",
              "      <th>employee_residence</th>\n",
              "      <th></th>\n",
              "      <th></th>\n",
              "      <th></th>\n",
              "      <th></th>\n",
              "      <th></th>\n",
              "      <th></th>\n",
              "      <th></th>\n",
              "      <th></th>\n",
              "    </tr>\n",
              "  </thead>\n",
              "  <tbody>\n",
              "    <tr>\n",
              "      <th>IR</th>\n",
              "      <td>1.0</td>\n",
              "      <td>4000.00</td>\n",
              "      <td>NaN</td>\n",
              "      <td>4000.0</td>\n",
              "      <td>4000.00</td>\n",
              "      <td>4000.0</td>\n",
              "      <td>4000.00</td>\n",
              "      <td>4000.0</td>\n",
              "    </tr>\n",
              "    <tr>\n",
              "      <th>KE</th>\n",
              "      <td>1.0</td>\n",
              "      <td>9272.00</td>\n",
              "      <td>NaN</td>\n",
              "      <td>9272.0</td>\n",
              "      <td>9272.00</td>\n",
              "      <td>9272.0</td>\n",
              "      <td>9272.00</td>\n",
              "      <td>9272.0</td>\n",
              "    </tr>\n",
              "    <tr>\n",
              "      <th>UA</th>\n",
              "      <td>1.0</td>\n",
              "      <td>13400.00</td>\n",
              "      <td>NaN</td>\n",
              "      <td>13400.0</td>\n",
              "      <td>13400.00</td>\n",
              "      <td>13400.0</td>\n",
              "      <td>13400.00</td>\n",
              "      <td>13400.0</td>\n",
              "    </tr>\n",
              "    <tr>\n",
              "      <th>MD</th>\n",
              "      <td>1.0</td>\n",
              "      <td>18000.00</td>\n",
              "      <td>NaN</td>\n",
              "      <td>18000.0</td>\n",
              "      <td>18000.00</td>\n",
              "      <td>18000.0</td>\n",
              "      <td>18000.00</td>\n",
              "      <td>18000.0</td>\n",
              "    </tr>\n",
              "    <tr>\n",
              "      <th>MX</th>\n",
              "      <td>2.0</td>\n",
              "      <td>18185.00</td>\n",
              "      <td>21674.24</td>\n",
              "      <td>2859.0</td>\n",
              "      <td>10522.00</td>\n",
              "      <td>18185.0</td>\n",
              "      <td>25848.00</td>\n",
              "      <td>33511.0</td>\n",
              "    </tr>\n",
              "    <tr>\n",
              "      <th>HN</th>\n",
              "      <td>1.0</td>\n",
              "      <td>20000.00</td>\n",
              "      <td>NaN</td>\n",
              "      <td>20000.0</td>\n",
              "      <td>20000.00</td>\n",
              "      <td>20000.0</td>\n",
              "      <td>20000.00</td>\n",
              "      <td>20000.0</td>\n",
              "    </tr>\n",
              "    <tr>\n",
              "      <th>TR</th>\n",
              "      <td>3.0</td>\n",
              "      <td>20096.67</td>\n",
              "      <td>7956.76</td>\n",
              "      <td>12103.0</td>\n",
              "      <td>16137.00</td>\n",
              "      <td>20171.0</td>\n",
              "      <td>24093.50</td>\n",
              "      <td>28016.0</td>\n",
              "    </tr>\n",
              "    <tr>\n",
              "      <th>CO</th>\n",
              "      <td>1.0</td>\n",
              "      <td>21844.00</td>\n",
              "      <td>NaN</td>\n",
              "      <td>21844.0</td>\n",
              "      <td>21844.00</td>\n",
              "      <td>21844.0</td>\n",
              "      <td>21844.00</td>\n",
              "      <td>21844.0</td>\n",
              "    </tr>\n",
              "    <tr>\n",
              "      <th>RS</th>\n",
              "      <td>1.0</td>\n",
              "      <td>25532.00</td>\n",
              "      <td>NaN</td>\n",
              "      <td>25532.0</td>\n",
              "      <td>25532.00</td>\n",
              "      <td>25532.0</td>\n",
              "      <td>25532.00</td>\n",
              "      <td>25532.0</td>\n",
              "    </tr>\n",
              "    <tr>\n",
              "      <th>PK</th>\n",
              "      <td>6.0</td>\n",
              "      <td>27462.83</td>\n",
              "      <td>22766.22</td>\n",
              "      <td>8000.0</td>\n",
              "      <td>12000.00</td>\n",
              "      <td>16000.0</td>\n",
              "      <td>46056.50</td>\n",
              "      <td>58035.0</td>\n",
              "    </tr>\n",
              "    <tr>\n",
              "      <th>MT</th>\n",
              "      <td>1.0</td>\n",
              "      <td>28369.00</td>\n",
              "      <td>NaN</td>\n",
              "      <td>28369.0</td>\n",
              "      <td>28369.00</td>\n",
              "      <td>28369.0</td>\n",
              "      <td>28369.00</td>\n",
              "      <td>28369.0</td>\n",
              "    </tr>\n",
              "    <tr>\n",
              "      <th>NG</th>\n",
              "      <td>2.0</td>\n",
              "      <td>30000.00</td>\n",
              "      <td>28284.27</td>\n",
              "      <td>10000.0</td>\n",
              "      <td>20000.00</td>\n",
              "      <td>30000.0</td>\n",
              "      <td>40000.00</td>\n",
              "      <td>50000.0</td>\n",
              "    </tr>\n",
              "    <tr>\n",
              "      <th>VN</th>\n",
              "      <td>3.0</td>\n",
              "      <td>30800.00</td>\n",
              "      <td>23923.21</td>\n",
              "      <td>4000.0</td>\n",
              "      <td>21200.00</td>\n",
              "      <td>38400.0</td>\n",
              "      <td>44200.00</td>\n",
              "      <td>50000.0</td>\n",
              "    </tr>\n",
              "    <tr>\n",
              "      <th>TN</th>\n",
              "      <td>1.0</td>\n",
              "      <td>31875.00</td>\n",
              "      <td>NaN</td>\n",
              "      <td>31875.0</td>\n",
              "      <td>31875.00</td>\n",
              "      <td>31875.0</td>\n",
              "      <td>31875.00</td>\n",
              "      <td>31875.0</td>\n",
              "    </tr>\n",
              "    <tr>\n",
              "      <th>EE</th>\n",
              "      <td>1.0</td>\n",
              "      <td>32974.00</td>\n",
              "      <td>NaN</td>\n",
              "      <td>32974.0</td>\n",
              "      <td>32974.00</td>\n",
              "      <td>32974.0</td>\n",
              "      <td>32974.00</td>\n",
              "      <td>32974.0</td>\n",
              "    </tr>\n",
              "    <tr>\n",
              "      <th>HU</th>\n",
              "      <td>2.0</td>\n",
              "      <td>35997.00</td>\n",
              "      <td>370.52</td>\n",
              "      <td>35735.0</td>\n",
              "      <td>35866.00</td>\n",
              "      <td>35997.0</td>\n",
              "      <td>36128.00</td>\n",
              "      <td>36259.0</td>\n",
              "    </tr>\n",
              "    <tr>\n",
              "      <th>DK</th>\n",
              "      <td>2.0</td>\n",
              "      <td>37252.50</td>\n",
              "      <td>12223.75</td>\n",
              "      <td>28609.0</td>\n",
              "      <td>32930.75</td>\n",
              "      <td>37252.5</td>\n",
              "      <td>41574.25</td>\n",
              "      <td>45896.0</td>\n",
              "    </tr>\n",
              "    <tr>\n",
              "      <th>IN</th>\n",
              "      <td>30.0</td>\n",
              "      <td>37322.33</td>\n",
              "      <td>43741.19</td>\n",
              "      <td>5409.0</td>\n",
              "      <td>16397.00</td>\n",
              "      <td>22124.0</td>\n",
              "      <td>38812.75</td>\n",
              "      <td>200000.0</td>\n",
              "    </tr>\n",
              "    <tr>\n",
              "      <th>CL</th>\n",
              "      <td>1.0</td>\n",
              "      <td>40038.00</td>\n",
              "      <td>NaN</td>\n",
              "      <td>40038.0</td>\n",
              "      <td>40038.00</td>\n",
              "      <td>40038.0</td>\n",
              "      <td>40038.00</td>\n",
              "      <td>40038.0</td>\n",
              "    </tr>\n",
              "    <tr>\n",
              "      <th>PT</th>\n",
              "      <td>6.0</td>\n",
              "      <td>42862.50</td>\n",
              "      <td>21443.78</td>\n",
              "      <td>10000.0</td>\n",
              "      <td>29032.25</td>\n",
              "      <td>53090.0</td>\n",
              "      <td>57691.25</td>\n",
              "      <td>60757.0</td>\n",
              "    </tr>\n",
              "    <tr>\n",
              "      <th>CN</th>\n",
              "      <td>1.0</td>\n",
              "      <td>43331.00</td>\n",
              "      <td>NaN</td>\n",
              "      <td>43331.0</td>\n",
              "      <td>43331.00</td>\n",
              "      <td>43331.0</td>\n",
              "      <td>43331.00</td>\n",
              "      <td>43331.0</td>\n",
              "    </tr>\n",
              "    <tr>\n",
              "      <th>HR</th>\n",
              "      <td>1.0</td>\n",
              "      <td>45618.00</td>\n",
              "      <td>NaN</td>\n",
              "      <td>45618.0</td>\n",
              "      <td>45618.00</td>\n",
              "      <td>45618.0</td>\n",
              "      <td>45618.00</td>\n",
              "      <td>45618.0</td>\n",
              "    </tr>\n",
              "    <tr>\n",
              "      <th>PH</th>\n",
              "      <td>1.0</td>\n",
              "      <td>45760.00</td>\n",
              "      <td>NaN</td>\n",
              "      <td>45760.0</td>\n",
              "      <td>45760.00</td>\n",
              "      <td>45760.0</td>\n",
              "      <td>45760.00</td>\n",
              "      <td>45760.0</td>\n",
              "    </tr>\n",
              "    <tr>\n",
              "      <th>RO</th>\n",
              "      <td>2.0</td>\n",
              "      <td>51419.00</td>\n",
              "      <td>35940.82</td>\n",
              "      <td>26005.0</td>\n",
              "      <td>38712.00</td>\n",
              "      <td>51419.0</td>\n",
              "      <td>64126.00</td>\n",
              "      <td>76833.0</td>\n",
              "    </tr>\n",
              "    <tr>\n",
              "      <th>BR</th>\n",
              "      <td>6.0</td>\n",
              "      <td>54634.67</td>\n",
              "      <td>61537.35</td>\n",
              "      <td>12000.0</td>\n",
              "      <td>14402.50</td>\n",
              "      <td>21453.5</td>\n",
              "      <td>81000.00</td>\n",
              "      <td>160000.0</td>\n",
              "    </tr>\n",
              "    <tr>\n",
              "      <th>PL</th>\n",
              "      <td>4.0</td>\n",
              "      <td>56177.50</td>\n",
              "      <td>39293.27</td>\n",
              "      <td>28476.0</td>\n",
              "      <td>33811.50</td>\n",
              "      <td>41093.5</td>\n",
              "      <td>63459.50</td>\n",
              "      <td>114047.0</td>\n",
              "    </tr>\n",
              "    <tr>\n",
              "      <th>GR</th>\n",
              "      <td>12.0</td>\n",
              "      <td>56445.75</td>\n",
              "      <td>21544.77</td>\n",
              "      <td>20000.0</td>\n",
              "      <td>43021.75</td>\n",
              "      <td>52209.0</td>\n",
              "      <td>70556.00</td>\n",
              "      <td>88654.0</td>\n",
              "    </tr>\n",
              "    <tr>\n",
              "      <th>ES</th>\n",
              "      <td>15.0</td>\n",
              "      <td>57593.40</td>\n",
              "      <td>28395.03</td>\n",
              "      <td>10354.0</td>\n",
              "      <td>41371.00</td>\n",
              "      <td>49461.0</td>\n",
              "      <td>71444.50</td>\n",
              "      <td>130800.0</td>\n",
              "    </tr>\n",
              "    <tr>\n",
              "      <th>LU</th>\n",
              "      <td>1.0</td>\n",
              "      <td>59102.00</td>\n",
              "      <td>NaN</td>\n",
              "      <td>59102.0</td>\n",
              "      <td>59102.00</td>\n",
              "      <td>59102.0</td>\n",
              "      <td>59102.00</td>\n",
              "      <td>59102.0</td>\n",
              "    </tr>\n",
              "    <tr>\n",
              "      <th>FR</th>\n",
              "      <td>18.0</td>\n",
              "      <td>59886.61</td>\n",
              "      <td>15848.69</td>\n",
              "      <td>36643.0</td>\n",
              "      <td>49734.50</td>\n",
              "      <td>57920.0</td>\n",
              "      <td>69342.50</td>\n",
              "      <td>93427.0</td>\n",
              "    </tr>\n",
              "    <tr>\n",
              "      <th>AR</th>\n",
              "      <td>1.0</td>\n",
              "      <td>60000.00</td>\n",
              "      <td>NaN</td>\n",
              "      <td>60000.0</td>\n",
              "      <td>60000.00</td>\n",
              "      <td>60000.0</td>\n",
              "      <td>60000.00</td>\n",
              "      <td>60000.0</td>\n",
              "    </tr>\n",
              "    <tr>\n",
              "      <th>NL</th>\n",
              "      <td>5.0</td>\n",
              "      <td>60956.60</td>\n",
              "      <td>17746.57</td>\n",
              "      <td>42000.0</td>\n",
              "      <td>45391.00</td>\n",
              "      <td>62651.0</td>\n",
              "      <td>69741.00</td>\n",
              "      <td>85000.0</td>\n",
              "    </tr>\n",
              "    <tr>\n",
              "      <th>IT</th>\n",
              "      <td>4.0</td>\n",
              "      <td>61600.00</td>\n",
              "      <td>63014.24</td>\n",
              "      <td>20000.0</td>\n",
              "      <td>21251.75</td>\n",
              "      <td>36366.5</td>\n",
              "      <td>76714.75</td>\n",
              "      <td>153667.0</td>\n",
              "    </tr>\n",
              "    <tr>\n",
              "      <th>SI</th>\n",
              "      <td>2.0</td>\n",
              "      <td>63831.00</td>\n",
              "      <td>55165.64</td>\n",
              "      <td>24823.0</td>\n",
              "      <td>44327.00</td>\n",
              "      <td>63831.0</td>\n",
              "      <td>83335.00</td>\n",
              "      <td>102839.0</td>\n",
              "    </tr>\n",
              "    <tr>\n",
              "      <th>HK</th>\n",
              "      <td>1.0</td>\n",
              "      <td>66022.00</td>\n",
              "      <td>NaN</td>\n",
              "      <td>66022.0</td>\n",
              "      <td>66022.00</td>\n",
              "      <td>66022.0</td>\n",
              "      <td>66022.00</td>\n",
              "      <td>66022.0</td>\n",
              "    </tr>\n",
              "    <tr>\n",
              "      <th>CZ</th>\n",
              "      <td>1.0</td>\n",
              "      <td>69999.00</td>\n",
              "      <td>NaN</td>\n",
              "      <td>69999.0</td>\n",
              "      <td>69999.00</td>\n",
              "      <td>69999.0</td>\n",
              "      <td>69999.00</td>\n",
              "      <td>69999.0</td>\n",
              "    </tr>\n",
              "    <tr>\n",
              "      <th>IE</th>\n",
              "      <td>1.0</td>\n",
              "      <td>71444.00</td>\n",
              "      <td>NaN</td>\n",
              "      <td>71444.0</td>\n",
              "      <td>71444.00</td>\n",
              "      <td>71444.0</td>\n",
              "      <td>71444.00</td>\n",
              "      <td>71444.0</td>\n",
              "    </tr>\n",
              "    <tr>\n",
              "      <th>BO</th>\n",
              "      <td>1.0</td>\n",
              "      <td>75000.00</td>\n",
              "      <td>NaN</td>\n",
              "      <td>75000.0</td>\n",
              "      <td>75000.00</td>\n",
              "      <td>75000.0</td>\n",
              "      <td>75000.00</td>\n",
              "      <td>75000.0</td>\n",
              "    </tr>\n",
              "    <tr>\n",
              "      <th>AT</th>\n",
              "      <td>3.0</td>\n",
              "      <td>76738.67</td>\n",
              "      <td>13386.02</td>\n",
              "      <td>64849.0</td>\n",
              "      <td>69489.50</td>\n",
              "      <td>74130.0</td>\n",
              "      <td>82683.50</td>\n",
              "      <td>91237.0</td>\n",
              "    </tr>\n",
              "    <tr>\n",
              "      <th>BG</th>\n",
              "      <td>1.0</td>\n",
              "      <td>80000.00</td>\n",
              "      <td>NaN</td>\n",
              "      <td>80000.0</td>\n",
              "      <td>80000.00</td>\n",
              "      <td>80000.0</td>\n",
              "      <td>80000.00</td>\n",
              "      <td>80000.0</td>\n",
              "    </tr>\n",
              "    <tr>\n",
              "      <th>GB</th>\n",
              "      <td>43.0</td>\n",
              "      <td>81470.07</td>\n",
              "      <td>30283.75</td>\n",
              "      <td>37300.0</td>\n",
              "      <td>55247.00</td>\n",
              "      <td>78526.0</td>\n",
              "      <td>103931.00</td>\n",
              "      <td>183228.0</td>\n",
              "    </tr>\n",
              "    <tr>\n",
              "      <th>DE</th>\n",
              "      <td>24.0</td>\n",
              "      <td>85336.67</td>\n",
              "      <td>40215.64</td>\n",
              "      <td>15966.0</td>\n",
              "      <td>62411.25</td>\n",
              "      <td>78015.0</td>\n",
              "      <td>94859.50</td>\n",
              "      <td>173762.0</td>\n",
              "    </tr>\n",
              "    <tr>\n",
              "      <th>BE</th>\n",
              "      <td>2.0</td>\n",
              "      <td>85699.00</td>\n",
              "      <td>4179.00</td>\n",
              "      <td>82744.0</td>\n",
              "      <td>84221.50</td>\n",
              "      <td>85699.0</td>\n",
              "      <td>87176.50</td>\n",
              "      <td>88654.0</td>\n",
              "    </tr>\n",
              "    <tr>\n",
              "      <th>CA</th>\n",
              "      <td>27.0</td>\n",
              "      <td>97191.63</td>\n",
              "      <td>40151.79</td>\n",
              "      <td>52000.0</td>\n",
              "      <td>71349.00</td>\n",
              "      <td>85000.0</td>\n",
              "      <td>110397.50</td>\n",
              "      <td>196979.0</td>\n",
              "    </tr>\n",
              "    <tr>\n",
              "      <th>AE</th>\n",
              "      <td>3.0</td>\n",
              "      <td>100000.00</td>\n",
              "      <td>30413.81</td>\n",
              "      <td>65000.0</td>\n",
              "      <td>90000.00</td>\n",
              "      <td>115000.0</td>\n",
              "      <td>117500.00</td>\n",
              "      <td>120000.0</td>\n",
              "    </tr>\n",
              "    <tr>\n",
              "      <th>JE</th>\n",
              "      <td>1.0</td>\n",
              "      <td>100000.00</td>\n",
              "      <td>NaN</td>\n",
              "      <td>100000.0</td>\n",
              "      <td>100000.00</td>\n",
              "      <td>100000.0</td>\n",
              "      <td>100000.00</td>\n",
              "      <td>100000.0</td>\n",
              "    </tr>\n",
              "    <tr>\n",
              "      <th>DZ</th>\n",
              "      <td>1.0</td>\n",
              "      <td>100000.00</td>\n",
              "      <td>NaN</td>\n",
              "      <td>100000.0</td>\n",
              "      <td>100000.00</td>\n",
              "      <td>100000.0</td>\n",
              "      <td>100000.00</td>\n",
              "      <td>100000.0</td>\n",
              "    </tr>\n",
              "    <tr>\n",
              "      <th>IQ</th>\n",
              "      <td>1.0</td>\n",
              "      <td>100000.00</td>\n",
              "      <td>NaN</td>\n",
              "      <td>100000.0</td>\n",
              "      <td>100000.00</td>\n",
              "      <td>100000.0</td>\n",
              "      <td>100000.00</td>\n",
              "      <td>100000.0</td>\n",
              "    </tr>\n",
              "    <tr>\n",
              "      <th>JP</th>\n",
              "      <td>7.0</td>\n",
              "      <td>103537.71</td>\n",
              "      <td>81283.30</td>\n",
              "      <td>40000.0</td>\n",
              "      <td>52700.00</td>\n",
              "      <td>74000.0</td>\n",
              "      <td>122682.00</td>\n",
              "      <td>260000.0</td>\n",
              "    </tr>\n",
              "    <tr>\n",
              "      <th>SG</th>\n",
              "      <td>2.0</td>\n",
              "      <td>104176.50</td>\n",
              "      <td>21047.03</td>\n",
              "      <td>89294.0</td>\n",
              "      <td>96735.25</td>\n",
              "      <td>104176.5</td>\n",
              "      <td>111617.75</td>\n",
              "      <td>119059.0</td>\n",
              "    </tr>\n",
              "    <tr>\n",
              "      <th>RU</th>\n",
              "      <td>4.0</td>\n",
              "      <td>105750.00</td>\n",
              "      <td>84255.07</td>\n",
              "      <td>48000.0</td>\n",
              "      <td>57000.00</td>\n",
              "      <td>72500.0</td>\n",
              "      <td>121250.00</td>\n",
              "      <td>230000.0</td>\n",
              "    </tr>\n",
              "    <tr>\n",
              "      <th>AU</th>\n",
              "      <td>3.0</td>\n",
              "      <td>108042.67</td>\n",
              "      <td>36337.91</td>\n",
              "      <td>86703.0</td>\n",
              "      <td>87064.00</td>\n",
              "      <td>87425.0</td>\n",
              "      <td>118712.50</td>\n",
              "      <td>150000.0</td>\n",
              "    </tr>\n",
              "    <tr>\n",
              "      <th>CH</th>\n",
              "      <td>1.0</td>\n",
              "      <td>122346.00</td>\n",
              "      <td>NaN</td>\n",
              "      <td>122346.0</td>\n",
              "      <td>122346.00</td>\n",
              "      <td>122346.0</td>\n",
              "      <td>122346.00</td>\n",
              "      <td>122346.0</td>\n",
              "    </tr>\n",
              "    <tr>\n",
              "      <th>NZ</th>\n",
              "      <td>1.0</td>\n",
              "      <td>125000.00</td>\n",
              "      <td>NaN</td>\n",
              "      <td>125000.0</td>\n",
              "      <td>125000.00</td>\n",
              "      <td>125000.0</td>\n",
              "      <td>125000.00</td>\n",
              "      <td>125000.0</td>\n",
              "    </tr>\n",
              "    <tr>\n",
              "      <th>US</th>\n",
              "      <td>295.0</td>\n",
              "      <td>150094.92</td>\n",
              "      <td>70918.56</td>\n",
              "      <td>25000.0</td>\n",
              "      <td>105200.00</td>\n",
              "      <td>138000.0</td>\n",
              "      <td>175550.00</td>\n",
              "      <td>600000.0</td>\n",
              "    </tr>\n",
              "    <tr>\n",
              "      <th>PR</th>\n",
              "      <td>1.0</td>\n",
              "      <td>160000.00</td>\n",
              "      <td>NaN</td>\n",
              "      <td>160000.0</td>\n",
              "      <td>160000.00</td>\n",
              "      <td>160000.0</td>\n",
              "      <td>160000.00</td>\n",
              "      <td>160000.0</td>\n",
              "    </tr>\n",
              "    <tr>\n",
              "      <th>MY</th>\n",
              "      <td>1.0</td>\n",
              "      <td>200000.00</td>\n",
              "      <td>NaN</td>\n",
              "      <td>200000.0</td>\n",
              "      <td>200000.00</td>\n",
              "      <td>200000.0</td>\n",
              "      <td>200000.00</td>\n",
              "      <td>200000.0</td>\n",
              "    </tr>\n",
              "  </tbody>\n",
              "</table>\n",
              "</div>"
            ],
            "text/plain": [
              "                    count       mean       std       min        25%       50%  \\\n",
              "employee_residence                                                              \n",
              "IR                    1.0    4000.00       NaN    4000.0    4000.00    4000.0   \n",
              "KE                    1.0    9272.00       NaN    9272.0    9272.00    9272.0   \n",
              "UA                    1.0   13400.00       NaN   13400.0   13400.00   13400.0   \n",
              "MD                    1.0   18000.00       NaN   18000.0   18000.00   18000.0   \n",
              "MX                    2.0   18185.00  21674.24    2859.0   10522.00   18185.0   \n",
              "HN                    1.0   20000.00       NaN   20000.0   20000.00   20000.0   \n",
              "TR                    3.0   20096.67   7956.76   12103.0   16137.00   20171.0   \n",
              "CO                    1.0   21844.00       NaN   21844.0   21844.00   21844.0   \n",
              "RS                    1.0   25532.00       NaN   25532.0   25532.00   25532.0   \n",
              "PK                    6.0   27462.83  22766.22    8000.0   12000.00   16000.0   \n",
              "MT                    1.0   28369.00       NaN   28369.0   28369.00   28369.0   \n",
              "NG                    2.0   30000.00  28284.27   10000.0   20000.00   30000.0   \n",
              "VN                    3.0   30800.00  23923.21    4000.0   21200.00   38400.0   \n",
              "TN                    1.0   31875.00       NaN   31875.0   31875.00   31875.0   \n",
              "EE                    1.0   32974.00       NaN   32974.0   32974.00   32974.0   \n",
              "HU                    2.0   35997.00    370.52   35735.0   35866.00   35997.0   \n",
              "DK                    2.0   37252.50  12223.75   28609.0   32930.75   37252.5   \n",
              "IN                   30.0   37322.33  43741.19    5409.0   16397.00   22124.0   \n",
              "CL                    1.0   40038.00       NaN   40038.0   40038.00   40038.0   \n",
              "PT                    6.0   42862.50  21443.78   10000.0   29032.25   53090.0   \n",
              "CN                    1.0   43331.00       NaN   43331.0   43331.00   43331.0   \n",
              "HR                    1.0   45618.00       NaN   45618.0   45618.00   45618.0   \n",
              "PH                    1.0   45760.00       NaN   45760.0   45760.00   45760.0   \n",
              "RO                    2.0   51419.00  35940.82   26005.0   38712.00   51419.0   \n",
              "BR                    6.0   54634.67  61537.35   12000.0   14402.50   21453.5   \n",
              "PL                    4.0   56177.50  39293.27   28476.0   33811.50   41093.5   \n",
              "GR                   12.0   56445.75  21544.77   20000.0   43021.75   52209.0   \n",
              "ES                   15.0   57593.40  28395.03   10354.0   41371.00   49461.0   \n",
              "LU                    1.0   59102.00       NaN   59102.0   59102.00   59102.0   \n",
              "FR                   18.0   59886.61  15848.69   36643.0   49734.50   57920.0   \n",
              "AR                    1.0   60000.00       NaN   60000.0   60000.00   60000.0   \n",
              "NL                    5.0   60956.60  17746.57   42000.0   45391.00   62651.0   \n",
              "IT                    4.0   61600.00  63014.24   20000.0   21251.75   36366.5   \n",
              "SI                    2.0   63831.00  55165.64   24823.0   44327.00   63831.0   \n",
              "HK                    1.0   66022.00       NaN   66022.0   66022.00   66022.0   \n",
              "CZ                    1.0   69999.00       NaN   69999.0   69999.00   69999.0   \n",
              "IE                    1.0   71444.00       NaN   71444.0   71444.00   71444.0   \n",
              "BO                    1.0   75000.00       NaN   75000.0   75000.00   75000.0   \n",
              "AT                    3.0   76738.67  13386.02   64849.0   69489.50   74130.0   \n",
              "BG                    1.0   80000.00       NaN   80000.0   80000.00   80000.0   \n",
              "GB                   43.0   81470.07  30283.75   37300.0   55247.00   78526.0   \n",
              "DE                   24.0   85336.67  40215.64   15966.0   62411.25   78015.0   \n",
              "BE                    2.0   85699.00   4179.00   82744.0   84221.50   85699.0   \n",
              "CA                   27.0   97191.63  40151.79   52000.0   71349.00   85000.0   \n",
              "AE                    3.0  100000.00  30413.81   65000.0   90000.00  115000.0   \n",
              "JE                    1.0  100000.00       NaN  100000.0  100000.00  100000.0   \n",
              "DZ                    1.0  100000.00       NaN  100000.0  100000.00  100000.0   \n",
              "IQ                    1.0  100000.00       NaN  100000.0  100000.00  100000.0   \n",
              "JP                    7.0  103537.71  81283.30   40000.0   52700.00   74000.0   \n",
              "SG                    2.0  104176.50  21047.03   89294.0   96735.25  104176.5   \n",
              "RU                    4.0  105750.00  84255.07   48000.0   57000.00   72500.0   \n",
              "AU                    3.0  108042.67  36337.91   86703.0   87064.00   87425.0   \n",
              "CH                    1.0  122346.00       NaN  122346.0  122346.00  122346.0   \n",
              "NZ                    1.0  125000.00       NaN  125000.0  125000.00  125000.0   \n",
              "US                  295.0  150094.92  70918.56   25000.0  105200.00  138000.0   \n",
              "PR                    1.0  160000.00       NaN  160000.0  160000.00  160000.0   \n",
              "MY                    1.0  200000.00       NaN  200000.0  200000.00  200000.0   \n",
              "\n",
              "                          75%       max  \n",
              "employee_residence                       \n",
              "IR                    4000.00    4000.0  \n",
              "KE                    9272.00    9272.0  \n",
              "UA                   13400.00   13400.0  \n",
              "MD                   18000.00   18000.0  \n",
              "MX                   25848.00   33511.0  \n",
              "HN                   20000.00   20000.0  \n",
              "TR                   24093.50   28016.0  \n",
              "CO                   21844.00   21844.0  \n",
              "RS                   25532.00   25532.0  \n",
              "PK                   46056.50   58035.0  \n",
              "MT                   28369.00   28369.0  \n",
              "NG                   40000.00   50000.0  \n",
              "VN                   44200.00   50000.0  \n",
              "TN                   31875.00   31875.0  \n",
              "EE                   32974.00   32974.0  \n",
              "HU                   36128.00   36259.0  \n",
              "DK                   41574.25   45896.0  \n",
              "IN                   38812.75  200000.0  \n",
              "CL                   40038.00   40038.0  \n",
              "PT                   57691.25   60757.0  \n",
              "CN                   43331.00   43331.0  \n",
              "HR                   45618.00   45618.0  \n",
              "PH                   45760.00   45760.0  \n",
              "RO                   64126.00   76833.0  \n",
              "BR                   81000.00  160000.0  \n",
              "PL                   63459.50  114047.0  \n",
              "GR                   70556.00   88654.0  \n",
              "ES                   71444.50  130800.0  \n",
              "LU                   59102.00   59102.0  \n",
              "FR                   69342.50   93427.0  \n",
              "AR                   60000.00   60000.0  \n",
              "NL                   69741.00   85000.0  \n",
              "IT                   76714.75  153667.0  \n",
              "SI                   83335.00  102839.0  \n",
              "HK                   66022.00   66022.0  \n",
              "CZ                   69999.00   69999.0  \n",
              "IE                   71444.00   71444.0  \n",
              "BO                   75000.00   75000.0  \n",
              "AT                   82683.50   91237.0  \n",
              "BG                   80000.00   80000.0  \n",
              "GB                  103931.00  183228.0  \n",
              "DE                   94859.50  173762.0  \n",
              "BE                   87176.50   88654.0  \n",
              "CA                  110397.50  196979.0  \n",
              "AE                  117500.00  120000.0  \n",
              "JE                  100000.00  100000.0  \n",
              "DZ                  100000.00  100000.0  \n",
              "IQ                  100000.00  100000.0  \n",
              "JP                  122682.00  260000.0  \n",
              "SG                  111617.75  119059.0  \n",
              "RU                  121250.00  230000.0  \n",
              "AU                  118712.50  150000.0  \n",
              "CH                  122346.00  122346.0  \n",
              "NZ                  125000.00  125000.0  \n",
              "US                  175550.00  600000.0  \n",
              "PR                  160000.00  160000.0  \n",
              "MY                  200000.00  200000.0  "
            ]
          },
          "execution_count": 50,
          "metadata": {},
          "output_type": "execute_result"
        }
      ],
      "source": [
        "data_agg = data.groupby('employee_residence')['salary_in_usd'].describe().round(2).sort_values('mean')\n",
        "print('Уровень зарплаты в зависимости от страны проживания сотрудников.')\n",
        "data_agg"
      ]
    },
    {
      "attachments": {},
      "cell_type": "markdown",
      "metadata": {},
      "source": [
        "На первый взгляд распределения уровня зарплат по странам проживания работников различны. Выборки многих стран представлени малым количеством работников (<10), что может затруднить процесс определение статистической значимости. Чтобы определить, являются ли эти различия статистически значимыми, необходимо провести статистическое тестирование."
      ]
    },
    {
      "attachments": {},
      "cell_type": "markdown",
      "metadata": {},
      "source": [
        "#### Распределение уровня зарплат в зависимости от объема удаленной работы"
      ]
    },
    {
      "cell_type": "code",
      "execution_count": 21,
      "metadata": {},
      "outputs": [
        {
          "data": {
            "image/png": "[encoded data removed]",
            "text/plain": [
              "<Figure size 640x480 with 1 Axes>"
            ]
          },
          "metadata": {},
          "output_type": "display_data"
        }
      ],
      "source": [
        "ax = sns.boxplot(data, x='salary_in_usd', y='remote_ratio', orient='h', medianprops={\"color\": \"red\", \"linestyle\": '--'})\n",
        "ax.set(xlabel='Размер зарплаты в долларах США', ylabel='Объем удаленной работы')\n",
        "plt.title('Распределение зарплат по объему удаленной работы')\n",
        "plt.show()"
      ]
    },
    {
      "cell_type": "code",
      "execution_count": 51,
      "metadata": {},
      "outputs": [
        {
          "name": "stdout",
          "output_type": "stream",
          "text": [
            "Зависимость зарплаты от объема удаленной работы.\n"
          ]
        },
        {
          "data": {
            "text/html": [
              "<div>\n",
              "<style scoped>\n",
              "    .dataframe tbody tr th:only-of-type {\n",
              "        vertical-align: middle;\n",
              "    }\n",
              "\n",
              "    .dataframe tbody tr th {\n",
              "        vertical-align: top;\n",
              "    }\n",
              "\n",
              "    .dataframe thead th {\n",
              "        text-align: right;\n",
              "    }\n",
              "</style>\n",
              "<table border=\"1\" class=\"dataframe\">\n",
              "  <thead>\n",
              "    <tr style=\"text-align: right;\">\n",
              "      <th></th>\n",
              "      <th>count</th>\n",
              "      <th>mean</th>\n",
              "      <th>std</th>\n",
              "      <th>min</th>\n",
              "      <th>25%</th>\n",
              "      <th>50%</th>\n",
              "      <th>75%</th>\n",
              "      <th>max</th>\n",
              "    </tr>\n",
              "    <tr>\n",
              "      <th>remote_ratio</th>\n",
              "      <th></th>\n",
              "      <th></th>\n",
              "      <th></th>\n",
              "      <th></th>\n",
              "      <th></th>\n",
              "      <th></th>\n",
              "      <th></th>\n",
              "      <th></th>\n",
              "    </tr>\n",
              "  </thead>\n",
              "  <tbody>\n",
              "    <tr>\n",
              "      <th>50</th>\n",
              "      <td>98.0</td>\n",
              "      <td>80721.90</td>\n",
              "      <td>57639.10</td>\n",
              "      <td>5409.0</td>\n",
              "      <td>50000.5</td>\n",
              "      <td>68010.5</td>\n",
              "      <td>99925.75</td>\n",
              "      <td>423000.0</td>\n",
              "    </tr>\n",
              "    <tr>\n",
              "      <th>0</th>\n",
              "      <td>121.0</td>\n",
              "      <td>105785.40</td>\n",
              "      <td>68392.50</td>\n",
              "      <td>2859.0</td>\n",
              "      <td>62000.0</td>\n",
              "      <td>98158.0</td>\n",
              "      <td>136000.00</td>\n",
              "      <td>450000.0</td>\n",
              "    </tr>\n",
              "    <tr>\n",
              "      <th>100</th>\n",
              "      <td>346.0</td>\n",
              "      <td>120763.19</td>\n",
              "      <td>74930.43</td>\n",
              "      <td>4000.0</td>\n",
              "      <td>70000.0</td>\n",
              "      <td>110712.5</td>\n",
              "      <td>159750.00</td>\n",
              "      <td>600000.0</td>\n",
              "    </tr>\n",
              "  </tbody>\n",
              "</table>\n",
              "</div>"
            ],
            "text/plain": [
              "              count       mean       std     min      25%       50%  \\\n",
              "remote_ratio                                                          \n",
              "50             98.0   80721.90  57639.10  5409.0  50000.5   68010.5   \n",
              "0             121.0  105785.40  68392.50  2859.0  62000.0   98158.0   \n",
              "100           346.0  120763.19  74930.43  4000.0  70000.0  110712.5   \n",
              "\n",
              "                    75%       max  \n",
              "remote_ratio                       \n",
              "50             99925.75  423000.0  \n",
              "0             136000.00  450000.0  \n",
              "100           159750.00  600000.0  "
            ]
          },
          "execution_count": 51,
          "metadata": {},
          "output_type": "execute_result"
        }
      ],
      "source": [
        "data_agg = data.groupby('remote_ratio')['salary_in_usd'].describe().round(2).sort_values('mean')\n",
        "print('Зависимость зарплаты от объема удаленной работы.')\n",
        "data_agg"
      ]
    },
    {
      "attachments": {},
      "cell_type": "markdown",
      "metadata": {},
      "source": [
        "На первый взгляд распределения уровня зарплат по объему удаленной работы различны. Можно отметить что подавляющее большинство работников (61% от общего числа) работатют полностью удаленно. А наибольший ровень средней зарплаты отмечается у сотрудников на полностью удаленной работе. Чтобы определить, являются ли эти различия статистически значимыми, необходимо провести статистическое тестирование."
      ]
    },
    {
      "attachments": {},
      "cell_type": "markdown",
      "metadata": {},
      "source": [
        "#### Распределение уровня зарплат в зависимости от страны нахожедния офиса или филиала работодателя"
      ]
    },
    {
      "cell_type": "code",
      "execution_count": 52,
      "metadata": {},
      "outputs": [
        {
          "data": {
            "application/vnd.plotly.v1+json": {
              "config": {
                "plotlyServerURL": "https://plot.ly"
              },
              "data": [
                {
                  "coloraxis": "coloraxis",
                  "geo": "geo",
                  "hovertemplate": "company_location_iso=%{location}<br>salary_in_usd=%{z}<extra></extra>",
                  "locationmode": "ISO-3",
                  "locations": [
                    "ARE",
                    "ASM",
                    "AUS",
                    "AUT",
                    "BEL",
                    "BRA",
                    "CAN",
                    "CHE",
                    "CHL",
                    "CHN",
                    "COL",
                    "CZE",
                    "DEU",
                    "DNK",
                    "DZA",
                    "ESP",
                    "EST",
                    "FRA",
                    "GBR",
                    "GRC",
                    "HND",
                    "HRV",
                    "HUN",
                    "IND",
                    "IRL",
                    "IRN",
                    "IRQ",
                    "ISR",
                    "ITA",
                    "JPN",
                    "KEN",
                    "LUX",
                    "MDA",
                    "MEX",
                    "MLT",
                    "MYS",
                    "NGA",
                    "NLD",
                    "NZL",
                    "PAK",
                    "POL",
                    "PRT",
                    "ROU",
                    "RUS",
                    "SGP",
                    "SVN",
                    "TUR",
                    "UKR",
                    "USA",
                    "VNM"
                  ],
                  "name": "",
                  "type": "choropleth",
                  "z": [
                    100000,
                    18053,
                    108042.66666666667,
                    72920.75,
                    85699,
                    18602.666666666668,
                    100121.85714285714,
                    64114,
                    40038,
                    71665.5,
                    21844,
                    50937,
                    81559.55555555556,
                    54386.333333333336,
                    100000,
                    53060.142857142855,
                    32974,
                    63970.666666666664,
                    81649.5,
                    52026.7,
                    20000,
                    45618,
                    35735,
                    28581.75,
                    71444,
                    4000,
                    100000,
                    119059,
                    36366.5,
                    114127.33333333333,
                    9272,
                    43942.666666666664,
                    18000,
                    32123.333333333332,
                    28369,
                    40000,
                    30000,
                    54945.75,
                    125000,
                    13333.333333333334,
                    66082.5,
                    47793.75,
                    60000,
                    157500,
                    89294,
                    63831,
                    20096.666666666668,
                    13400,
                    144292.99371069184,
                    4000
                  ]
                }
              ],
              "layout": {
                "coloraxis": {
                  "cmax": 200000,
                  "cmin": 0,
                  "colorbar": {
                    "title": {
                      "text": "salary_in_usd"
                    }
                  },
                  "colorscale": [
                    [
                      0,
                      "rgb(255,245,240)"
                    ],
                    [
                      0.125,
                      "rgb(254,224,210)"
                    ],
                    [
                      0.25,
                      "rgb(252,187,161)"
                    ],
                    [
                      0.375,
                      "rgb(252,146,114)"
                    ],
                    [
                      0.5,
                      "rgb(251,106,74)"
                    ],
                    [
                      0.625,
                      "rgb(239,59,44)"
                    ],
                    [
                      0.75,
                      "rgb(203,24,29)"
                    ],
                    [
                      0.875,
                      "rgb(165,15,21)"
                    ],
                    [
                      1,
                      "rgb(103,0,13)"
                    ]
                  ]
                },
                "geo": {
                  "center": {},
                  "domain": {
                    "x": [
                      0,
                      1
                    ],
                    "y": [
                      0,
                      1
                    ]
                  }
                },
                "height": 500,
                "legend": {
                  "tracegroupgap": 0
                },
                "template": {
                  "data": {
                    "bar": [
                      {
                        "error_x": {
                          "color": "#2a3f5f"
                        },
                        "error_y": {
                          "color": "#2a3f5f"
                        },
                        "marker": {
                          "line": {
                            "color": "#E5ECF6",
                            "width": 0.5
                          },
                          "pattern": {
                            "fillmode": "overlay",
                            "size": 10,
                            "solidity": 0.2
                          }
                        },
                        "type": "bar"
                      }
                    ],
                    "barpolar": [
                      {
                        "marker": {
                          "line": {
                            "color": "#E5ECF6",
                            "width": 0.5
                          },
                          "pattern": {
                            "fillmode": "overlay",
                            "size": 10,
                            "solidity": 0.2
                          }
                        },
                        "type": "barpolar"
                      }
                    ],
                    "carpet": [
                      {
                        "aaxis": {
                          "endlinecolor": "#2a3f5f",
                          "gridcolor": "white",
                          "linecolor": "white",
                          "minorgridcolor": "white",
                          "startlinecolor": "#2a3f5f"
                        },
                        "baxis": {
                          "endlinecolor": "#2a3f5f",
                          "gridcolor": "white",
                          "linecolor": "white",
                          "minorgridcolor": "white",
                          "startlinecolor": "#2a3f5f"
                        },
                        "type": "carpet"
                      }
                    ],
                    "choropleth": [
                      {
                        "colorbar": {
                          "outlinewidth": 0,
                          "ticks": ""
                        },
                        "type": "choropleth"
                      }
                    ],
                    "contour": [
                      {
                        "colorbar": {
                          "outlinewidth": 0,
                          "ticks": ""
                        },
                        "colorscale": [
                          [
                            0,
                            "#0d0887"
                          ],
                          [
                            0.1111111111111111,
                            "#46039f"
                          ],
                          [
                            0.2222222222222222,
                            "#7201a8"
                          ],
                          [
                            0.3333333333333333,
                            "#9c179e"
                          ],
                          [
                            0.4444444444444444,
                            "#bd3786"
                          ],
                          [
                            0.5555555555555556,
                            "#d8576b"
                          ],
                          [
                            0.6666666666666666,
                            "#ed7953"
                          ],
                          [
                            0.7777777777777778,
                            "#fb9f3a"
                          ],
                          [
                            0.8888888888888888,
                            "#fdca26"
                          ],
                          [
                            1,
                            "#f0f921"
                          ]
                        ],
                        "type": "contour"
                      }
                    ],
                    "contourcarpet": [
                      {
                        "colorbar": {
                          "outlinewidth": 0,
                          "ticks": ""
                        },
                        "type": "contourcarpet"
                      }
                    ],
                    "heatmap": [
                      {
                        "colorbar": {
                          "outlinewidth": 0,
                          "ticks": ""
                        },
                        "colorscale": [
                          [
                            0,
                            "#0d0887"
                          ],
                          [
                            0.1111111111111111,
                            "#46039f"
                          ],
                          [
                            0.2222222222222222,
                            "#7201a8"
                          ],
                          [
                            0.3333333333333333,
                            "#9c179e"
                          ],
                          [
                            0.4444444444444444,
                            "#bd3786"
                          ],
                          [
                            0.5555555555555556,
                            "#d8576b"
                          ],
                          [
                            0.6666666666666666,
                            "#ed7953"
                          ],
                          [
                            0.7777777777777778,
                            "#fb9f3a"
                          ],
                          [
                            0.8888888888888888,
                            "#fdca26"
                          ],
                          [
                            1,
                            "#f0f921"
                          ]
                        ],
                        "type": "heatmap"
                      }
                    ],
                    "heatmapgl": [
                      {
                        "colorbar": {
                          "outlinewidth": 0,
                          "ticks": ""
                        },
                        "colorscale": [
                          [
                            0,
                            "#0d0887"
                          ],
                          [
                            0.1111111111111111,
                            "#46039f"
                          ],
                          [
                            0.2222222222222222,
                            "#7201a8"
                          ],
                          [
                            0.3333333333333333,
                            "#9c179e"
                          ],
                          [
                            0.4444444444444444,
                            "#bd3786"
                          ],
                          [
                            0.5555555555555556,
                            "#d8576b"
                          ],
                          [
                            0.6666666666666666,
                            "#ed7953"
                          ],
                          [
                            0.7777777777777778,
                            "#fb9f3a"
                          ],
                          [
                            0.8888888888888888,
                            "#fdca26"
                          ],
                          [
                            1,
                            "#f0f921"
                          ]
                        ],
                        "type": "heatmapgl"
                      }
                    ],
                    "histogram": [
                      {
                        "marker": {
                          "pattern": {
                            "fillmode": "overlay",
                            "size": 10,
                            "solidity": 0.2
                          }
                        },
                        "type": "histogram"
                      }
                    ],
                    "histogram2d": [
                      {
                        "colorbar": {
                          "outlinewidth": 0,
                          "ticks": ""
                        },
                        "colorscale": [
                          [
                            0,
                            "#0d0887"
                          ],
                          [
                            0.1111111111111111,
                            "#46039f"
                          ],
                          [
                            0.2222222222222222,
                            "#7201a8"
                          ],
                          [
                            0.3333333333333333,
                            "#9c179e"
                          ],
                          [
                            0.4444444444444444,
                            "#bd3786"
                          ],
                          [
                            0.5555555555555556,
                            "#d8576b"
                          ],
                          [
                            0.6666666666666666,
                            "#ed7953"
                          ],
                          [
                            0.7777777777777778,
                            "#fb9f3a"
                          ],
                          [
                            0.8888888888888888,
                            "#fdca26"
                          ],
                          [
                            1,
                            "#f0f921"
                          ]
                        ],
                        "type": "histogram2d"
                      }
                    ],
                    "histogram2dcontour": [
                      {
                        "colorbar": {
                          "outlinewidth": 0,
                          "ticks": ""
                        },
                        "colorscale": [
                          [
                            0,
                            "#0d0887"
                          ],
                          [
                            0.1111111111111111,
                            "#46039f"
                          ],
                          [
                            0.2222222222222222,
                            "#7201a8"
                          ],
                          [
                            0.3333333333333333,
                            "#9c179e"
                          ],
                          [
                            0.4444444444444444,
                            "#bd3786"
                          ],
                          [
                            0.5555555555555556,
                            "#d8576b"
                          ],
                          [
                            0.6666666666666666,
                            "#ed7953"
                          ],
                          [
                            0.7777777777777778,
                            "#fb9f3a"
                          ],
                          [
                            0.8888888888888888,
                            "#fdca26"
                          ],
                          [
                            1,
                            "#f0f921"
                          ]
                        ],
                        "type": "histogram2dcontour"
                      }
                    ],
                    "mesh3d": [
                      {
                        "colorbar": {
                          "outlinewidth": 0,
                          "ticks": ""
                        },
                        "type": "mesh3d"
                      }
                    ],
                    "parcoords": [
                      {
                        "line": {
                          "colorbar": {
                            "outlinewidth": 0,
                            "ticks": ""
                          }
                        },
                        "type": "parcoords"
                      }
                    ],
                    "pie": [
                      {
                        "automargin": true,
                        "type": "pie"
                      }
                    ],
                    "scatter": [
                      {
                        "fillpattern": {
                          "fillmode": "overlay",
                          "size": 10,
                          "solidity": 0.2
                        },
                        "type": "scatter"
                      }
                    ],
                    "scatter3d": [
                      {
                        "line": {
                          "colorbar": {
                            "outlinewidth": 0,
                            "ticks": ""
                          }
                        },
                        "marker": {
                          "colorbar": {
                            "outlinewidth": 0,
                            "ticks": ""
                          }
                        },
                        "type": "scatter3d"
                      }
                    ],
                    "scattercarpet": [
                      {
                        "marker": {
                          "colorbar": {
                            "outlinewidth": 0,
                            "ticks": ""
                          }
                        },
                        "type": "scattercarpet"
                      }
                    ],
                    "scattergeo": [
                      {
                        "marker": {
                          "colorbar": {
                            "outlinewidth": 0,
                            "ticks": ""
                          }
                        },
                        "type": "scattergeo"
                      }
                    ],
                    "scattergl": [
                      {
                        "marker": {
                          "colorbar": {
                            "outlinewidth": 0,
                            "ticks": ""
                          }
                        },
                        "type": "scattergl"
                      }
                    ],
                    "scattermapbox": [
                      {
                        "marker": {
                          "colorbar": {
                            "outlinewidth": 0,
                            "ticks": ""
                          }
                        },
                        "type": "scattermapbox"
                      }
                    ],
                    "scatterpolar": [
                      {
                        "marker": {
                          "colorbar": {
                            "outlinewidth": 0,
                            "ticks": ""
                          }
                        },
                        "type": "scatterpolar"
                      }
                    ],
                    "scatterpolargl": [
                      {
                        "marker": {
                          "colorbar": {
                            "outlinewidth": 0,
                            "ticks": ""
                          }
                        },
                        "type": "scatterpolargl"
                      }
                    ],
                    "scatterternary": [
                      {
                        "marker": {
                          "colorbar": {
                            "outlinewidth": 0,
                            "ticks": ""
                          }
                        },
                        "type": "scatterternary"
                      }
                    ],
                    "surface": [
                      {
                        "colorbar": {
                          "outlinewidth": 0,
                          "ticks": ""
                        },
                        "colorscale": [
                          [
                            0,
                            "#0d0887"
                          ],
                          [
                            0.1111111111111111,
                            "#46039f"
                          ],
                          [
                            0.2222222222222222,
                            "#7201a8"
                          ],
                          [
                            0.3333333333333333,
                            "#9c179e"
                          ],
                          [
                            0.4444444444444444,
                            "#bd3786"
                          ],
                          [
                            0.5555555555555556,
                            "#d8576b"
                          ],
                          [
                            0.6666666666666666,
                            "#ed7953"
                          ],
                          [
                            0.7777777777777778,
                            "#fb9f3a"
                          ],
                          [
                            0.8888888888888888,
                            "#fdca26"
                          ],
                          [
                            1,
                            "#f0f921"
                          ]
                        ],
                        "type": "surface"
                      }
                    ],
                    "table": [
                      {
                        "cells": {
                          "fill": {
                            "color": "#EBF0F8"
                          },
                          "line": {
                            "color": "white"
                          }
                        },
                        "header": {
                          "fill": {
                            "color": "#C8D4E3"
                          },
                          "line": {
                            "color": "white"
                          }
                        },
                        "type": "table"
                      }
                    ]
                  },
                  "layout": {
                    "annotationdefaults": {
                      "arrowcolor": "#2a3f5f",
                      "arrowhead": 0,
                      "arrowwidth": 1
                    },
                    "autotypenumbers": "strict",
                    "coloraxis": {
                      "colorbar": {
                        "outlinewidth": 0,
                        "ticks": ""
                      }
                    },
                    "colorscale": {
                      "diverging": [
                        [
                          0,
                          "#8e0152"
                        ],
                        [
                          0.1,
                          "#c51b7d"
                        ],
                        [
                          0.2,
                          "#de77ae"
                        ],
                        [
                          0.3,
                          "#f1b6da"
                        ],
                        [
                          0.4,
                          "#fde0ef"
                        ],
                        [
                          0.5,
                          "#f7f7f7"
                        ],
                        [
                          0.6,
                          "#e6f5d0"
                        ],
                        [
                          0.7,
                          "#b8e186"
                        ],
                        [
                          0.8,
                          "#7fbc41"
                        ],
                        [
                          0.9,
                          "#4d9221"
                        ],
                        [
                          1,
                          "#276419"
                        ]
                      ],
                      "sequential": [
                        [
                          0,
                          "#0d0887"
                        ],
                        [
                          0.1111111111111111,
                          "#46039f"
                        ],
                        [
                          0.2222222222222222,
                          "#7201a8"
                        ],
                        [
                          0.3333333333333333,
                          "#9c179e"
                        ],
                        [
                          0.4444444444444444,
                          "#bd3786"
                        ],
                        [
                          0.5555555555555556,
                          "#d8576b"
                        ],
                        [
                          0.6666666666666666,
                          "#ed7953"
                        ],
                        [
                          0.7777777777777778,
                          "#fb9f3a"
                        ],
                        [
                          0.8888888888888888,
                          "#fdca26"
                        ],
                        [
                          1,
                          "#f0f921"
                        ]
                      ],
                      "sequentialminus": [
                        [
                          0,
                          "#0d0887"
                        ],
                        [
                          0.1111111111111111,
                          "#46039f"
                        ],
                        [
                          0.2222222222222222,
                          "#7201a8"
                        ],
                        [
                          0.3333333333333333,
                          "#9c179e"
                        ],
                        [
                          0.4444444444444444,
                          "#bd3786"
                        ],
                        [
                          0.5555555555555556,
                          "#d8576b"
                        ],
                        [
                          0.6666666666666666,
                          "#ed7953"
                        ],
                        [
                          0.7777777777777778,
                          "#fb9f3a"
                        ],
                        [
                          0.8888888888888888,
                          "#fdca26"
                        ],
                        [
                          1,
                          "#f0f921"
                        ]
                      ]
                    },
                    "colorway": [
                      "#636efa",
                      "#EF553B",
                      "#00cc96",
                      "#ab63fa",
                      "#FFA15A",
                      "#19d3f3",
                      "#FF6692",
                      "#B6E880",
                      "#FF97FF",
                      "#FECB52"
                    ],
                    "font": {
                      "color": "#2a3f5f"
                    },
                    "geo": {
                      "bgcolor": "white",
                      "lakecolor": "white",
                      "landcolor": "#E5ECF6",
                      "showlakes": true,
                      "showland": true,
                      "subunitcolor": "white"
                    },
                    "hoverlabel": {
                      "align": "left"
                    },
                    "hovermode": "closest",
                    "mapbox": {
                      "style": "light"
                    },
                    "paper_bgcolor": "white",
                    "plot_bgcolor": "#E5ECF6",
                    "polar": {
                      "angularaxis": {
                        "gridcolor": "white",
                        "linecolor": "white",
                        "ticks": ""
                      },
                      "bgcolor": "#E5ECF6",
                      "radialaxis": {
                        "gridcolor": "white",
                        "linecolor": "white",
                        "ticks": ""
                      }
                    },
                    "scene": {
                      "xaxis": {
                        "backgroundcolor": "#E5ECF6",
                        "gridcolor": "white",
                        "gridwidth": 2,
                        "linecolor": "white",
                        "showbackground": true,
                        "ticks": "",
                        "zerolinecolor": "white"
                      },
                      "yaxis": {
                        "backgroundcolor": "#E5ECF6",
                        "gridcolor": "white",
                        "gridwidth": 2,
                        "linecolor": "white",
                        "showbackground": true,
                        "ticks": "",
                        "zerolinecolor": "white"
                      },
                      "zaxis": {
                        "backgroundcolor": "#E5ECF6",
                        "gridcolor": "white",
                        "gridwidth": 2,
                        "linecolor": "white",
                        "showbackground": true,
                        "ticks": "",
                        "zerolinecolor": "white"
                      }
                    },
                    "shapedefaults": {
                      "line": {
                        "color": "#2a3f5f"
                      }
                    },
                    "ternary": {
                      "aaxis": {
                        "gridcolor": "white",
                        "linecolor": "white",
                        "ticks": ""
                      },
                      "baxis": {
                        "gridcolor": "white",
                        "linecolor": "white",
                        "ticks": ""
                      },
                      "bgcolor": "#E5ECF6",
                      "caxis": {
                        "gridcolor": "white",
                        "linecolor": "white",
                        "ticks": ""
                      }
                    },
                    "title": {
                      "x": 0.05
                    },
                    "xaxis": {
                      "automargin": true,
                      "gridcolor": "white",
                      "linecolor": "white",
                      "ticks": "",
                      "title": {
                        "standoff": 15
                      },
                      "zerolinecolor": "white",
                      "zerolinewidth": 2
                    },
                    "yaxis": {
                      "automargin": true,
                      "gridcolor": "white",
                      "linecolor": "white",
                      "ticks": "",
                      "title": {
                        "standoff": 15
                      },
                      "zerolinecolor": "white",
                      "zerolinewidth": 2
                    }
                  }
                },
                "title": {
                  "text": "Распределение среднего уровня зарплат работников в разрезе страны работодателя"
                },
                "width": 800
              }
            }
          },
          "metadata": {},
          "output_type": "display_data"
        }
      ],
      "source": [
        "# Записываем URL старницы в Википедии с указанием городов-милионников\n",
        "url = 'https://ru.wikipedia.org/wiki/ISO_3166-1'\n",
        "tables = pd.read_html(url) # записываем в переменную HTML-таблицы с указанной страницы\n",
        "iso_3166 = tables[0]\n",
        "iso_3166 = iso_3166.drop(['Страна','Цифровой ISO 3166-1','код ISO 3166-2'],axis=1)\n",
        "iso_3166\n",
        "\n",
        "data_iso = data.copy()\n",
        "\n",
        "# заменяем двукбуквенный код трехбуквенным\n",
        "data_iso = data_iso.merge(\n",
        "    iso_3166,\n",
        "    how='left',\n",
        "    left_on='company_location',\n",
        "    right_on='Alpha-2 ISO 3166-1'\n",
        ")\n",
        "data_iso.rename(columns={'Alpha-3 ISO 3166-1':'company_location_iso'},inplace=True)\n",
        "data_iso.drop(['company_location','Alpha-2 ISO 3166-1'],axis=1,inplace=True)\n",
        "\n",
        "grouped = data_iso.groupby('company_location_iso',as_index=False)['salary_in_usd'].mean()\n",
        "\n",
        "#строим график\n",
        "fig = px.choropleth(\n",
        "    data_frame=grouped, #DataFrame\n",
        "    locations='company_location_iso', #столбец с локациями\n",
        "    locationmode = \"ISO-3\", #режим сопоставления локаций с базой Plotly\n",
        "    color=\"salary_in_usd\", #от чего зависит цвет\n",
        "    range_color=[0, 20e4], #диапазон цвета\n",
        "    title='Распределение среднего уровня зарплат работников в разрезе страны работодателя', #заголовок\n",
        "    width=800, #ширина\n",
        "    height=500, #высота\n",
        "    color_continuous_scale='Reds' #палитра цветов\n",
        "    \n",
        ")\n",
        "\n",
        "#отображаем график\n",
        "fig.show()"
      ]
    },
    {
      "cell_type": "code",
      "execution_count": 54,
      "metadata": {},
      "outputs": [
        {
          "name": "stdout",
          "output_type": "stream",
          "text": [
            "Зависимость зарплаты от страны расположения офиса или филиала компании.\n"
          ]
        },
        {
          "data": {
            "text/html": [
              "<div>\n",
              "<style scoped>\n",
              "    .dataframe tbody tr th:only-of-type {\n",
              "        vertical-align: middle;\n",
              "    }\n",
              "\n",
              "    .dataframe tbody tr th {\n",
              "        vertical-align: top;\n",
              "    }\n",
              "\n",
              "    .dataframe thead th {\n",
              "        text-align: right;\n",
              "    }\n",
              "</style>\n",
              "<table border=\"1\" class=\"dataframe\">\n",
              "  <thead>\n",
              "    <tr style=\"text-align: right;\">\n",
              "      <th></th>\n",
              "      <th>count</th>\n",
              "      <th>mean</th>\n",
              "      <th>std</th>\n",
              "      <th>min</th>\n",
              "      <th>25%</th>\n",
              "      <th>50%</th>\n",
              "      <th>75%</th>\n",
              "      <th>max</th>\n",
              "    </tr>\n",
              "    <tr>\n",
              "      <th>company_location</th>\n",
              "      <th></th>\n",
              "      <th></th>\n",
              "      <th></th>\n",
              "      <th></th>\n",
              "      <th></th>\n",
              "      <th></th>\n",
              "      <th></th>\n",
              "      <th></th>\n",
              "    </tr>\n",
              "  </thead>\n",
              "  <tbody>\n",
              "    <tr>\n",
              "      <th>VN</th>\n",
              "      <td>1.0</td>\n",
              "      <td>4000.00</td>\n",
              "      <td>NaN</td>\n",
              "      <td>4000.0</td>\n",
              "      <td>4000.00</td>\n",
              "      <td>4000.0</td>\n",
              "      <td>4000.00</td>\n",
              "      <td>4000.0</td>\n",
              "    </tr>\n",
              "    <tr>\n",
              "      <th>IR</th>\n",
              "      <td>1.0</td>\n",
              "      <td>4000.00</td>\n",
              "      <td>NaN</td>\n",
              "      <td>4000.0</td>\n",
              "      <td>4000.00</td>\n",
              "      <td>4000.0</td>\n",
              "      <td>4000.00</td>\n",
              "      <td>4000.0</td>\n",
              "    </tr>\n",
              "    <tr>\n",
              "      <th>KE</th>\n",
              "      <td>1.0</td>\n",
              "      <td>9272.00</td>\n",
              "      <td>NaN</td>\n",
              "      <td>9272.0</td>\n",
              "      <td>9272.00</td>\n",
              "      <td>9272.0</td>\n",
              "      <td>9272.00</td>\n",
              "      <td>9272.0</td>\n",
              "    </tr>\n",
              "    <tr>\n",
              "      <th>PK</th>\n",
              "      <td>3.0</td>\n",
              "      <td>13333.33</td>\n",
              "      <td>6110.10</td>\n",
              "      <td>8000.0</td>\n",
              "      <td>10000.00</td>\n",
              "      <td>12000.0</td>\n",
              "      <td>16000.00</td>\n",
              "      <td>20000.0</td>\n",
              "    </tr>\n",
              "    <tr>\n",
              "      <th>UA</th>\n",
              "      <td>1.0</td>\n",
              "      <td>13400.00</td>\n",
              "      <td>NaN</td>\n",
              "      <td>13400.0</td>\n",
              "      <td>13400.00</td>\n",
              "      <td>13400.0</td>\n",
              "      <td>13400.00</td>\n",
              "      <td>13400.0</td>\n",
              "    </tr>\n",
              "    <tr>\n",
              "      <th>MD</th>\n",
              "      <td>1.0</td>\n",
              "      <td>18000.00</td>\n",
              "      <td>NaN</td>\n",
              "      <td>18000.0</td>\n",
              "      <td>18000.00</td>\n",
              "      <td>18000.0</td>\n",
              "      <td>18000.00</td>\n",
              "      <td>18000.0</td>\n",
              "    </tr>\n",
              "    <tr>\n",
              "      <th>AS</th>\n",
              "      <td>1.0</td>\n",
              "      <td>18053.00</td>\n",
              "      <td>NaN</td>\n",
              "      <td>18053.0</td>\n",
              "      <td>18053.00</td>\n",
              "      <td>18053.0</td>\n",
              "      <td>18053.00</td>\n",
              "      <td>18053.0</td>\n",
              "    </tr>\n",
              "    <tr>\n",
              "      <th>BR</th>\n",
              "      <td>3.0</td>\n",
              "      <td>18602.67</td>\n",
              "      <td>5555.76</td>\n",
              "      <td>12901.0</td>\n",
              "      <td>15904.00</td>\n",
              "      <td>18907.0</td>\n",
              "      <td>21453.50</td>\n",
              "      <td>24000.0</td>\n",
              "    </tr>\n",
              "    <tr>\n",
              "      <th>HN</th>\n",
              "      <td>1.0</td>\n",
              "      <td>20000.00</td>\n",
              "      <td>NaN</td>\n",
              "      <td>20000.0</td>\n",
              "      <td>20000.00</td>\n",
              "      <td>20000.0</td>\n",
              "      <td>20000.00</td>\n",
              "      <td>20000.0</td>\n",
              "    </tr>\n",
              "    <tr>\n",
              "      <th>TR</th>\n",
              "      <td>3.0</td>\n",
              "      <td>20096.67</td>\n",
              "      <td>7956.76</td>\n",
              "      <td>12103.0</td>\n",
              "      <td>16137.00</td>\n",
              "      <td>20171.0</td>\n",
              "      <td>24093.50</td>\n",
              "      <td>28016.0</td>\n",
              "    </tr>\n",
              "    <tr>\n",
              "      <th>CO</th>\n",
              "      <td>1.0</td>\n",
              "      <td>21844.00</td>\n",
              "      <td>NaN</td>\n",
              "      <td>21844.0</td>\n",
              "      <td>21844.00</td>\n",
              "      <td>21844.0</td>\n",
              "      <td>21844.00</td>\n",
              "      <td>21844.0</td>\n",
              "    </tr>\n",
              "    <tr>\n",
              "      <th>MT</th>\n",
              "      <td>1.0</td>\n",
              "      <td>28369.00</td>\n",
              "      <td>NaN</td>\n",
              "      <td>28369.0</td>\n",
              "      <td>28369.00</td>\n",
              "      <td>28369.0</td>\n",
              "      <td>28369.00</td>\n",
              "      <td>28369.0</td>\n",
              "    </tr>\n",
              "    <tr>\n",
              "      <th>IN</th>\n",
              "      <td>24.0</td>\n",
              "      <td>28581.75</td>\n",
              "      <td>22697.67</td>\n",
              "      <td>5409.0</td>\n",
              "      <td>16735.00</td>\n",
              "      <td>22124.0</td>\n",
              "      <td>32163.25</td>\n",
              "      <td>94665.0</td>\n",
              "    </tr>\n",
              "    <tr>\n",
              "      <th>NG</th>\n",
              "      <td>2.0</td>\n",
              "      <td>30000.00</td>\n",
              "      <td>28284.27</td>\n",
              "      <td>10000.0</td>\n",
              "      <td>20000.00</td>\n",
              "      <td>30000.0</td>\n",
              "      <td>40000.00</td>\n",
              "      <td>50000.0</td>\n",
              "    </tr>\n",
              "    <tr>\n",
              "      <th>MX</th>\n",
              "      <td>3.0</td>\n",
              "      <td>32123.33</td>\n",
              "      <td>28595.76</td>\n",
              "      <td>2859.0</td>\n",
              "      <td>18185.00</td>\n",
              "      <td>33511.0</td>\n",
              "      <td>46755.50</td>\n",
              "      <td>60000.0</td>\n",
              "    </tr>\n",
              "    <tr>\n",
              "      <th>EE</th>\n",
              "      <td>1.0</td>\n",
              "      <td>32974.00</td>\n",
              "      <td>NaN</td>\n",
              "      <td>32974.0</td>\n",
              "      <td>32974.00</td>\n",
              "      <td>32974.0</td>\n",
              "      <td>32974.00</td>\n",
              "      <td>32974.0</td>\n",
              "    </tr>\n",
              "    <tr>\n",
              "      <th>HU</th>\n",
              "      <td>1.0</td>\n",
              "      <td>35735.00</td>\n",
              "      <td>NaN</td>\n",
              "      <td>35735.0</td>\n",
              "      <td>35735.00</td>\n",
              "      <td>35735.0</td>\n",
              "      <td>35735.00</td>\n",
              "      <td>35735.0</td>\n",
              "    </tr>\n",
              "    <tr>\n",
              "      <th>IT</th>\n",
              "      <td>2.0</td>\n",
              "      <td>36366.50</td>\n",
              "      <td>20785.40</td>\n",
              "      <td>21669.0</td>\n",
              "      <td>29017.75</td>\n",
              "      <td>36366.5</td>\n",
              "      <td>43715.25</td>\n",
              "      <td>51064.0</td>\n",
              "    </tr>\n",
              "    <tr>\n",
              "      <th>MY</th>\n",
              "      <td>1.0</td>\n",
              "      <td>40000.00</td>\n",
              "      <td>NaN</td>\n",
              "      <td>40000.0</td>\n",
              "      <td>40000.00</td>\n",
              "      <td>40000.0</td>\n",
              "      <td>40000.00</td>\n",
              "      <td>40000.0</td>\n",
              "    </tr>\n",
              "    <tr>\n",
              "      <th>CL</th>\n",
              "      <td>1.0</td>\n",
              "      <td>40038.00</td>\n",
              "      <td>NaN</td>\n",
              "      <td>40038.0</td>\n",
              "      <td>40038.00</td>\n",
              "      <td>40038.0</td>\n",
              "      <td>40038.00</td>\n",
              "      <td>40038.0</td>\n",
              "    </tr>\n",
              "    <tr>\n",
              "      <th>LU</th>\n",
              "      <td>3.0</td>\n",
              "      <td>43942.67</td>\n",
              "      <td>29451.01</td>\n",
              "      <td>10000.0</td>\n",
              "      <td>34551.00</td>\n",
              "      <td>59102.0</td>\n",
              "      <td>60914.00</td>\n",
              "      <td>62726.0</td>\n",
              "    </tr>\n",
              "    <tr>\n",
              "      <th>HR</th>\n",
              "      <td>1.0</td>\n",
              "      <td>45618.00</td>\n",
              "      <td>NaN</td>\n",
              "      <td>45618.0</td>\n",
              "      <td>45618.00</td>\n",
              "      <td>45618.0</td>\n",
              "      <td>45618.00</td>\n",
              "      <td>45618.0</td>\n",
              "    </tr>\n",
              "    <tr>\n",
              "      <th>PT</th>\n",
              "      <td>4.0</td>\n",
              "      <td>47793.75</td>\n",
              "      <td>17789.25</td>\n",
              "      <td>21983.0</td>\n",
              "      <td>43130.75</td>\n",
              "      <td>54217.5</td>\n",
              "      <td>58880.50</td>\n",
              "      <td>60757.0</td>\n",
              "    </tr>\n",
              "    <tr>\n",
              "      <th>CZ</th>\n",
              "      <td>2.0</td>\n",
              "      <td>50937.00</td>\n",
              "      <td>26957.74</td>\n",
              "      <td>31875.0</td>\n",
              "      <td>41406.00</td>\n",
              "      <td>50937.0</td>\n",
              "      <td>60468.00</td>\n",
              "      <td>69999.0</td>\n",
              "    </tr>\n",
              "    <tr>\n",
              "      <th>GR</th>\n",
              "      <td>10.0</td>\n",
              "      <td>52026.70</td>\n",
              "      <td>20357.15</td>\n",
              "      <td>20000.0</td>\n",
              "      <td>41133.25</td>\n",
              "      <td>48680.0</td>\n",
              "      <td>63201.00</td>\n",
              "      <td>87932.0</td>\n",
              "    </tr>\n",
              "    <tr>\n",
              "      <th>ES</th>\n",
              "      <td>14.0</td>\n",
              "      <td>53060.14</td>\n",
              "      <td>21090.92</td>\n",
              "      <td>10354.0</td>\n",
              "      <td>40073.50</td>\n",
              "      <td>48371.5</td>\n",
              "      <td>68793.00</td>\n",
              "      <td>87932.0</td>\n",
              "    </tr>\n",
              "    <tr>\n",
              "      <th>DK</th>\n",
              "      <td>3.0</td>\n",
              "      <td>54386.33</td>\n",
              "      <td>30909.79</td>\n",
              "      <td>28609.0</td>\n",
              "      <td>37252.50</td>\n",
              "      <td>45896.0</td>\n",
              "      <td>67275.00</td>\n",
              "      <td>88654.0</td>\n",
              "    </tr>\n",
              "    <tr>\n",
              "      <th>NL</th>\n",
              "      <td>4.0</td>\n",
              "      <td>54945.75</td>\n",
              "      <td>13381.03</td>\n",
              "      <td>42000.0</td>\n",
              "      <td>44543.25</td>\n",
              "      <td>54021.0</td>\n",
              "      <td>64423.50</td>\n",
              "      <td>69741.0</td>\n",
              "    </tr>\n",
              "    <tr>\n",
              "      <th>RO</th>\n",
              "      <td>1.0</td>\n",
              "      <td>60000.00</td>\n",
              "      <td>NaN</td>\n",
              "      <td>60000.0</td>\n",
              "      <td>60000.00</td>\n",
              "      <td>60000.0</td>\n",
              "      <td>60000.00</td>\n",
              "      <td>60000.0</td>\n",
              "    </tr>\n",
              "    <tr>\n",
              "      <th>SI</th>\n",
              "      <td>2.0</td>\n",
              "      <td>63831.00</td>\n",
              "      <td>55165.64</td>\n",
              "      <td>24823.0</td>\n",
              "      <td>44327.00</td>\n",
              "      <td>63831.0</td>\n",
              "      <td>83335.00</td>\n",
              "      <td>102839.0</td>\n",
              "    </tr>\n",
              "    <tr>\n",
              "      <th>FR</th>\n",
              "      <td>15.0</td>\n",
              "      <td>63970.67</td>\n",
              "      <td>28679.63</td>\n",
              "      <td>36643.0</td>\n",
              "      <td>48202.50</td>\n",
              "      <td>56738.0</td>\n",
              "      <td>69143.00</td>\n",
              "      <td>152000.0</td>\n",
              "    </tr>\n",
              "    <tr>\n",
              "      <th>CH</th>\n",
              "      <td>2.0</td>\n",
              "      <td>64114.00</td>\n",
              "      <td>82352.48</td>\n",
              "      <td>5882.0</td>\n",
              "      <td>34998.00</td>\n",
              "      <td>64114.0</td>\n",
              "      <td>93230.00</td>\n",
              "      <td>122346.0</td>\n",
              "    </tr>\n",
              "    <tr>\n",
              "      <th>PL</th>\n",
              "      <td>4.0</td>\n",
              "      <td>66082.50</td>\n",
              "      <td>58863.60</td>\n",
              "      <td>28476.0</td>\n",
              "      <td>33811.50</td>\n",
              "      <td>41093.5</td>\n",
              "      <td>73364.50</td>\n",
              "      <td>153667.0</td>\n",
              "    </tr>\n",
              "    <tr>\n",
              "      <th>IE</th>\n",
              "      <td>1.0</td>\n",
              "      <td>71444.00</td>\n",
              "      <td>NaN</td>\n",
              "      <td>71444.0</td>\n",
              "      <td>71444.00</td>\n",
              "      <td>71444.0</td>\n",
              "      <td>71444.00</td>\n",
              "      <td>71444.0</td>\n",
              "    </tr>\n",
              "    <tr>\n",
              "      <th>CN</th>\n",
              "      <td>2.0</td>\n",
              "      <td>71665.50</td>\n",
              "      <td>40071.03</td>\n",
              "      <td>43331.0</td>\n",
              "      <td>57498.25</td>\n",
              "      <td>71665.5</td>\n",
              "      <td>85832.75</td>\n",
              "      <td>100000.0</td>\n",
              "    </tr>\n",
              "    <tr>\n",
              "      <th>AT</th>\n",
              "      <td>4.0</td>\n",
              "      <td>72920.75</td>\n",
              "      <td>13332.78</td>\n",
              "      <td>61467.0</td>\n",
              "      <td>64003.50</td>\n",
              "      <td>69489.5</td>\n",
              "      <td>78406.75</td>\n",
              "      <td>91237.0</td>\n",
              "    </tr>\n",
              "    <tr>\n",
              "      <th>DE</th>\n",
              "      <td>27.0</td>\n",
              "      <td>81559.56</td>\n",
              "      <td>39903.44</td>\n",
              "      <td>15966.0</td>\n",
              "      <td>58669.00</td>\n",
              "      <td>76833.0</td>\n",
              "      <td>89694.00</td>\n",
              "      <td>173762.0</td>\n",
              "    </tr>\n",
              "    <tr>\n",
              "      <th>GB</th>\n",
              "      <td>46.0</td>\n",
              "      <td>81649.50</td>\n",
              "      <td>29846.70</td>\n",
              "      <td>37300.0</td>\n",
              "      <td>56915.50</td>\n",
              "      <td>78526.0</td>\n",
              "      <td>104316.50</td>\n",
              "      <td>183228.0</td>\n",
              "    </tr>\n",
              "    <tr>\n",
              "      <th>BE</th>\n",
              "      <td>2.0</td>\n",
              "      <td>85699.00</td>\n",
              "      <td>4179.00</td>\n",
              "      <td>82744.0</td>\n",
              "      <td>84221.50</td>\n",
              "      <td>85699.0</td>\n",
              "      <td>87176.50</td>\n",
              "      <td>88654.0</td>\n",
              "    </tr>\n",
              "    <tr>\n",
              "      <th>SG</th>\n",
              "      <td>1.0</td>\n",
              "      <td>89294.00</td>\n",
              "      <td>NaN</td>\n",
              "      <td>89294.0</td>\n",
              "      <td>89294.00</td>\n",
              "      <td>89294.0</td>\n",
              "      <td>89294.00</td>\n",
              "      <td>89294.0</td>\n",
              "    </tr>\n",
              "    <tr>\n",
              "      <th>AE</th>\n",
              "      <td>3.0</td>\n",
              "      <td>100000.00</td>\n",
              "      <td>30413.81</td>\n",
              "      <td>65000.0</td>\n",
              "      <td>90000.00</td>\n",
              "      <td>115000.0</td>\n",
              "      <td>117500.00</td>\n",
              "      <td>120000.0</td>\n",
              "    </tr>\n",
              "    <tr>\n",
              "      <th>IQ</th>\n",
              "      <td>1.0</td>\n",
              "      <td>100000.00</td>\n",
              "      <td>NaN</td>\n",
              "      <td>100000.0</td>\n",
              "      <td>100000.00</td>\n",
              "      <td>100000.0</td>\n",
              "      <td>100000.00</td>\n",
              "      <td>100000.0</td>\n",
              "    </tr>\n",
              "    <tr>\n",
              "      <th>DZ</th>\n",
              "      <td>1.0</td>\n",
              "      <td>100000.00</td>\n",
              "      <td>NaN</td>\n",
              "      <td>100000.0</td>\n",
              "      <td>100000.00</td>\n",
              "      <td>100000.0</td>\n",
              "      <td>100000.00</td>\n",
              "      <td>100000.0</td>\n",
              "    </tr>\n",
              "    <tr>\n",
              "      <th>CA</th>\n",
              "      <td>28.0</td>\n",
              "      <td>100121.86</td>\n",
              "      <td>47080.71</td>\n",
              "      <td>52000.0</td>\n",
              "      <td>70518.00</td>\n",
              "      <td>81895.5</td>\n",
              "      <td>117374.75</td>\n",
              "      <td>225000.0</td>\n",
              "    </tr>\n",
              "    <tr>\n",
              "      <th>AU</th>\n",
              "      <td>3.0</td>\n",
              "      <td>108042.67</td>\n",
              "      <td>36337.91</td>\n",
              "      <td>86703.0</td>\n",
              "      <td>87064.00</td>\n",
              "      <td>87425.0</td>\n",
              "      <td>118712.50</td>\n",
              "      <td>150000.0</td>\n",
              "    </tr>\n",
              "    <tr>\n",
              "      <th>JP</th>\n",
              "      <td>6.0</td>\n",
              "      <td>114127.33</td>\n",
              "      <td>83584.64</td>\n",
              "      <td>41689.0</td>\n",
              "      <td>66283.25</td>\n",
              "      <td>75682.0</td>\n",
              "      <td>145341.00</td>\n",
              "      <td>260000.0</td>\n",
              "    </tr>\n",
              "    <tr>\n",
              "      <th>IL</th>\n",
              "      <td>1.0</td>\n",
              "      <td>119059.00</td>\n",
              "      <td>NaN</td>\n",
              "      <td>119059.0</td>\n",
              "      <td>119059.00</td>\n",
              "      <td>119059.0</td>\n",
              "      <td>119059.00</td>\n",
              "      <td>119059.0</td>\n",
              "    </tr>\n",
              "    <tr>\n",
              "      <th>NZ</th>\n",
              "      <td>1.0</td>\n",
              "      <td>125000.00</td>\n",
              "      <td>NaN</td>\n",
              "      <td>125000.0</td>\n",
              "      <td>125000.00</td>\n",
              "      <td>125000.0</td>\n",
              "      <td>125000.00</td>\n",
              "      <td>125000.0</td>\n",
              "    </tr>\n",
              "    <tr>\n",
              "      <th>US</th>\n",
              "      <td>318.0</td>\n",
              "      <td>144292.99</td>\n",
              "      <td>72524.34</td>\n",
              "      <td>5679.0</td>\n",
              "      <td>100000.00</td>\n",
              "      <td>135000.0</td>\n",
              "      <td>173000.00</td>\n",
              "      <td>600000.0</td>\n",
              "    </tr>\n",
              "    <tr>\n",
              "      <th>RU</th>\n",
              "      <td>2.0</td>\n",
              "      <td>157500.00</td>\n",
              "      <td>102530.48</td>\n",
              "      <td>85000.0</td>\n",
              "      <td>121250.00</td>\n",
              "      <td>157500.0</td>\n",
              "      <td>193750.00</td>\n",
              "      <td>230000.0</td>\n",
              "    </tr>\n",
              "  </tbody>\n",
              "</table>\n",
              "</div>"
            ],
            "text/plain": [
              "                  count       mean        std       min        25%       50%  \\\n",
              "company_location                                                               \n",
              "VN                  1.0    4000.00        NaN    4000.0    4000.00    4000.0   \n",
              "IR                  1.0    4000.00        NaN    4000.0    4000.00    4000.0   \n",
              "KE                  1.0    9272.00        NaN    9272.0    9272.00    9272.0   \n",
              "PK                  3.0   13333.33    6110.10    8000.0   10000.00   12000.0   \n",
              "UA                  1.0   13400.00        NaN   13400.0   13400.00   13400.0   \n",
              "MD                  1.0   18000.00        NaN   18000.0   18000.00   18000.0   \n",
              "AS                  1.0   18053.00        NaN   18053.0   18053.00   18053.0   \n",
              "BR                  3.0   18602.67    5555.76   12901.0   15904.00   18907.0   \n",
              "HN                  1.0   20000.00        NaN   20000.0   20000.00   20000.0   \n",
              "TR                  3.0   20096.67    7956.76   12103.0   16137.00   20171.0   \n",
              "CO                  1.0   21844.00        NaN   21844.0   21844.00   21844.0   \n",
              "MT                  1.0   28369.00        NaN   28369.0   28369.00   28369.0   \n",
              "IN                 24.0   28581.75   22697.67    5409.0   16735.00   22124.0   \n",
              "NG                  2.0   30000.00   28284.27   10000.0   20000.00   30000.0   \n",
              "MX                  3.0   32123.33   28595.76    2859.0   18185.00   33511.0   \n",
              "EE                  1.0   32974.00        NaN   32974.0   32974.00   32974.0   \n",
              "HU                  1.0   35735.00        NaN   35735.0   35735.00   35735.0   \n",
              "IT                  2.0   36366.50   20785.40   21669.0   29017.75   36366.5   \n",
              "MY                  1.0   40000.00        NaN   40000.0   40000.00   40000.0   \n",
              "CL                  1.0   40038.00        NaN   40038.0   40038.00   40038.0   \n",
              "LU                  3.0   43942.67   29451.01   10000.0   34551.00   59102.0   \n",
              "HR                  1.0   45618.00        NaN   45618.0   45618.00   45618.0   \n",
              "PT                  4.0   47793.75   17789.25   21983.0   43130.75   54217.5   \n",
              "CZ                  2.0   50937.00   26957.74   31875.0   41406.00   50937.0   \n",
              "GR                 10.0   52026.70   20357.15   20000.0   41133.25   48680.0   \n",
              "ES                 14.0   53060.14   21090.92   10354.0   40073.50   48371.5   \n",
              "DK                  3.0   54386.33   30909.79   28609.0   37252.50   45896.0   \n",
              "NL                  4.0   54945.75   13381.03   42000.0   44543.25   54021.0   \n",
              "RO                  1.0   60000.00        NaN   60000.0   60000.00   60000.0   \n",
              "SI                  2.0   63831.00   55165.64   24823.0   44327.00   63831.0   \n",
              "FR                 15.0   63970.67   28679.63   36643.0   48202.50   56738.0   \n",
              "CH                  2.0   64114.00   82352.48    5882.0   34998.00   64114.0   \n",
              "PL                  4.0   66082.50   58863.60   28476.0   33811.50   41093.5   \n",
              "IE                  1.0   71444.00        NaN   71444.0   71444.00   71444.0   \n",
              "CN                  2.0   71665.50   40071.03   43331.0   57498.25   71665.5   \n",
              "AT                  4.0   72920.75   13332.78   61467.0   64003.50   69489.5   \n",
              "DE                 27.0   81559.56   39903.44   15966.0   58669.00   76833.0   \n",
              "GB                 46.0   81649.50   29846.70   37300.0   56915.50   78526.0   \n",
              "BE                  2.0   85699.00    4179.00   82744.0   84221.50   85699.0   \n",
              "SG                  1.0   89294.00        NaN   89294.0   89294.00   89294.0   \n",
              "AE                  3.0  100000.00   30413.81   65000.0   90000.00  115000.0   \n",
              "IQ                  1.0  100000.00        NaN  100000.0  100000.00  100000.0   \n",
              "DZ                  1.0  100000.00        NaN  100000.0  100000.00  100000.0   \n",
              "CA                 28.0  100121.86   47080.71   52000.0   70518.00   81895.5   \n",
              "AU                  3.0  108042.67   36337.91   86703.0   87064.00   87425.0   \n",
              "JP                  6.0  114127.33   83584.64   41689.0   66283.25   75682.0   \n",
              "IL                  1.0  119059.00        NaN  119059.0  119059.00  119059.0   \n",
              "NZ                  1.0  125000.00        NaN  125000.0  125000.00  125000.0   \n",
              "US                318.0  144292.99   72524.34    5679.0  100000.00  135000.0   \n",
              "RU                  2.0  157500.00  102530.48   85000.0  121250.00  157500.0   \n",
              "\n",
              "                        75%       max  \n",
              "company_location                       \n",
              "VN                  4000.00    4000.0  \n",
              "IR                  4000.00    4000.0  \n",
              "KE                  9272.00    9272.0  \n",
              "PK                 16000.00   20000.0  \n",
              "UA                 13400.00   13400.0  \n",
              "MD                 18000.00   18000.0  \n",
              "AS                 18053.00   18053.0  \n",
              "BR                 21453.50   24000.0  \n",
              "HN                 20000.00   20000.0  \n",
              "TR                 24093.50   28016.0  \n",
              "CO                 21844.00   21844.0  \n",
              "MT                 28369.00   28369.0  \n",
              "IN                 32163.25   94665.0  \n",
              "NG                 40000.00   50000.0  \n",
              "MX                 46755.50   60000.0  \n",
              "EE                 32974.00   32974.0  \n",
              "HU                 35735.00   35735.0  \n",
              "IT                 43715.25   51064.0  \n",
              "MY                 40000.00   40000.0  \n",
              "CL                 40038.00   40038.0  \n",
              "LU                 60914.00   62726.0  \n",
              "HR                 45618.00   45618.0  \n",
              "PT                 58880.50   60757.0  \n",
              "CZ                 60468.00   69999.0  \n",
              "GR                 63201.00   87932.0  \n",
              "ES                 68793.00   87932.0  \n",
              "DK                 67275.00   88654.0  \n",
              "NL                 64423.50   69741.0  \n",
              "RO                 60000.00   60000.0  \n",
              "SI                 83335.00  102839.0  \n",
              "FR                 69143.00  152000.0  \n",
              "CH                 93230.00  122346.0  \n",
              "PL                 73364.50  153667.0  \n",
              "IE                 71444.00   71444.0  \n",
              "CN                 85832.75  100000.0  \n",
              "AT                 78406.75   91237.0  \n",
              "DE                 89694.00  173762.0  \n",
              "GB                104316.50  183228.0  \n",
              "BE                 87176.50   88654.0  \n",
              "SG                 89294.00   89294.0  \n",
              "AE                117500.00  120000.0  \n",
              "IQ                100000.00  100000.0  \n",
              "DZ                100000.00  100000.0  \n",
              "CA                117374.75  225000.0  \n",
              "AU                118712.50  150000.0  \n",
              "JP                145341.00  260000.0  \n",
              "IL                119059.00  119059.0  \n",
              "NZ                125000.00  125000.0  \n",
              "US                173000.00  600000.0  \n",
              "RU                193750.00  230000.0  "
            ]
          },
          "execution_count": 54,
          "metadata": {},
          "output_type": "execute_result"
        }
      ],
      "source": [
        "data_agg = data.groupby('company_location')['salary_in_usd'].describe().round(2).sort_values('mean')\n",
        "print('Зависимость зарплаты от страны расположения офиса или филиала компании.')\n",
        "data_agg"
      ]
    },
    {
      "attachments": {},
      "cell_type": "markdown",
      "metadata": {},
      "source": [
        "На первый взгляд распределения уровня зарплат по странам регистрации офиса или филиала работодателя различны. Выборки многих стран представлени малым количеством работников (<10), что может затруднить процесс определение статистической значимости. Чтобы определить, являются ли эти различия статистически значимыми, необходимо провести статистическое тестирование."
      ]
    },
    {
      "attachments": {},
      "cell_type": "markdown",
      "metadata": {},
      "source": [
        "#### Распределение уровня зарплат в зависимости от размера компании"
      ]
    },
    {
      "cell_type": "code",
      "execution_count": 25,
      "metadata": {},
      "outputs": [
        {
          "data": {
            "image/png": "[encoded data removed]",
            "text/plain": [
              "<Figure size 640x480 with 1 Axes>"
            ]
          },
          "metadata": {},
          "output_type": "display_data"
        }
      ],
      "source": [
        "ax = sns.boxplot(data, x='salary_in_usd', y='company_size', orient='h', medianprops={\"color\": \"red\", \"linestyle\": '--'})\n",
        "ax.set(xlabel='Размер зарплаты в долларах США', ylabel='Размер компании')\n",
        "plt.title('Распределение зарплат по размеру компании')\n",
        "plt.show()"
      ]
    },
    {
      "cell_type": "code",
      "execution_count": 55,
      "metadata": {},
      "outputs": [
        {
          "name": "stdout",
          "output_type": "stream",
          "text": [
            "Зависимость зарплаты от размера компании.\n"
          ]
        },
        {
          "data": {
            "text/html": [
              "<div>\n",
              "<style scoped>\n",
              "    .dataframe tbody tr th:only-of-type {\n",
              "        vertical-align: middle;\n",
              "    }\n",
              "\n",
              "    .dataframe tbody tr th {\n",
              "        vertical-align: top;\n",
              "    }\n",
              "\n",
              "    .dataframe thead th {\n",
              "        text-align: right;\n",
              "    }\n",
              "</style>\n",
              "<table border=\"1\" class=\"dataframe\">\n",
              "  <thead>\n",
              "    <tr style=\"text-align: right;\">\n",
              "      <th></th>\n",
              "      <th>count</th>\n",
              "      <th>mean</th>\n",
              "      <th>std</th>\n",
              "      <th>min</th>\n",
              "      <th>25%</th>\n",
              "      <th>50%</th>\n",
              "      <th>75%</th>\n",
              "      <th>max</th>\n",
              "    </tr>\n",
              "    <tr>\n",
              "      <th>company_size</th>\n",
              "      <th></th>\n",
              "      <th></th>\n",
              "      <th></th>\n",
              "      <th></th>\n",
              "      <th></th>\n",
              "      <th></th>\n",
              "      <th></th>\n",
              "      <th></th>\n",
              "    </tr>\n",
              "  </thead>\n",
              "  <tbody>\n",
              "    <tr>\n",
              "      <th>S</th>\n",
              "      <td>82.0</td>\n",
              "      <td>77872.10</td>\n",
              "      <td>63814.52</td>\n",
              "      <td>2859.0</td>\n",
              "      <td>41816.0</td>\n",
              "      <td>65511.0</td>\n",
              "      <td>100000.00</td>\n",
              "      <td>416000.0</td>\n",
              "    </tr>\n",
              "    <tr>\n",
              "      <th>M</th>\n",
              "      <td>290.0</td>\n",
              "      <td>114807.08</td>\n",
              "      <td>60779.04</td>\n",
              "      <td>4000.0</td>\n",
              "      <td>70821.5</td>\n",
              "      <td>109640.0</td>\n",
              "      <td>150213.75</td>\n",
              "      <td>450000.0</td>\n",
              "    </tr>\n",
              "    <tr>\n",
              "      <th>L</th>\n",
              "      <td>193.0</td>\n",
              "      <td>118213.88</td>\n",
              "      <td>86753.27</td>\n",
              "      <td>5882.0</td>\n",
              "      <td>60000.0</td>\n",
              "      <td>100000.0</td>\n",
              "      <td>153667.00</td>\n",
              "      <td>600000.0</td>\n",
              "    </tr>\n",
              "  </tbody>\n",
              "</table>\n",
              "</div>"
            ],
            "text/plain": [
              "              count       mean       std     min      25%       50%  \\\n",
              "company_size                                                          \n",
              "S              82.0   77872.10  63814.52  2859.0  41816.0   65511.0   \n",
              "M             290.0  114807.08  60779.04  4000.0  70821.5  109640.0   \n",
              "L             193.0  118213.88  86753.27  5882.0  60000.0  100000.0   \n",
              "\n",
              "                    75%       max  \n",
              "company_size                       \n",
              "S             100000.00  416000.0  \n",
              "M             150213.75  450000.0  \n",
              "L             153667.00  600000.0  "
            ]
          },
          "execution_count": 55,
          "metadata": {},
          "output_type": "execute_result"
        }
      ],
      "source": [
        "data_agg = data.groupby('company_size')['salary_in_usd'].describe().round(2).sort_values('mean')\n",
        "print('Зависимость зарплаты от размера компании.')\n",
        "data_agg"
      ]
    },
    {
      "attachments": {},
      "cell_type": "markdown",
      "metadata": {},
      "source": [
        "На первый взгляд распределения уровня зарплат по размеру компании. Наибольший уровень средних зарплат отмечается в компаниях с количеством сотрудников от 50 до 250 человек. Чтобы определить, являются ли эти различия статистически значимыми, необходимо провести статистическое тестирование."
      ]
    },
    {
      "attachments": {},
      "cell_type": "markdown",
      "metadata": {},
      "source": [
        "### 2.2. Статистический анализ данных"
      ]
    },
    {
      "cell_type": "code",
      "execution_count": 27,
      "metadata": {},
      "outputs": [],
      "source": [
        "# функция для принятия решения о нормальности\n",
        "def decision_normality(p):\n",
        "    print('p-value = {:.3f}'.format(p))\n",
        "    if p <= alpha:\n",
        "        print('p-значение меньше, чем заданный уровень значимости {:.2f}. Распределение отлично от нормального'.format(alpha))\n",
        "    else:\n",
        "        print('p-значение больше, чем заданный уровень значимости {:.2f}. Распределение является нормальным'.format(alpha))\n",
        "\n",
        "\n",
        "# функция для принятия решения об отклонении нулевой гипотезы\n",
        "def decision_hypothesis(p):\n",
        "    print('p-value = {:.3f}'.format(p))\n",
        "    if p <= alpha:\n",
        "        print('p-значение меньше, чем заданный уровень значимости {:.2f}. Отвергаем нулевую гипотезу в пользу альтернативной.'.format(alpha))\n",
        "    else:\n",
        "        print('p-значение больше, чем заданный уровень значимости {:.2f}. У нас нет оснований отвергнуть нулевую гипотезу.'.format(alpha))\n",
        "        \n",
        "# функция для проверки на равенство диспесий\n",
        "def decision_dispersion(p):\n",
        "    print('p-value = {:.3f}'.format(p))\n",
        "    if p <= alpha:\n",
        "        print('Дисперсии не одинаковы, в stats.ttest_ind нужно использовать параметр equal_var=False.')\n",
        "    else:\n",
        "        print('Дисперсии одинаковы, в stats.ttest_ind нужно использовать параметр equal_var=True.')"
      ]
    },
    {
      "attachments": {},
      "cell_type": "markdown",
      "metadata": {},
      "source": [
        "#### Наблюдается ли рост зарплат специалистов DataScience за каждый год?\n",
        "\n",
        "В связи с недостаточным количеством записей за 2020 год мы исключим данный год из статистического анализа.\n",
        "\n",
        "**Сформулируем нулевую и альтернативные гипотезы**\n",
        "\n",
        "*Нулевая гипотеза* ($H_0$): размер зарплат специалистов DataScience в 2022 ($μ_1$) статистически меньше либо равен размеру зарплат в 2021 году. ($μ_2$).\n",
        "\n",
        "$$ H_0 : μ_1 <= μ_2$$\n",
        "\n",
        "*Альтернативная гипотеза* ($H_1$): размер зарплат специалистов DataScience в 2022 ($μ_1$) статистически больше, чем размер зарплат в 2021 году клиентов-женщин ($μ_2$).\n",
        "\n",
        "$$ H_1 : μ_1 > μ_2$$"
      ]
    },
    {
      "attachments": {},
      "cell_type": "markdown",
      "metadata": {},
      "source": [
        "**Проверка на нормальность**\n",
        "\n",
        "С помощью теста Шапиро-Уилка проверим, распределён ли признак нормально. Гипотезы теста Шапиро-Уилка:\n",
        "\n",
        "*Нулевая гипотеза* ($H_0$): распределение данные является нормальным.\n",
        "\n",
        "*Альтернативная гипотеза* ($H_1$): распределение данных отлично от нормального."
      ]
    },
    {
      "cell_type": "code",
      "execution_count": 28,
      "metadata": {},
      "outputs": [
        {
          "name": "stdout",
          "output_type": "stream",
          "text": [
            "Для 2021 года:\n",
            "p-value = 0.107\n",
            "p-значение больше, чем заданный уровень значимости 0.05. Распределение является нормальным\n",
            "Для 2022 года:\n",
            "p-value = 0.676\n",
            "p-значение больше, чем заданный уровень значимости 0.05. Распределение является нормальным\n"
          ]
        }
      ],
      "source": [
        "data_datascientist = data[data['job_title']=='Data Scientist']\n",
        "data_2022 = data_datascientist.loc[ data_datascientist['work_year']==2022, 'salary_in_usd']\n",
        "data_2021 = data_datascientist.loc[ data_datascientist['work_year']==2021, 'salary_in_usd']\n",
        "\n",
        "# проводим тест Шапиро-Уилка\n",
        "print('Для 2021 года:')\n",
        "result = stats.shapiro(data_2021)\n",
        "decision_normality(result[1])\n",
        "\n",
        "print('Для 2022 года:')\n",
        "result = stats.shapiro(data_2022)\n",
        "decision_normality(result[1])\n"
      ]
    },
    {
      "attachments": {},
      "cell_type": "markdown",
      "metadata": {},
      "source": [
        "**Выберем подходящий статистический тест**\n",
        "\n",
        "Для выбора нужного теста воспользуемся алгоритмом выбора теста. Для этого ответим на следующие вопросы:\n",
        "* Какой тип у признака «Зарплата в долларах США»? — Количественный.\n",
        "* Сколько сравниваемых групп? — Две.\n",
        "* Группы зависимы? — Нет.\n",
        "* Признак распределён по нормальному закону? — Да.\n",
        "\n",
        "Чтобы проверить нашу гипотезу, можно использовать двухвыборочный t-критерий.\n",
        "\n",
        "**Проведём тест**"
      ]
    },
    {
      "cell_type": "code",
      "execution_count": 29,
      "metadata": {},
      "outputs": [
        {
          "name": "stdout",
          "output_type": "stream",
          "text": [
            "Тест на равенство дисперсий\n",
            "p-value = 0.264\n",
            "Дисперсии одинаковы, в stats.ttest_ind нужно использовать параметр equal_var=True.\n",
            "\n",
            "Тест на равенство средних\n",
            "p-value = 0.000\n",
            "p-значение меньше, чем заданный уровень значимости 0.05. Отвергаем нулевую гипотезу в пользу альтернативной.\n"
          ]
        }
      ],
      "source": [
        "# проводим тест Левена на равенство дисперсий\n",
        "print('Тест на равенство дисперсий')\n",
        "result = stats.levene(data_2022, data_2021)\n",
        "decision_dispersion(result[1])\n",
        "\n",
        "# проводим тест на сравнение средних в группах\n",
        "print('\\nТест на равенство средних')\n",
        "_, p = stats.ttest_ind(data_2022, data_2021, alternative='greater', equal_var=True)\n",
        "decision_hypothesis(p)\n"
      ]
    },
    {
      "attachments": {},
      "cell_type": "markdown",
      "metadata": {},
      "source": [
        "**Вывод**\n",
        "\n",
        "Зарплата специалистов DataScience в 2022 году выросла по сравнению с 2021 годом."
      ]
    },
    {
      "attachments": {},
      "cell_type": "markdown",
      "metadata": {},
      "source": [
        "#### Как соотносятся зарплаты специалистов DataScientist и DataEngineer в 2022году?\n",
        "\n",
        "**Сформулируем нулевую и альтернативные гипотезы**\n",
        "\n",
        "*Нулевая гипотеза* ($H_0$): размер зарплат специалистов DataScience в 2022 ($μ_1$) не отличаетсся от размера зарплат специалистов DataEngineer. ($μ_2$).\n",
        "\n",
        "$$ H_0 : μ_1 = μ_2$$\n",
        "\n",
        "*Альтернативная гипотеза* ($H_1$): размер зарплат специалистов DataScience в 2022 ($μ_1$) отличается от размера зарплат специалистов DataEngineer.($μ_2$).\n",
        "\n",
        "$$ H_1 : μ_1 \\neq μ_2$$"
      ]
    },
    {
      "attachments": {},
      "cell_type": "markdown",
      "metadata": {},
      "source": [
        "**Проверка на нормальность**\n",
        "\n",
        "С помощью теста Шапиро-Уилка проверим, распределён ли признак нормально. Гипотезы теста Шапиро-Уилка:\n",
        "\n",
        "*Нулевая гипотеза* ($H_0$): распределение данные является нормальным.\n",
        "\n",
        "*Альтернативная гипотеза* ($H_1$): распределение данных отлично от нормального."
      ]
    },
    {
      "cell_type": "code",
      "execution_count": 30,
      "metadata": {},
      "outputs": [
        {
          "name": "stdout",
          "output_type": "stream",
          "text": [
            "Для специалистов DataScience:\n",
            "p-value = 0.676\n",
            "p-значение больше, чем заданный уровень значимости 0.05. Распределение является нормальным\n",
            "Для специалистов Data Engineer:\n",
            "p-value = 0.007\n",
            "p-значение меньше, чем заданный уровень значимости 0.05. Распределение отлично от нормального\n"
          ]
        }
      ],
      "source": [
        "data_datascientist = data[data['job_title']=='Data Scientist']\n",
        "data_dataengineer = data[data['job_title']=='Data Engineer']\n",
        "data_datascientist_2022 = data_datascientist.loc[ data_datascientist['work_year']==2022, 'salary_in_usd']\n",
        "data_dataengineer_2022 = data_dataengineer.loc[ data_dataengineer['work_year']==2022, 'salary_in_usd']\n",
        "\n",
        "# проводим тест Шапиро-Уилка\n",
        "print('Для специалистов DataScience:')\n",
        "result = stats.shapiro(data_datascientist_2022)\n",
        "decision_normality(result[1])\n",
        "\n",
        "print('Для специалистов Data Engineer:')\n",
        "result = stats.shapiro(data_dataengineer_2022)\n",
        "decision_normality(result[1])\n"
      ]
    },
    {
      "attachments": {},
      "cell_type": "markdown",
      "metadata": {},
      "source": [
        "**Выберем подходящий статистический тест**\n",
        "\n",
        "Для выбора нужного теста воспользуемся алгоритмом выбора теста. Для этого ответим на следующие вопросы:\n",
        "* Какой тип у признака «Зарплата в долларах США»? — Количественный.\n",
        "* Сколько сравниваемых групп? — Две.\n",
        "* Группы зависимы? — Нет.\n",
        "* Признак распределён по нормальному закону? — Нет.\n",
        "\n",
        "Чтобы проверить нашу гипотезу, можно использовать U-критерий Манна — Уитни.\n",
        "\n",
        "**Проведём тест**"
      ]
    },
    {
      "cell_type": "code",
      "execution_count": 31,
      "metadata": {},
      "outputs": [
        {
          "name": "stdout",
          "output_type": "stream",
          "text": [
            "\n",
            "Тест на равенство средних\n",
            "p-value = 0.319\n",
            "p-значение больше, чем заданный уровень значимости 0.05. У нас нет оснований отвергнуть нулевую гипотезу.\n"
          ]
        }
      ],
      "source": [
        "# проводим тест на сравнение средних в группах\n",
        "print('\\nТест на равенство средних')\n",
        "_, p = stats.mannwhitneyu(data_datascientist_2022, data_dataengineer_2022)\n",
        "decision_hypothesis(p)"
      ]
    },
    {
      "attachments": {},
      "cell_type": "markdown",
      "metadata": {},
      "source": [
        "**Вывод**\n",
        "\n",
        "Зарплата специалистов DataScience в 2022 году не отличается от зарплаты специалистов DataEngineer."
      ]
    },
    {
      "attachments": {},
      "cell_type": "markdown",
      "metadata": {},
      "source": [
        "#### Как соотносятся зарплаты специалистов DataScientist в компаниях различных размеров?\n",
        "\n",
        "**Сформулируем нулевую и альтернативные гипотезы**\n",
        "\n",
        "*Нулевая гипотеза* ($H_0$): размер зарплат специалистов DataScience в небольшой компании ($μ_1$), средней компании ($μ_2$) и крупной компании ($μ_3$) не отличаются.\n",
        "\n",
        "$$ H_0 : μ_1 = μ_2 = μ_3$$\n",
        "\n",
        "*Альтернативная гипотеза* ($H_1$): размер зарплат специалистов DataScience в небольшой компании ($μ_1$), средней компании ($μ_2$) и крупной компании ($μ_3$) отличаются.\n",
        "\n",
        "$$ H_1 : μ_1 \\neq μ_2 \\neq μ_3$$"
      ]
    },
    {
      "attachments": {},
      "cell_type": "markdown",
      "metadata": {},
      "source": [
        "**Проверка на нормальность**\n",
        "\n",
        "С помощью теста Шапиро-Уилка проверим, распределён ли признак нормально. Гипотезы теста Шапиро-Уилка:\n",
        "\n",
        "*Нулевая гипотеза* ($H_0$): распределение данные является нормальным.\n",
        "\n",
        "*Альтернативная гипотеза* ($H_1$): распределение данных отлично от нормального."
      ]
    },
    {
      "cell_type": "code",
      "execution_count": 32,
      "metadata": {},
      "outputs": [
        {
          "name": "stdout",
          "output_type": "stream",
          "text": [
            "Для специалистов DataScience в небольших компаниях:\n",
            "p-value = 0.189\n",
            "p-значение больше, чем заданный уровень значимости 0.05. Распределение является нормальным\n",
            "Для специалистов DataScience в средних компаниях:\n",
            "p-value = 0.897\n",
            "p-значение больше, чем заданный уровень значимости 0.05. Распределение является нормальным\n",
            "Для специалистов DataScience в крупных компаниях:\n",
            "p-value = 0.000\n",
            "p-значение меньше, чем заданный уровень значимости 0.05. Распределение отлично от нормального\n"
          ]
        }
      ],
      "source": [
        "data_datascientist = data[data['job_title']=='Data Scientist']\n",
        "data_datascientist_comsize_s = data_datascientist.loc[ data_datascientist['company_size']=='S', 'salary_in_usd']\n",
        "data_datascientist_comsize_m = data_datascientist.loc[ data_datascientist['company_size']=='M', 'salary_in_usd']\n",
        "data_datascientist_comsize_l = data_datascientist.loc[ data_datascientist['company_size']=='L', 'salary_in_usd']\n",
        "\n",
        "# проводим тест Шапиро-Уилка\n",
        "print('Для специалистов DataScience в небольших компаниях:')\n",
        "result = stats.shapiro(data_datascientist_comsize_s)\n",
        "decision_normality(result[1])\n",
        "\n",
        "print('Для специалистов DataScience в средних компаниях:')\n",
        "result = stats.shapiro(data_datascientist_comsize_m)\n",
        "decision_normality(result[1])\n",
        "\n",
        "print('Для специалистов DataScience в крупных компаниях:')\n",
        "result = stats.shapiro(data_datascientist_comsize_l)\n",
        "decision_normality(result[1])\n"
      ]
    },
    {
      "attachments": {},
      "cell_type": "markdown",
      "metadata": {},
      "source": [
        "**Выберем подходящий статистический тест**\n",
        "\n",
        "Для выбора нужного теста воспользуемся алгоритмом выбора теста. Для этого ответим на следующие вопросы:\n",
        "* Какой тип у признака «Зарплата в долларах США»? — Количественный.\n",
        "* Сколько сравниваемых групп? — Три.\n",
        "* Группы зависимы? — Нет.\n",
        "* Признак распределён по нормальному закону? — Нет.\n",
        "\n",
        "Чтобы проверить нашу гипотезу, можно использовать критерий Краскела — Уоллиса.\n",
        "\n",
        "**Проведём тест**"
      ]
    },
    {
      "cell_type": "code",
      "execution_count": 33,
      "metadata": {},
      "outputs": [
        {
          "name": "stdout",
          "output_type": "stream",
          "text": [
            "\n",
            "Тест на равенство средних\n",
            "p-value = 0.000\n",
            "p-значение меньше, чем заданный уровень значимости 0.05. Отвергаем нулевую гипотезу в пользу альтернативной.\n"
          ]
        }
      ],
      "source": [
        "# проводим тест на сравнение средних в группах\n",
        "print('\\nТест на равенство средних')\n",
        "_, p = stats.kruskal(data_datascientist_comsize_s, data_datascientist_comsize_m, data_datascientist_comsize_l)\n",
        "decision_hypothesis(p)"
      ]
    },
    {
      "attachments": {},
      "cell_type": "markdown",
      "metadata": {},
      "source": [
        "**Вывод**\n",
        "\n",
        "Зарплата специалистов DataScience в небольших, средних и крупных компаниях отличается."
      ]
    },
    {
      "attachments": {},
      "cell_type": "markdown",
      "metadata": {},
      "source": [
        "#### Есть ли связь между наличием должностей Data Scientist и Data Engineer и размером компании?\n",
        "\n",
        "**Сформулируем нулевую и альтернативные гипотезы**\n",
        "\n",
        "*Нулевая гипотеза*: наличие должностей Data Scientist и Data Engineer не взаимосвязаны с размером компании.\n",
        "\n",
        "\n",
        "*Альтернативная гипотеза* наличие должностей Data Scientist и Data Engineer взаимосвязаны с размером компании.\n",
        "\n",
        "**Выберем подходящий статистический тест**\n",
        "\n",
        "Для выбора нужного теста воспользуемся алгоритмом выбора теста. Для этого ответим на следующие вопросы:\n",
        "* Какой тип у признака «Размер компании»? — Категориальный.\n",
        "* Сколько сравниваемых групп? — Две.\n",
        "* Проверяется независимость групп? — Да.\n",
        "\n",
        "Для проверки нашей гипотезы можно использовать критерий ${\\chi}^2$ (хи-квадрат).\n",
        "\n",
        "**Проведём тест**"
      ]
    },
    {
      "cell_type": "code",
      "execution_count": 34,
      "metadata": {},
      "outputs": [
        {
          "data": {
            "text/html": [
              "<div>\n",
              "<style scoped>\n",
              "    .dataframe tbody tr th:only-of-type {\n",
              "        vertical-align: middle;\n",
              "    }\n",
              "\n",
              "    .dataframe tbody tr th {\n",
              "        vertical-align: top;\n",
              "    }\n",
              "\n",
              "    .dataframe thead th {\n",
              "        text-align: right;\n",
              "    }\n",
              "</style>\n",
              "<table border=\"1\" class=\"dataframe\">\n",
              "  <thead>\n",
              "    <tr style=\"text-align: right;\">\n",
              "      <th>company_size</th>\n",
              "      <th>L</th>\n",
              "      <th>M</th>\n",
              "      <th>S</th>\n",
              "    </tr>\n",
              "    <tr>\n",
              "      <th>job_title</th>\n",
              "      <th></th>\n",
              "      <th></th>\n",
              "      <th></th>\n",
              "    </tr>\n",
              "  </thead>\n",
              "  <tbody>\n",
              "    <tr>\n",
              "      <th>Data Engineer</th>\n",
              "      <td>34</td>\n",
              "      <td>81</td>\n",
              "      <td>6</td>\n",
              "    </tr>\n",
              "    <tr>\n",
              "      <th>Data Scientist</th>\n",
              "      <td>43</td>\n",
              "      <td>66</td>\n",
              "      <td>21</td>\n",
              "    </tr>\n",
              "  </tbody>\n",
              "</table>\n",
              "</div>"
            ],
            "text/plain": [
              "company_size     L   M   S\n",
              "job_title                 \n",
              "Data Engineer   34  81   6\n",
              "Data Scientist  43  66  21"
            ]
          },
          "execution_count": 34,
          "metadata": {},
          "output_type": "execute_result"
        }
      ],
      "source": [
        "data_datascientist = data[(data['job_title']=='Data Scientist')|(data['job_title']=='Data Engineer')]\n",
        "\n",
        "# составляем таблицу сопряжённости\n",
        "cross_table = pd.crosstab(data_datascientist['job_title'], data_datascientist['company_size'])\n",
        "\n",
        "cross_table"
      ]
    },
    {
      "cell_type": "code",
      "execution_count": 35,
      "metadata": {},
      "outputs": [
        {
          "name": "stdout",
          "output_type": "stream",
          "text": [
            "p-value = 0.005\n",
            "p-значение меньше, чем заданный уровень значимости 0.05. Отвергаем нулевую гипотезу в пользу альтернативной.\n"
          ]
        }
      ],
      "source": [
        "# проводим тест\n",
        "_, p, _, _ = stats.chi2_contingency(cross_table)\n",
        "decision_hypothesis(p)"
      ]
    },
    {
      "attachments": {},
      "cell_type": "markdown",
      "metadata": {},
      "source": [
        "**Вывод**\n",
        "\n",
        "Существует статистически значимая взаимосвязь между наличием должностей Data Scientist и Data Engineer и размером компании."
      ]
    },
    {
      "attachments": {},
      "cell_type": "markdown",
      "metadata": {},
      "source": [
        "## Дополнительное исследование."
      ]
    },
    {
      "attachments": {},
      "cell_type": "markdown",
      "metadata": {},
      "source": [
        "#### Как соотносятся зарплаты специалистов DataScientist в зависимости от работы?"
      ]
    },
    {
      "attachments": {},
      "cell_type": "markdown",
      "metadata": {},
      "source": [
        "Ознакомимся с соствавом анализируемых данных"
      ]
    },
    {
      "cell_type": "code",
      "execution_count": 36,
      "metadata": {},
      "outputs": [
        {
          "data": {
            "text/plain": [
              "experience_level\n",
              "EN    22\n",
              "EX     0\n",
              "MI    59\n",
              "SE    49\n",
              "Name: experience_level, dtype: int64"
            ]
          },
          "execution_count": 36,
          "metadata": {},
          "output_type": "execute_result"
        }
      ],
      "source": [
        "# ознакомимся с составом данных\n",
        "data_datascientist = data[data['job_title']=='Data Scientist']\n",
        "data_datascientist.groupby('experience_level')['experience_level'].count()"
      ]
    },
    {
      "attachments": {},
      "cell_type": "markdown",
      "metadata": {},
      "source": [
        "Видно, что данных о зарплатах специалистов Data Science с опытом EX — Executive-level/Director нет, а с опытом Entry-level/Junior мало, поэтому исключим их из дальнейшего анализа."
      ]
    },
    {
      "attachments": {},
      "cell_type": "markdown",
      "metadata": {},
      "source": [
        "\n",
        "\n",
        "**Сформулируем нулевую и альтернативные гипотезы**\n",
        "\n",
        "*Нулевая гипотеза* ($H_0$): размер зарплат специалистов DataScience в уровней Entry-level/Junior ($μ_1$), Mid-level/Intermediate ($μ_2$), Senior-level/Expert ($μ_3$) и Executive-level/Director ($μ_4$) не отличаются.\n",
        "\n",
        "$$ H_0 : μ_1 = μ_2 = μ_3 = μ_4$$\n",
        "\n",
        "*Альтернативная гипотеза* ($H_1$): размер зарплат специалистов DataScience в уровней Entry-level/Junior ($μ_1$), Mid-level/Intermediate ($μ_2$), Senior-level/Expert ($μ_3$) и Executive-level/Director ($μ_4$) отличаются.\n",
        "\n",
        "$$ H_1 : μ_1 \\neq μ_2 \\neq μ_3 \\neq μ_4$$"
      ]
    },
    {
      "attachments": {},
      "cell_type": "markdown",
      "metadata": {},
      "source": [
        "**Проверка на нормальность**\n",
        "\n",
        "С помощью теста Шапиро-Уилка проверим, распределён ли признак нормально. Гипотезы теста Шапиро-Уилка:\n",
        "\n",
        "*Нулевая гипотеза* ($H_0$): распределение данные является нормальным.\n",
        "\n",
        "*Альтернативная гипотеза* ($H_1$): распределение данных отлично от нормального."
      ]
    },
    {
      "cell_type": "code",
      "execution_count": 39,
      "metadata": {},
      "outputs": [
        {
          "name": "stdout",
          "output_type": "stream",
          "text": [
            "Для специалистов DataScience уровня Mid-level/Intermediate:\n",
            "p-value = 0.146\n",
            "p-значение больше, чем заданный уровень значимости 0.05. Распределение является нормальным\n",
            "Для специалистов DataScience уровн Senior-level/Expert:\n",
            "p-value = 0.002\n",
            "p-значение меньше, чем заданный уровень значимости 0.05. Распределение отлично от нормального\n"
          ]
        }
      ],
      "source": [
        "data_datascientist = data[data['job_title']=='Data Scientist']\n",
        "data_datascientist_mi = data_datascientist.loc[ data_datascientist['experience_level']=='MI', 'salary_in_usd']\n",
        "data_datascientist_se = data_datascientist.loc[ data_datascientist['experience_level']=='SE', 'salary_in_usd']\n",
        "\n",
        "\n",
        "\n",
        "print('Для специалистов DataScience уровня Mid-level/Intermediate:')\n",
        "result = stats.shapiro(data_datascientist_mi)\n",
        "decision_normality(result[1])\n",
        "\n",
        "print('Для специалистов DataScience уровн Senior-level/Expert:')\n",
        "result = stats.shapiro(data_datascientist_se)\n",
        "decision_normality(result[1])\n",
        "\n"
      ]
    },
    {
      "attachments": {},
      "cell_type": "markdown",
      "metadata": {},
      "source": [
        "**Выберем подходящий статистический тест**\n",
        "\n",
        "Для выбора нужного теста воспользуемся алгоритмом выбора теста. Для этого ответим на следующие вопросы:\n",
        "* Какой тип у признака «Зарплата в долларах США»? — Количественный.\n",
        "* Сколько сравниваемых групп? — Две.\n",
        "* Группы зависимы? — Нет.\n",
        "* Признак распределён по нормальному закону? — Нет.\n",
        "\n",
        "Чтобы проверить нашу гипотезу, можно использовать U-критерий Манна — Уитни.\n",
        "\n",
        "**Проведём тест**"
      ]
    },
    {
      "cell_type": "code",
      "execution_count": 40,
      "metadata": {},
      "outputs": [
        {
          "name": "stdout",
          "output_type": "stream",
          "text": [
            "\n",
            "Тест на равенство средних\n",
            "p-value = 0.000\n",
            "p-значение меньше, чем заданный уровень значимости 0.05. Отвергаем нулевую гипотезу в пользу альтернативной.\n"
          ]
        }
      ],
      "source": [
        "# проводим тест на сравнение средних в группах\n",
        "print('\\nТест на равенство средних')\n",
        "_, p = stats.mannwhitneyu(data_datascientist_mi, data_datascientist_se)\n",
        "decision_hypothesis(p)"
      ]
    },
    {
      "attachments": {},
      "cell_type": "markdown",
      "metadata": {},
      "source": [
        "**Вывод**\n",
        "\n",
        "Зарплата специалиста Data Science для различных значений опыта работы отличается."
      ]
    },
    {
      "attachments": {},
      "cell_type": "markdown",
      "metadata": {},
      "source": [
        "#### Является ли зарплата специалиста Data Science, проживающих в США выше средней зарплаты по всей выборке?"
      ]
    },
    {
      "attachments": {},
      "cell_type": "markdown",
      "metadata": {},
      "source": [
        "**Сформулируем нулевую и альтернативные гипотезы**\n",
        "\n",
        "*Нулевая гипотеза* ($H_0$): средний уровень зарплаты специалистов DataScience, проживающих в США($μ$) ниже или равен среднему уровню зарплат по всей выборке(110610 USD).\n",
        "\n",
        "$$ H_0 : μ_1 \\leq 110610$$\n",
        "\n",
        "*Альтернативная гипотеза* ($H_1$): средний уровень зарплаты специалистов DataScience, проживающих в США($μ$) выше среднего уровня зарплат по всей выборке(110610 USD).\n",
        "\n",
        "$$ H_0 : μ_1 > 110610$$"
      ]
    },
    {
      "attachments": {},
      "cell_type": "markdown",
      "metadata": {},
      "source": [
        "**Проверка на нормальность**\n",
        "\n",
        "С помощью теста Шапиро-Уилка проверим, распределён ли признак нормально. Гипотезы теста Шапиро-Уилка:\n",
        "\n",
        "*Нулевая гипотеза* ($H_0$): распределение данные является нормальным.\n",
        "\n",
        "*Альтернативная гипотеза* ($H_1$): распределение данных отлично от нормального."
      ]
    },
    {
      "cell_type": "code",
      "execution_count": 41,
      "metadata": {},
      "outputs": [
        {
          "name": "stdout",
          "output_type": "stream",
          "text": [
            "Для специалистов DataScience на полностью удаленной работе:\n",
            "p-value = 0.160\n",
            "p-значение больше, чем заданный уровень значимости 0.05. Распределение является нормальным\n"
          ]
        }
      ],
      "source": [
        "data_datascientist = data[data['job_title']=='Data Engineer']\n",
        "data_datascientist_us = data_datascientist.loc[ data_datascientist['employee_residence']=='US', 'salary_in_usd']\n",
        "\n",
        "\n",
        "print('Для специалистов DataScience на полностью удаленной работе:')\n",
        "result = stats.shapiro(data_datascientist_us)\n",
        "decision_normality(result[1])\n"
      ]
    },
    {
      "attachments": {},
      "cell_type": "markdown",
      "metadata": {},
      "source": [
        "**Выберем подходящий статистический тест**\n",
        "\n",
        "Для выбора нужного теста воспользуемся алгоритмом выбора теста. Для этого ответим на следующие вопросы:\n",
        "* Какой тип у признака «Зарплата в долларах США»? — Количественный.\n",
        "* Сколько сравниваемых групп? — Одна.\n",
        "* Признак распределён по нормальному закону? — Да.\n",
        "\n",
        "Чтобы проверить нашу гипотезу, можно использовать Критерий знаков (для одной группы).\n",
        "\n",
        "**Проведём тест**"
      ]
    },
    {
      "cell_type": "code",
      "execution_count": 42,
      "metadata": {},
      "outputs": [
        {
          "name": "stdout",
          "output_type": "stream",
          "text": [
            "\n",
            "Тест на равенство средних\n",
            "p-value = 0.000\n",
            "p-значение меньше, чем заданный уровень значимости 0.05. Отвергаем нулевую гипотезу в пользу альтернативной.\n"
          ]
        }
      ],
      "source": [
        "# проводим тест на сравнение средних в группах\n",
        "print('\\nТест на равенство средних')\n",
        "_, p = stats.ttest_1samp(data_datascientist_us, popmean=110610, alternative='greater')\n",
        "decision_hypothesis(p)"
      ]
    },
    {
      "attachments": {},
      "cell_type": "markdown",
      "metadata": {},
      "source": [
        "**Вывод**\n",
        "\n",
        "Зарплата специалиста Data Science, проживающих в США выше уровня средней зарплаты по всей выборке."
      ]
    },
    {
      "attachments": {},
      "cell_type": "markdown",
      "metadata": {
        "id": "weubXekLfsQX"
      },
      "source": [
        "## Итоговые результаты исследования\n",
        "\n",
        "1. Какие факторы влияют на зарплату специалиста Data Science:\n",
        "    - согласно статистических исследований наблюдается ежегодный рост зарплаты, а также наблюдается зависимость от таких параметров, как размер компании, опыта работы, места жительства.\n",
        "2. Ключевые вопросы HR агенства:\n",
        "    - наблюдается ли рост зарплат специалистов Data Scienitst зв каждый годд?\n",
        "        - Зарплата специалистов Data Science в 2022 году выросла по сравнению с 2021 годом.\n",
        "    - Как соотносятся зарплаты специалистов Data Scientist и DataEngineer в 2022году?\n",
        "        - Зарплата специалистов Data Science в 2022 году не отличается от зарплаты специалистов DataEngineer.\n",
        "    - Как соотносятся зарплаты специалистов Data Scientist в компаниях различных размеров?\n",
        "        - Зарплата специалистов Data Science в небольших, средних и крупных компаниях отличается.\n",
        "    - Есть ли связь между наличием должностей Data Scientist и Data Engineer и размером компании?\n",
        "        - Существует статистически значимая взаимосвязь между наличием должностей Data Scientist и Data Engineer и размером компании."
      ]
    }
  ],
  "metadata": {
    "colab": {
      "provenance": []
    },
    "kernelspec": {
      "display_name": "Python 3.10.8 ('base')",
      "language": "python",
      "name": "python3"
    },
    "language_info": {
      "codemirror_mode": {
        "name": "ipython",
        "version": 3
      },
      "file_extension": ".py",
      "mimetype": "text/x-python",
      "name": "python",
      "nbconvert_exporter": "python",
      "pygments_lexer": "ipython3",
      "version": "3.11.0"
    },
    "vscode": {
      "interpreter": {
        "hash": "86c56a74836ad344b00594bf6f38fa6a676a207ceefe20d101fbc465800ccb8d"
      }
    }
  },
  "nbformat": 4,
  "nbformat_minor": 0
}
