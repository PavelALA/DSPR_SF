{
 "cells": [
  {
   "attachments": {},
   "cell_type": "markdown",
   "metadata": {},
   "source": [
    "# <center> Домашнее задание"
   ]
  },
  {
   "cell_type": "code",
   "execution_count": 1,
   "metadata": {},
   "outputs": [],
   "source": [
    "petersburg = [0.0974, 0.1352, 0.0817, 0.1016, 0.0968, 0.1064, 0.105]\n",
    "magadan = [0.1033, 0.0915, 0.0781, 0.0685, 0.0677, 0.0697, 0.0764,\n",
    "           0.0689]\n",
    "tvarminne = [0.0703, 0.1026, 0.0956, 0.0973, 0.1039, 0.1045]"
   ]
  },
  {
   "attachments": {},
   "cell_type": "markdown",
   "metadata": {},
   "source": [
    "Используя информацию по мидиям Петербурга и Магадана, которые представлены в виде двух массивов petersburg и magadan в разделе ANOVA тест, проверьте данные на нормальность и на наличие корреляции. Для этого объедините 2 массива в DataFrame. Обоснуйте выбор теста на корреляцию. Сделайте вывод по гипотезе.\n",
    " \n",
    " \n",
    "Также ответьте на вопрос:\n",
    "Какова разница в среднем размере мидии в зависимости от города-производителя. Обоснуйте выбор теста. Сделайте вывод по гипотезе.\n"
   ]
  },
  {
   "cell_type": "code",
   "execution_count": 3,
   "metadata": {},
   "outputs": [],
   "source": [
    "import pandas as pd"
   ]
  },
  {
   "cell_type": "code",
   "execution_count": 4,
   "metadata": {},
   "outputs": [
    {
     "data": {
      "text/html": [
       "<div>\n",
       "<style scoped>\n",
       "    .dataframe tbody tr th:only-of-type {\n",
       "        vertical-align: middle;\n",
       "    }\n",
       "\n",
       "    .dataframe tbody tr th {\n",
       "        vertical-align: top;\n",
       "    }\n",
       "\n",
       "    .dataframe thead th {\n",
       "        text-align: right;\n",
       "    }\n",
       "</style>\n",
       "<table border=\"1\" class=\"dataframe\">\n",
       "  <thead>\n",
       "    <tr style=\"text-align: right;\">\n",
       "      <th></th>\n",
       "      <th>Petersburg</th>\n",
       "      <th>Magadan</th>\n",
       "    </tr>\n",
       "  </thead>\n",
       "  <tbody>\n",
       "    <tr>\n",
       "      <th>0</th>\n",
       "      <td>0.0974</td>\n",
       "      <td>0.1033</td>\n",
       "    </tr>\n",
       "    <tr>\n",
       "      <th>1</th>\n",
       "      <td>0.1352</td>\n",
       "      <td>0.0915</td>\n",
       "    </tr>\n",
       "    <tr>\n",
       "      <th>2</th>\n",
       "      <td>0.0817</td>\n",
       "      <td>0.0781</td>\n",
       "    </tr>\n",
       "    <tr>\n",
       "      <th>3</th>\n",
       "      <td>0.1016</td>\n",
       "      <td>0.0685</td>\n",
       "    </tr>\n",
       "    <tr>\n",
       "      <th>4</th>\n",
       "      <td>0.0968</td>\n",
       "      <td>0.0677</td>\n",
       "    </tr>\n",
       "    <tr>\n",
       "      <th>5</th>\n",
       "      <td>0.1064</td>\n",
       "      <td>0.0697</td>\n",
       "    </tr>\n",
       "    <tr>\n",
       "      <th>6</th>\n",
       "      <td>0.1050</td>\n",
       "      <td>0.0764</td>\n",
       "    </tr>\n",
       "    <tr>\n",
       "      <th>7</th>\n",
       "      <td>0.1016</td>\n",
       "      <td>0.0689</td>\n",
       "    </tr>\n",
       "  </tbody>\n",
       "</table>\n",
       "</div>"
      ],
      "text/plain": [
       "   Petersburg  Magadan\n",
       "0      0.0974   0.1033\n",
       "1      0.1352   0.0915\n",
       "2      0.0817   0.0781\n",
       "3      0.1016   0.0685\n",
       "4      0.0968   0.0677\n",
       "5      0.1064   0.0697\n",
       "6      0.1050   0.0764\n",
       "7      0.1016   0.0689"
      ]
     },
     "metadata": {},
     "output_type": "display_data"
    }
   ],
   "source": [
    "#создаем объединенный датафрейм по размерам мидий, выращенный в Петербурге и Магадане\n",
    "petersburg_data = pd.DataFrame(data= petersburg , columns=['Petersburg'])\n",
    "magadan_data = pd.DataFrame(data= magadan , columns=['Magadan'])\n",
    "mid_data = pd.concat([petersburg_data, magadan_data],axis=1)\n",
    "\n",
    "#производим заполнение пропущенного значения в признаке Petersburg констанотой\n",
    "values={'Petersburg':mid_data['Petersburg'].median()}\n",
    "\n",
    "mid_data=mid_data.fillna(values)\n",
    "display(mid_data)"
   ]
  },
  {
   "attachments": {},
   "cell_type": "markdown",
   "metadata": {},
   "source": [
    "## <center>Проверка данных на нормальность"
   ]
  },
  {
   "cell_type": "code",
   "execution_count": 5,
   "metadata": {},
   "outputs": [],
   "source": [
    "H0 = 'Данные распределены нормально'\n",
    "Ha = 'Данные не распределены нормально (мы отвергаем H0)'\n",
    "\n",
    "alpha = 0.05"
   ]
  },
  {
   "cell_type": "code",
   "execution_count": 6,
   "metadata": {},
   "outputs": [
    {
     "name": "stdout",
     "output_type": "stream",
     "text": [
      "Минимальный p_value=0.036\n",
      "Данные не распределены нормально (мы отвергаем H0)\n"
     ]
    }
   ],
   "source": [
    "from scipy.stats import shapiro\n",
    "\n",
    "# осуществялем проверку на нормальность тестом Шапиро-Уилка отдельно для каждго признака и выводим результат наименьщего значения p_value\n",
    "\n",
    "_, p_peterspurg = shapiro(mid_data['Petersburg'])\n",
    "_, p_magadan = shapiro(mid_data['Magadan'])\n",
    "\n",
    "min_p = p_peterspurg\n",
    "if p_magadan > p_peterspurg:\n",
    "    min_p = p_peterspurg\n",
    "else:\n",
    "    min_p = p_magadan\n",
    "print('Минимальный p_value=%.3f' % min_p)\n",
    "\n",
    "# Интерпретация \n",
    "\n",
    "if p_peterspurg > alpha and p_magadan > alpha:\n",
    "\tprint(H0)\n",
    "else:\n",
    "\tprint(Ha)"
   ]
  },
  {
   "attachments": {},
   "cell_type": "markdown",
   "metadata": {},
   "source": [
    "## <center> Тест на корреляцию"
   ]
  },
  {
   "attachments": {},
   "cell_type": "markdown",
   "metadata": {},
   "source": [
    "В качествет теста на корреляцию выбираем тест ан корреляцию Спирмена так каr один из признаков не имеет нормального распределеня."
   ]
  },
  {
   "cell_type": "code",
   "execution_count": 7,
   "metadata": {},
   "outputs": [],
   "source": [
    "# Определяем нулевую и альтернативную гипотезы\n",
    "H0 = 'Зависимости между выборками нет'\n",
    "Ha = 'Зависимость между выборками есть'\n",
    "\n",
    "# Задаем значени alpha для теста на корреляцию\n",
    "alpha = 0.3"
   ]
  },
  {
   "cell_type": "code",
   "execution_count": 14,
   "metadata": {},
   "outputs": [
    {
     "name": "stdout",
     "output_type": "stream",
     "text": [
      "Значение коэффициента корреляции=0.16\n",
      "Есть значимая разница между средним размером раковины мидий в Петербурге и Магадане.\n"
     ]
    }
   ],
   "source": [
    "# проводим тест на корреляцию и делаем сравнение результата со значением alpha\n",
    "from scipy.stats import spearmanr\n",
    "\n",
    "corr, p = spearmanr(mid_data['Petersburg'],mid_data['Magadan'])\n",
    "\n",
    "print('Значение коэффициента корреляции=%.2f' % corr)\n",
    "if corr > alpha:\n",
    "    print(Ha)\n",
    "else:\n",
    "    print(H0)"
   ]
  },
  {
   "attachments": {},
   "cell_type": "markdown",
   "metadata": {},
   "source": [
    "Тест на корреляцию показывает отсутствие связи либо на очень слабую связь(0.16 < 0.3). Ёто также может быть обусловлено малым количеством значений в группах."
   ]
  },
  {
   "attachments": {},
   "cell_type": "markdown",
   "metadata": {},
   "source": [
    "## <center> Непараметрический тест"
   ]
  },
  {
   "attachments": {},
   "cell_type": "markdown",
   "metadata": {},
   "source": [
    "Одна из переменных не рапсределена нормально поэтому мы используем непараметрический тест. Признаки в группах являются количестсвенными. Сравниваются 2 группы. Группы происходят из разных совокупностей. Следовательно, мы используем тест суммы рангов Уилкоксона. С его помощью мы проверим нулевую гипотезу, о том что нет различий между размерами мидийй из Магадана и Санкт-Петербурга."
   ]
  },
  {
   "cell_type": "code",
   "execution_count": 9,
   "metadata": {},
   "outputs": [],
   "source": [
    "# Определяем нулевую и альтернативную гипотезы\n",
    "H0 = 'Нет значимой разницы между средним размером раковины мидий в Петербурге и Магадане.'\n",
    "Ha = 'Есть значимая разница между средним размером раковины мидий в Петербурге и Магадане.'\n",
    "\n",
    "# Задаем значени alpha для теста\n",
    "alpha = 0.05"
   ]
  },
  {
   "cell_type": "code",
   "execution_count": 12,
   "metadata": {},
   "outputs": [],
   "source": [
    "# проводим непараметрический тест суммы рангов Уилкоксона\n",
    "from scipy.stats import ranksums\n",
    "\n",
    "_, p = ranksums(mid_data['Petersburg'], mid_data['Magadan'])\n"
   ]
  },
  {
   "cell_type": "code",
   "execution_count": 13,
   "metadata": {},
   "outputs": [
    {
     "name": "stdout",
     "output_type": "stream",
     "text": [
      "0.006322947695810933 <= 0.05. Мы отвергаем нулевую гипотезу. Есть значимая разница между средним размером раковины мидий в Петербурге и Магадане.\n"
     ]
    }
   ],
   "source": [
    "# делаем сравнение результата теста со значением alpha\n",
    "if p>alpha:\n",
    "  print(f\"{p} > {alpha}. Мы не можем отвергнуть нулевую гипотезу. {H0}\")\n",
    "else:\n",
    "  print(f\"{p} <= {alpha}. Мы отвергаем нулевую гипотезу. {Ha}\")"
   ]
  },
  {
   "attachments": {},
   "cell_type": "markdown",
   "metadata": {},
   "source": [
    "## Вывод:\n",
    "1. Тест на корреляцию показал отсутсвие зависимости между выборками. Это может быть связано с малым количеством данных в выборках и пропуском одного из значений с последующим заполением его медианным значением\n",
    "2. Гипотеза о наличии разницы между размерами раковин мидий подтверждается т.к. p_value = 0.0063, что меньше $\\alpha$ = 0.05\n",
    "3. Гипотеза о наличии разницы является истинной является истинной, что подтверждется непараметрическим тестом, а также разницей в средних значениях размеров мидий равной 0,0252"
   ]
  }
 ],
 "metadata": {
  "kernelspec": {
   "display_name": "Python 3",
   "language": "python",
   "name": "python3"
  },
  "language_info": {
   "codemirror_mode": {
    "name": "ipython",
    "version": 3
   },
   "file_extension": ".py",
   "mimetype": "text/x-python",
   "name": "python",
   "nbconvert_exporter": "python",
   "pygments_lexer": "ipython3",
   "version": "3.11.0"
  },
  "orig_nbformat": 4
 },
 "nbformat": 4,
 "nbformat_minor": 2
}
