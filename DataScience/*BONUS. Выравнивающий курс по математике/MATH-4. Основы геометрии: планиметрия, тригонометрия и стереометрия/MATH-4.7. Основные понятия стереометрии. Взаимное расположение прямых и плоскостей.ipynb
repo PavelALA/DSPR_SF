{
 "cells": [
  {
   "attachments": {},
   "cell_type": "markdown",
   "metadata": {},
   "source": [
    "# <center> MATH-4.7. Основные понятия стереометрии. Взаимное расположение прямых и плоскостей\n"
   ]
  },
  {
   "attachments": {},
   "cell_type": "markdown",
   "metadata": {},
   "source": [
    "## <center> АКСИОМЫ СТЕРЕОМЕТРИИ\n",
    "\n",
    "В первую очередь важно познакомиться с ***аксиомами*** — утверждениями, которые мы будем принимать на веру и которые будут выступать фундаментом для дальнейших стереометрических суждений и концепций. Таких аксиом в стереометрии три:\n",
    "\n",
    "1. Через любые три точки, не лежащие на одной прямой, проходит плоскость, и притом только одна.\n",
    "\n",
    "![](https://lms.skillfactory.ru/assets/courseware/v1/d670be3cab2a2c1adfc80c173b8d05a7/asset-v1:SkillFactory+DSPR-2.0+14JULY2021+type@asset+block/MFTIDSLIGHT_MATH_4_7_1.png)\n",
    "\n",
    "2. Если две точки прямой лежат в этой плоскости, то все точки прямой лежат в этой плоскости.\n",
    "\n",
    "![](https://lms.skillfactory.ru/assets/courseware/v1/753251d4911ae36ad583b5100d377811/asset-v1:SkillFactory+DSPR-2.0+14JULY2021+type@asset+block/MFTIDSLIGHT_MATH_4_7_2.png)\n",
    "\n",
    "3. Если две плоскости имеют общую точку, то они имеют общую прямую, на которой лежат все общие точки этих плоскостей.\n",
    "\n",
    "![](https://lms.skillfactory.ru/assets/courseware/v1/5ac4a2ec97581d3156cae81e64448a84/asset-v1:SkillFactory+DSPR-2.0+14JULY2021+type@asset+block/MFTIDSLIGHT_MATH_4_7_3.png)\n",
    "\n"
   ]
  },
  {
   "attachments": {},
   "cell_type": "markdown",
   "metadata": {},
   "source": [
    "## <center> ПЛОСКОСТЬ И СПОСОБЫ ЕЁ ЗАДАНИЯ В ПРОСТРАНСТВЕ\n",
    "\n",
    "***Плоскость*** в стереометрии — неопределяемое понятие, но оно является таким же фундаментальным, как точка в планиметрии.\n",
    "\n",
    "Для нас важны способы задать определённую плоскость в пространстве. Таких способов четыре :\n",
    "\n",
    "1. Через три точки точки, которые не лежат на одной прямой.\n",
    "\n",
    "![](https://lms.skillfactory.ru/assets/courseware/v1/ba73daf745440d19119aa245f9d2c362/asset-v1:SkillFactory+DSPR-2.0+14JULY2021+type@asset+block/MFTIDSLIGHT_MATH_4_7_4.png)\n",
    "\n",
    "2. Через прямую и точку, не лежащую на этой прямой.\n",
    "\n",
    "![](https://lms.skillfactory.ru/assets/courseware/v1/09eabeee042b5b9d23e1a69e51b23914/asset-v1:SkillFactory+DSPR-2.0+14JULY2021+type@asset+block/MFTIDSLIGHT_MATH_4_7_5.png)\n",
    "\n",
    "3. Через две пересекающихся прямые.\n",
    "\n",
    "![](https://lms.skillfactory.ru/assets/courseware/v1/39f4d04bb7b4343b146980cb2ca97028/asset-v1:SkillFactory+DSPR-2.0+14JULY2021+type@asset+block/MFTIDSLIGHT_MATH_4_7_6.png)\n",
    "\n",
    "4. Через две параллельные прямые.\n",
    "\n",
    "![](https://lms.skillfactory.ru/assets/courseware/v1/4e76d6ac24316be2a4137487d8259c08/asset-v1:SkillFactory+DSPR-2.0+14JULY2021+type@asset+block/MFTIDSLIGHT_MATH_4_7_7.png)\n",
    "\n",
    "Плоскость обозначают строчной греческой буквой: $\\alpha,\\beta,\\gamma$..."
   ]
  },
  {
   "attachments": {},
   "cell_type": "markdown",
   "metadata": {},
   "source": [
    "## <center> ПРЯМЫЕ В ПРОСТРАНСТВЕ\n",
    "\n",
    "Существует три варианта взаимного расположения двух прямых в пространстве: они могут быть пересекающимися, параллельными и скрещивающимися.\n",
    "\n",
    "1. Прямые являются **пересекающимися**, если у них есть общая точка:\n",
    "\n",
    "![](https://lms.skillfactory.ru/assets/courseware/v1/b96434acf2d40470c89d31094e46a4a8/asset-v1:SkillFactory+DSPR-2.0+14JULY2021+type@asset+block/MFTIDSLIGHT_MATH_4_7_9.png)\n",
    "\n",
    "2. Две прямые в пространстве называются ***параллельными***, если они лежат в одной плоскости и не пересекаются.\n",
    "\n",
    "Как видите, здесь условие чуть более сложное, чем то, которое мы рассматривали в рамках планиметрии. Прямые должны не только не пересекаться, но и лежать в одной плоскости.\n",
    "\n",
    "![](https://lms.skillfactory.ru/assets/courseware/v1/8118c8fa5986c191ea0080ece9adefae/asset-v1:SkillFactory+DSPR-2.0+14JULY2021+type@asset+block/MFTIDSLIGHT_MATH_4_7_10.png)\n",
    "\n",
    "3. Прямые называются ***скрещивающимися***, если они не пересекаются и не являются параллельными. Иногда прямые называются скрещивающимися, если через них нельзя провести плоскость. Оба определения являются верными.\n",
    "\n",
    "![](https://lms.skillfactory.ru/assets/courseware/v1/05f879667e88f7d431980c26c99f20e1/asset-v1:SkillFactory+DSPR-2.0+14JULY2021+type@asset+block/MFTIDSLIGHT_MATH_4_7_11.png)"
   ]
  },
  {
   "attachments": {},
   "cell_type": "markdown",
   "metadata": {},
   "source": [
    "## <ceenter> ПРЯМАЯ И ПЛОСКОСТЬ В ПРОСТРАНСТВЕ\n",
    "\n",
    "Прямая параллельна плоскости, если она либо лежит в этой плоскости либо не имеет с ней общих точек.\n",
    "\n",
    "Существует три варианта взаимного расположения прямой и плоскости:\n",
    "\n",
    "1. Прямая имеет две общих точки с плоскостью, то есть лежит в ней.\n",
    "\n",
    "![](https://lms.skillfactory.ru/assets/courseware/v1/47140162ee097117cfb4642e37d2b9dc/asset-v1:SkillFactory+DSPR-2.0+14JULY2021+type@asset+block/MFTIDSLIGHT_MATH_4_7_15.png)\n",
    "\n",
    "2. Прямая имеет одну общую точку с плоскостью, то есть пересекает её.\n",
    "\n",
    "![](https://lms.skillfactory.ru/assets/courseware/v1/9393924ed3361379de23ba414322e009/asset-v1:SkillFactory+DSPR-2.0+14JULY2021+type@asset+block/MFTIDSLIGHT_MATH_4_7_16.png)\n",
    "\n",
    "3. Прямая не имеет общих точек с плоскостью, то есть параллельна ей.\n",
    "\n",
    "![](https://lms.skillfactory.ru/assets/courseware/v1/e7e0c5b22343cb9945e6a23f4818ce42/asset-v1:SkillFactory+DSPR-2.0+14JULY2021+type@asset+block/MFTIDSLIGHT_MATH_4_7_17.png)"
   ]
  },
  {
   "attachments": {},
   "cell_type": "markdown",
   "metadata": {},
   "source": [
    "## <center> ПЛОСКОСТИ В ПРОСТРАНСТВЕ\n",
    "\n",
    "Плоскости могут либо пересекаться, либо быть параллельными:\n",
    "\n",
    "![](https://lms.skillfactory.ru/assets/courseware/v1/0972518aec01b45ce3df394cefaddcfd/asset-v1:SkillFactory+DSPR-2.0+14JULY2021+type@asset+block/MFTIDSLIGHT_MATH_4_7_19.png) - Параллельные плоскости\n",
    "\n",
    "![](https://lms.skillfactory.ru/assets/courseware/v1/165d0ec88a30751f5f7846520f07e4c2/asset-v1:SkillFactory+DSPR-2.0+14JULY2021+type@asset+block/MFTIDSLIGHT_MATH_4_7_20.png) - Пересекающиеся плоскости\n",
    "\n"
   ]
  },
  {
   "attachments": {},
   "cell_type": "markdown",
   "metadata": {},
   "source": [
    "## <center> ПЕРПЕНДИКУЛЯРНОСТЬ\n",
    "\n",
    "Относительно пересечения различных объектов в пространстве необходимо выделить исключительный случай — ***перпендикулярность***. Про перпендикулярность прямых мы говорили ранее в контексте планиметрии, а сейчас давайте рассмотрим перпендикулярность прямой и плоскости и перпендикулярность двух плоскостей.\n",
    "\n"
   ]
  },
  {
   "attachments": {},
   "cell_type": "markdown",
   "metadata": {},
   "source": [
    "### <center> ПЕРПЕНДИКУЛЯРНОСТЬ ПРЯМОЙ И ПЛОСКОСТИ\n",
    "\n",
    "Прямая перпендикулярна плоскости, если она перпендикулярна всем прямым в этой плоскости. Конечно, проверить перпендикулярность всем прямым невозможно, поэтому пользуются более удобным признаком: прямая перпендикулярна плоскости, если она перпендикулярна двум пересекающимся прямым, лежащим в этой плоскости.\n",
    "\n",
    "![](https://lms.skillfactory.ru/assets/courseware/v1/d2d381760879cb54e3d15f9f60e20449/asset-v1:SkillFactory+DSPR-2.0+14JULY2021+type@asset+block/MFTIDSLIGHT_MATH_4_7_21.png)\n",
    "\n"
   ]
  },
  {
   "attachments": {},
   "cell_type": "markdown",
   "metadata": {},
   "source": [
    "### <center> ПЕРПЕНДИКУЛЯРНОСТЬ ДВУХ ПЛОСКОСТЕЙ\n",
    "\n",
    "Две плоскости перпендикулярны тогда и только тогда, когда одна из них проходит через перпендикуляр к другой плоскости. Угол между двумя плоскостями равен 90°:\n",
    "\n",
    "![](https://lms.skillfactory.ru/assets/courseware/v1/fd6b2e1c251dee7f60d64b56825c971a/asset-v1:SkillFactory+DSPR-2.0+14JULY2021+type@asset+block/MFTIDSLIGHT_MATH_4_7_22.png)"
   ]
  }
 ],
 "metadata": {
  "language_info": {
   "name": "python"
  },
  "orig_nbformat": 4
 },
 "nbformat": 4,
 "nbformat_minor": 2
}
