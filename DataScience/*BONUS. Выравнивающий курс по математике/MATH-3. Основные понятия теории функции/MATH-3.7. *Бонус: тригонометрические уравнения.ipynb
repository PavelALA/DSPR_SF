{
 "cells": [
  {
   "attachments": {},
   "cell_type": "markdown",
   "metadata": {},
   "source": [
    "# <center> MATH-3.7. *Бонус: тригонометрические уравнения"
   ]
  },
  {
   "attachments": {},
   "cell_type": "markdown",
   "metadata": {},
   "source": [
    "Пусть $\\alpha$ — некоторое число. Простейшие тригонометрические уравнения — это уравнения следующих видов:\n",
    "\n",
    "$cosx=\\alpha, sin x=\\alpha, tg x =\\alpha, ctg x =\\alpha$\n",
    "\n",
    "Решить простейшее тригонометрическое уравнение — значит описать множество значений переменной x, для которых данная тригонометрическая функция принимает заданное значение $\\alpha$.\n",
    "\n",
    "Для решения уравнений вида $cosx=\\alpha$ нам потребуется новая вспомогательная функция — ***арккосинус***:\n",
    "\n",
    "$t=arccos\\alpha,|\\alpha|\\leq1\\iff\\begin{cases}cost=\\alpha\\\\0\\leq t \\leq \\pi \\end{cases}$\n",
    "\n",
    "Другими словами, $arccos\\alpha$ — это такое число из отрезка [0,\\pi], косинус которого равен $\\alpha$: $cos t=\\alpha$. Например, если $cos90=0, то $arccos(0)=90$.\n",
    "\n",
    "Аналогично определяются ***арксинус, арктангенс и арккотангенс***:\n",
    "\n",
    "$t=arcsin\\alpha,|\\alpha|\\leq1\\iff\\begin{cases}sint=\\alpha\\\\-\\frac{\\pi}{2} \\leq t \\leq \\frac{\\pi}{2} \\end{cases}$\n",
    "\n",
    "$t=arctg\\alpha,|\\alpha|\\leq1\\iff\\begin{cases}tgt=\\alpha\\\\-\\frac{\\pi}{2} \\leq t \\leq \\frac{\\pi}{2} \\end{cases}$\n",
    "\n",
    "$t=arcctg\\alpha,|\\alpha|\\leq1\\iff\\begin{cases}ctgt=\\alpha\\\\0\\leq t \\leq \\pi \\end{cases}$\n",
    "\n",
    "Функции $y=\\arcsin x$, $y=\\arccos x$, $y=\\arctg x$ и $y=\\arcctg x$ называются ***обратными тригонометрическими функциями***.\n"
   ]
  },
  {
   "attachments": {},
   "cell_type": "markdown",
   "metadata": {},
   "source": [
    "Решим тригонометрическое уравнение $cos(x)=\\frac{1}{2}$.\n",
    "\n",
    "Отметим эту точку на тригонометрической окружности (поскольку это косинус, то отмечаем по оси x) — видим, что точке соответствуют два значения угла: $\\frac{\\pi}{3}$ и $-\\frac{\\pi}{3}$:\n",
    "\n",
    "![](https://lms.skillfactory.ru/assets/courseware/v1/a53e70ce6a348120a661019191116962/asset-v1:SkillFactory+DSPR-2.0+14JULY2021+type@asset+block/MFTIDSLIGHT_MATH_3_7_1.png)\n",
    "\n",
    "В принципе, это и есть ответы, но необходимо учесть, что угол будет бесконечно увеличиваться и бесконечно уменьшаться и через каждые 360 градусов ($2\\pi$) мы снова будем получать подходящий корень. Поэтому обозначим этот период повтора с помощью добавления $2\\pi n$, где $n$ может быть только целым числом."
   ]
  },
  {
   "attachments": {},
   "cell_type": "markdown",
   "metadata": {},
   "source": [
    "Таким образом, все углы, которые являются решениями уравнения, описываются следующим образом:\n",
    "\n",
    "$x_1=\\frac{\\pi}{3}+2\\pi n$ где $n\\in Z$\n",
    "\n",
    "$x_2=-\\frac{\\pi}{3}+2\\pi n$ где $n\\in Z$\n",
    "\n",
    "В общем виде формулировка решения для простейшего тригонометрического уравнения с косинусом будет выглядеть следующим образом:\n",
    "\n",
    "$\\cos x = \\alpha\\iff\\begin{cases}x=\\pm\\arccos \\alpha+2\\pi k, k\\in Z, при |\\alpha|\\leq1\\\\нет решений при \\alpha>1\\end{cases}$\n",
    "\n",
    "По аналогии есть формулы для решений других тригонометрических уравнений:\n",
    "\n",
    "$\\sin x = \\alpha\\iff\\begin{cases}x=\\arcsin \\alpha+a\\pi k, k\\in Z, при |\\alpha|\\leq1\\\\x=\\pi-arcsin\\alpha+2\\pi k, k\\in Z, при |\\alpha|\\leq1\\end{cases}$\n",
    "\n",
    "$\\tg x = \\alpha\\iff x=\\arctg \\alpha+\\pi k, k\\in Z$\n",
    "\n",
    "$\\ctg x = \\alpha\\iff x=\\arcctg \\alpha+\\pi k, k\\in Z$"
   ]
  },
  {
   "attachments": {},
   "cell_type": "markdown",
   "metadata": {},
   "source": [
    "Рассмотрим ещё один пример решения уравнения с использованием приведённых выше формул:\n",
    "\n",
    "$\\sin x=\\frac{1}{2}$\n",
    "\n",
    "Получаем пару точек с ординатой $\\frac{1}{2}$:\n",
    "\n",
    "![](https://lms.skillfactory.ru/assets/courseware/v1/121b1f7a5c57ce52d40a03709bcf9288/asset-v1:SkillFactory+DSPR-2.0+14JULY2021+type@asset+block/MFTIDSLIGHT_MATH_3_7_2.png)\n",
    "\n",
    "Получаем ответ по формуле:\n",
    "\n",
    "$\\begin{cases}x_1=\\frac{\\pi}{6}+a=2\\pi n, n\\in Z\\\\ x_2=\\frac{5\\pi}{6}+2 \\pi n, n \\in Z\\end{cases}$"
   ]
  }
 ],
 "metadata": {
  "language_info": {
   "name": "python"
  },
  "orig_nbformat": 4
 },
 "nbformat": 4,
 "nbformat_minor": 2
}
